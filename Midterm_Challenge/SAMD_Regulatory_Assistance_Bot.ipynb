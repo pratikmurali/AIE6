{
 "cells": [
  {
   "cell_type": "markdown",
   "metadata": {},
   "source": [
    "Imports Required for LangGraph and Tools"
   ]
  },
  {
   "cell_type": "code",
   "execution_count": 1,
   "metadata": {},
   "outputs": [],
   "source": [
    "from typing import TypedDict, List, Dict, Any, Annotated, Sequence, Optional\n",
    "from langchain_core.messages import BaseMessage, HumanMessage, AIMessage, FunctionMessage\n",
    "from langchain_openai import ChatOpenAI\n",
    "from langgraph.graph import END, StateGraph\n",
    "from langchain.tools import tool\n",
    "import requests\n",
    "import urllib.parse\n",
    "import json\n",
    "import os\n",
    "from dotenv import load_dotenv"
   ]
  },
  {
   "cell_type": "markdown",
   "metadata": {},
   "source": [
    "Load the Environment Variables."
   ]
  },
  {
   "cell_type": "code",
   "execution_count": 2,
   "metadata": {},
   "outputs": [
    {
     "data": {
      "text/plain": [
       "True"
      ]
     },
     "execution_count": 2,
     "metadata": {},
     "output_type": "execute_result"
    }
   ],
   "source": [
    "\n",
    "# Load environment variables\n",
    "load_dotenv()"
   ]
  },
  {
   "cell_type": "markdown",
   "metadata": {},
   "source": [
    "****RAG Agent for FDA Regulatory Topics for SAMD****\n",
    "Next we will build a RAG Agent!"
   ]
  },
  {
   "cell_type": "code",
   "execution_count": 3,
   "metadata": {},
   "outputs": [
    {
     "name": "stdout",
     "output_type": "stream",
     "text": [
      "Loaded doc: imdrf-tech-151002-samd-qms.pdf\n",
      "Loaded doc: s41746-024-01270-x.pdf\n",
      "Loaded doc: imdrf-tech-131209-samd-key-definitions-140901.pdf\n",
      "Loaded doc: Guidance-Predetermined-Change-Control-Plans.pdf\n",
      "Loaded doc: Premarket-Software-Functions-Guidance.pdf\n"
     ]
    }
   ],
   "source": [
    "# Import required libraries\n",
    "from langchain.document_loaders import PyMuPDFLoader\n",
    "from langchain.schema import Document\n",
    "import os\n",
    "from typing import List\n",
    "\n",
    "def read_pdf_documents(docs_dir: str = \"docs\") -> List[Document]:\n",
    "    \"\"\"\n",
    "    Read PDF documents from the specified directory returning a list of documents.\n",
    "    \n",
    "    Args:\n",
    "        docs_dir (str): Path to directory containing PDF documents\n",
    "        \n",
    "    Returns:\n",
    "        List[str]: List of extracted text content from PDFs\n",
    "    \"\"\"\n",
    "    documents = []\n",
    "    \n",
    "    # Iterate through files in docs directory\n",
    "    for filename in os.listdir(docs_dir):\n",
    "        if filename.endswith(\".pdf\"):\n",
    "            pdf_path = os.path.join(docs_dir, filename)\n",
    "            \n",
    "            try:\n",
    "                temp_doc = PyMuPDFLoader(pdf_path).load()\n",
    "                documents.extend(temp_doc)\n",
    "                print(f\"Loaded doc: {filename}\")\n",
    "                \n",
    "            except Exception as e:\n",
    "                print(f\"Error reading {filename}: {str(e)}\")\n",
    "                \n",
    "    return documents\n",
    "\n",
    "# Read PDF documents\n",
    "pdf_documents = read_pdf_documents()\n",
    "\n"
   ]
  },
  {
   "cell_type": "markdown",
   "metadata": {},
   "source": [
    "Now we Chunk the docs"
   ]
  },
  {
   "cell_type": "code",
   "execution_count": 4,
   "metadata": {},
   "outputs": [
    {
     "name": "stdout",
     "output_type": "stream",
     "text": [
      "Loaded doc: imdrf-tech-151002-samd-qms.pdf\n",
      "Loaded doc: s41746-024-01270-x.pdf\n",
      "Loaded doc: imdrf-tech-131209-samd-key-definitions-140901.pdf\n",
      "Loaded doc: Guidance-Predetermined-Change-Control-Plans.pdf\n",
      "Loaded doc: Premarket-Software-Functions-Guidance.pdf\n"
     ]
    }
   ],
   "source": [
    "import tiktoken\n",
    "from langchain.text_splitter import RecursiveCharacterTextSplitter\n",
    "\n",
    "def tiktoken_len(text):\n",
    "    tokens = tiktoken.encoding_for_model(\"gpt-4o-mini\").encode(\n",
    "        text,\n",
    "    )\n",
    "    return len(tokens)\n",
    "\n",
    "text_splitter = RecursiveCharacterTextSplitter(\n",
    "    chunk_size = 800,\n",
    "    chunk_overlap = 0,\n",
    "    length_function = tiktoken_len,\n",
    ")\n",
    "\n",
    "docs = read_pdf_documents()\n",
    "split_chunks = text_splitter.split_documents(docs)"
   ]
  },
  {
   "cell_type": "code",
   "execution_count": 5,
   "metadata": {},
   "outputs": [
    {
     "data": {
      "text/plain": [
       "172"
      ]
     },
     "execution_count": 5,
     "metadata": {},
     "output_type": "execute_result"
    }
   ],
   "source": [
    "len(split_chunks)"
   ]
  },
  {
   "cell_type": "markdown",
   "metadata": {},
   "source": [
    "Now we create out Embedding Model"
   ]
  },
  {
   "cell_type": "code",
   "execution_count": 6,
   "metadata": {},
   "outputs": [],
   "source": [
    "from langchain_openai.embeddings import OpenAIEmbeddings\n",
    "\n",
    "embedding_model = OpenAIEmbeddings(model=\"text-embedding-3-large\")"
   ]
  },
  {
   "cell_type": "markdown",
   "metadata": {},
   "source": [
    "Now we can create our QDrant backed vector store!"
   ]
  },
  {
   "cell_type": "code",
   "execution_count": 7,
   "metadata": {},
   "outputs": [],
   "source": [
    "from langchain_community.vectorstores import Qdrant\n",
    "\n",
    "qdrant_vectorstore = Qdrant.from_documents(\n",
    "    split_chunks,\n",
    "    embedding_model,\n",
    "    location=\":memory:\",\n",
    "    collection_name=\"fda_guidance_for_samd_and_aiml\",\n",
    ")"
   ]
  },
  {
   "cell_type": "markdown",
   "metadata": {},
   "source": [
    "Let us create a retriver to access this"
   ]
  },
  {
   "cell_type": "code",
   "execution_count": 8,
   "metadata": {},
   "outputs": [],
   "source": [
    "qdrant_retriever = qdrant_vectorstore.as_retriever()"
   ]
  },
  {
   "cell_type": "markdown",
   "metadata": {},
   "source": [
    "Now we will create a RAG Prompt"
   ]
  },
  {
   "cell_type": "code",
   "execution_count": 9,
   "metadata": {},
   "outputs": [],
   "source": [
    "from langchain_core.prompts import ChatPromptTemplate\n",
    "\n",
    "RAG_PROMPT = \"\"\"\n",
    "CONTEXT:\n",
    "{context}\n",
    "\n",
    "QUERY:\n",
    "{question}\n",
    "\n",
    "You are a helpful FDA Auditor. Use the available context to answer the question. If you can't answer the question, say you don't know.\n",
    "\"\"\"\n",
    "\n",
    "rag_prompt = ChatPromptTemplate.from_template(RAG_PROMPT)"
   ]
  },
  {
   "cell_type": "markdown",
   "metadata": {},
   "source": [
    "Let us put the G in RAG"
   ]
  },
  {
   "cell_type": "code",
   "execution_count": 10,
   "metadata": {},
   "outputs": [],
   "source": [
    "from langchain_openai import ChatOpenAI\n",
    "\n",
    "openai_chat_model = ChatOpenAI(model=\"gpt-4o-mini\")"
   ]
  },
  {
   "cell_type": "markdown",
   "metadata": {},
   "source": [
    "Lastly we combine our R,A and G into an LCEL Chain!"
   ]
  },
  {
   "cell_type": "code",
   "execution_count": 11,
   "metadata": {},
   "outputs": [],
   "source": [
    "from operator import itemgetter\n",
    "from langchain.schema.output_parser import StrOutputParser\n",
    "\n",
    "rag_chain = (\n",
    "    {\"context\": itemgetter(\"question\") | qdrant_retriever, \"question\": itemgetter(\"question\")}\n",
    "    | rag_prompt | openai_chat_model | StrOutputParser()\n",
    ")"
   ]
  },
  {
   "cell_type": "markdown",
   "metadata": {},
   "source": [
    "Let us test this and make sure that it works."
   ]
  },
  {
   "cell_type": "code",
   "execution_count": 12,
   "metadata": {},
   "outputs": [
    {
     "data": {
      "text/plain": [
       "'Yes, you may need a new 510(k) submission if the modification to your machine learning model constitutes a significant change that could affect the safety or effectiveness of the device. However, if the modification is planned and falls under a predetermined change control plan (PCCP) that has been authorized, you may not need to submit a new 510(k) for each modification.\\n\\nAccording to the guidance, significant changes or modifications that require a 510(k) include changes in design, material, chemical composition, energy source, or manufacturing process that could significantly affect the device. Therefore, it is recommended to conduct a risk-based assessment to determine if the modification requires a new marketing submission. If the modification is included in an authorized PCCP, then it can be made without a new submission, provided the device remains safe and effective as originally cleared.'"
      ]
     },
     "execution_count": 12,
     "metadata": {},
     "output_type": "execute_result"
    }
   ],
   "source": [
    "rag_chain.invoke({\"question\" : \"Do i need a new 510K submission each time i make a modification to my machine learning model?\"})"
   ]
  },
  {
   "cell_type": "markdown",
   "metadata": {},
   "source": [
    "Let us now create a RAG tool to be used in a LangGraph Agent Node."
   ]
  },
  {
   "cell_type": "code",
   "execution_count": 13,
   "metadata": {},
   "outputs": [],
   "source": [
    "from typing import Annotated, List, Tuple, Union\n",
    "from langchain_core.tools import tool\n",
    "\n",
    "@tool\n",
    "def retrieve_fda_information(\n",
    "    query: Annotated[str, \"query to ask the retrieve information tool\"]\n",
    "    ):\n",
    "    \"\"\"You are an FDA Regulatory expert who can provide information on the following regulatory topics:\n",
    "    1. AI and ML topics related to software as a medical device \n",
    "    2. Premarket software functions guidance\n",
    "    3. Quality Management (QMS) systems \n",
    "    4. Reporting gaps in FDA-approved AI medical devices\n",
    "    \"\"\"\n",
    "    return rag_chain.invoke({\"question\": query})"
   ]
  },
  {
   "cell_type": "markdown",
   "metadata": {},
   "source": [
    "****Cybersecurity RAG Agent****\n",
    "\n",
    "We now create another RAG Agent for Cybersecurity Requirements\n",
    "\n",
    "First we will load and Split the documents"
   ]
  },
  {
   "cell_type": "code",
   "execution_count": 14,
   "metadata": {},
   "outputs": [
    {
     "name": "stdout",
     "output_type": "stream",
     "text": [
      "Loaded doc: Guidance-Device-Cybersecurity-Premarket.pdf\n",
      "Loaded doc: 2303.03140v1.pdf\n",
      "Loaded doc: Postmarket-Management-of-Cybersecurity-in-Medical-Devices---Guidance-for-Industry-and-Food-and-Drug-Administration-Staff.pdf\n"
     ]
    },
    {
     "data": {
      "text/plain": [
       "132"
      ]
     },
     "execution_count": 14,
     "metadata": {},
     "output_type": "execute_result"
    }
   ],
   "source": [
    "pdf_documents = read_pdf_documents(docs_dir=\"docs/cybersecurity\")\n",
    "cyber_security_split_chunks = text_splitter.split_documents(pdf_documents)\n",
    "len(cyber_security_split_chunks)          "
   ]
  },
  {
   "cell_type": "markdown",
   "metadata": {},
   "source": [
    "We create an Embedding Model for the CyberSecurity documents"
   ]
  },
  {
   "cell_type": "code",
   "execution_count": 15,
   "metadata": {},
   "outputs": [],
   "source": [
    "embedding_model = OpenAIEmbeddings(model=\"text-embedding-3-large\")"
   ]
  },
  {
   "cell_type": "markdown",
   "metadata": {},
   "source": [
    "Then we create a QDrant Datatore on disk"
   ]
  },
  {
   "cell_type": "code",
   "execution_count": 16,
   "metadata": {},
   "outputs": [],
   "source": [
    "\n",
    "cyber_security_qdrant_vectorstore = Qdrant.from_documents(\n",
    "    cyber_security_split_chunks,\n",
    "    embedding_model,\n",
    "    location=\":memory:\",  # Local path where data will be stored\n",
    "    collection_name=\"cybersecurity_requirements\",\n",
    ")"
   ]
  },
  {
   "cell_type": "markdown",
   "metadata": {},
   "source": [
    "Next we create a retriever"
   ]
  },
  {
   "cell_type": "code",
   "execution_count": 17,
   "metadata": {},
   "outputs": [],
   "source": [
    "cyber_security_qdrant_retriever = qdrant_vectorstore.as_retriever()"
   ]
  },
  {
   "cell_type": "markdown",
   "metadata": {},
   "source": [
    "Let us construct a RAG Prompt"
   ]
  },
  {
   "cell_type": "code",
   "execution_count": 18,
   "metadata": {},
   "outputs": [],
   "source": [
    "RAG_PROMPT = \"\"\"\n",
    "CONTEXT:\n",
    "{context}\n",
    "\n",
    "QUERY:\n",
    "{question}\n",
    "\n",
    "You are a helpful Cybersecurity Expert in the field of FDA Software as a Medical Device. Use the available context to answer the question. \n",
    "If you can't answer the question, say you don't know.\n",
    "\"\"\"\n",
    "\n",
    "cyber_security_rag_prompt = ChatPromptTemplate.from_template(RAG_PROMPT)"
   ]
  },
  {
   "cell_type": "markdown",
   "metadata": {},
   "source": [
    "Now we'll create a Generation model"
   ]
  },
  {
   "cell_type": "code",
   "execution_count": 19,
   "metadata": {},
   "outputs": [],
   "source": [
    "\n",
    "cyber_security_openai_chat_model = ChatOpenAI(model=\"gpt-4o-mini\")"
   ]
  },
  {
   "cell_type": "markdown",
   "metadata": {},
   "source": [
    "Lastly we will create an LCEL RAG Chain for Cybersecurity"
   ]
  },
  {
   "cell_type": "code",
   "execution_count": 20,
   "metadata": {},
   "outputs": [],
   "source": [
    "cyber_security_rag_chain = (\n",
    "    {\"context\": itemgetter(\"question\") | cyber_security_qdrant_retriever, \"question\": itemgetter(\"question\")}\n",
    "    | cyber_security_rag_prompt | cyber_security_openai_chat_model | StrOutputParser()\n",
    ")"
   ]
  },
  {
   "cell_type": "markdown",
   "metadata": {},
   "source": [
    "Let us test this chain"
   ]
  },
  {
   "cell_type": "code",
   "execution_count": 21,
   "metadata": {},
   "outputs": [
    {
     "data": {
      "text/plain": [
       "'To ensure that cybersecurity requirements are incorporated into design inputs and verified in design outputs for Software as a Medical Device (SaMD), the following steps can be taken:\\n\\n1. **Incorporate Cybersecurity into Design Inputs**:\\n   - Identify cybersecurity requirements early in the design process, based on user needs, intended use, and applicable regulations. This should include considerations for maintaining patient safety, confidentiality, availability, and integrity of critical functions and data.\\n   - Analyze potential security threats and vulnerabilities during the requirements phase, considering the operational environment where the SaMD will be used (e.g., home, hospital, clinic). This includes assessing clinical hazards that might impact design.\\n   - Document these cybersecurity requirements in software requirements specifications (SRS), ensuring that they are part of the overall system architecture and design considerations.\\n\\n2. **Verification and Validation**:\\n   - During the design phase, implement a clear and concise design that addresses cybersecurity threats and incorporates risk mitigation solutions. Design outputs should include detailed descriptions of how the architecture prevents hazards and manages vulnerabilities.\\n   - Use verification methods such as tracing identified cybersecurity hazards to specific risk control measures documented in the SRS and software design specifications (SDS). This includes creating test cases that demonstrate the effectiveness of these measures.\\n   - Conduct security testing at various stages of development to validate that the implemented control measures function as intended and that they provide adequate protection against potential cyber threats.\\n\\n3. **Risk Management Practices**:\\n   - Follow a risk management plan that includes assessing whether the risk control measures introduced new hazards or affected the initial risk evaluation. This should encompass both the effectiveness of cybersecurity controls and their impact on overall system performance.\\n   - Ensure thorough documentation of the risk management process, tracing all cybersecurity requirements through to their corresponding verification activities, such as unit tests, integration tests, and system tests.\\n\\nBy integrating these practices into the design and development lifecycle, organizations can ensure that cybersecurity is a fundamental aspect of both design inputs and design outputs for SaMD. This approach aligns with the guidance highlighted in the materials regarding the documentation and verification of cybersecurity measures throughout the product lifecycle.'"
      ]
     },
     "execution_count": 21,
     "metadata": {},
     "output_type": "execute_result"
    }
   ],
   "source": [
    "cyber_security_rag_chain.invoke({\"question\" : \"How do you ensure that cybersecurity requirements are incorporated into design inputs and verified in design outputs?\"})"
   ]
  },
  {
   "cell_type": "markdown",
   "metadata": {},
   "source": [
    "Lastly we will create a RAG tool to retrieve cybersecurity information"
   ]
  },
  {
   "cell_type": "code",
   "execution_count": 22,
   "metadata": {},
   "outputs": [],
   "source": [
    "\n",
    "@tool\n",
    "def retrieve_cybersecurity_information(\n",
    "    query: Annotated[str, \"query to ask the retrieve information tool\"]\n",
    "    ):\n",
    "    \"\"\"You are an FDA Cybersecurity expert who can provide information on the following regulatory topics:\n",
    "    1. Cybersecurity requirements for FDA submissions\n",
    "    2. Cybersecurity requirements for FDA-approved AI medical devices\n",
    "    3. Pre-Market Cybersecurity requirements for FDA-approved software as a medical device\n",
    "    4. Post-Market Cybersecurity requirements for FDA-approved software as a medical device\n",
    "    5. NIST Cybersecurity framework\n",
    "    6. Risks, Legislation and Challenges in Cybersecurity for FDA-approved software as a medical device\n",
    "    \"\"\"\n",
    "    return cyber_security_rag_chain.invoke({\"question\": query})"
   ]
  },
  {
   "cell_type": "markdown",
   "metadata": {},
   "source": [
    "So Far we have created:\n",
    "\n",
    "1. FDA Regulatory Submissions RAG agent who is primed to questions regarding regulatory submissions.\n",
    "2. FDA Cybersecurity RAG Agent who can answer any queries regarding cybersecurity requirements for FDA submissions.\n",
    "   \n",
    "Time to put everything together under an Agentic Workflow"
   ]
  },
  {
   "cell_type": "markdown",
   "metadata": {},
   "source": [
    "Let us first create a ***Tool Belt***"
   ]
  },
  {
   "cell_type": "code",
   "execution_count": 23,
   "metadata": {},
   "outputs": [],
   "source": [
    "tool_belt = [\n",
    "    retrieve_fda_information,\n",
    "    retrieve_cybersecurity_information\n",
    "]"
   ]
  },
  {
   "cell_type": "markdown",
   "metadata": {},
   "source": [
    "Now let us setup the model and bind the tool bet to the model"
   ]
  },
  {
   "cell_type": "code",
   "execution_count": 24,
   "metadata": {},
   "outputs": [],
   "source": [
    "from langchain_openai import ChatOpenAI\n",
    "\n",
    "model = ChatOpenAI(model=\"gpt-4-turbo\", temperature=0)\n",
    "\n",
    "model = model.bind_tools(tool_belt)"
   ]
  },
  {
   "cell_type": "markdown",
   "metadata": {},
   "source": [
    "Now we will create an Agent State"
   ]
  },
  {
   "cell_type": "code",
   "execution_count": 25,
   "metadata": {},
   "outputs": [],
   "source": [
    "from typing import TypedDict, Annotated\n",
    "from langgraph.graph.message import add_messages\n",
    "import operator\n",
    "from langchain_core.messages import BaseMessage\n",
    "\n",
    "class AgentState(TypedDict):\n",
    "  messages: Annotated[list, add_messages]"
   ]
  },
  {
   "cell_type": "markdown",
   "metadata": {},
   "source": [
    "Next we will create the two nodes in the graph"
   ]
  },
  {
   "cell_type": "code",
   "execution_count": 26,
   "metadata": {},
   "outputs": [],
   "source": [
    "from langgraph.prebuilt import ToolNode\n",
    "\n",
    "def call_model(state):\n",
    "  messages = state[\"messages\"]\n",
    "  response = model.invoke(messages)\n",
    "  return {\"messages\" : [response]}\n",
    "\n",
    "tool_node = ToolNode(tool_belt)"
   ]
  },
  {
   "cell_type": "markdown",
   "metadata": {},
   "source": [
    "Then will will create the graph"
   ]
  },
  {
   "cell_type": "code",
   "execution_count": 27,
   "metadata": {},
   "outputs": [],
   "source": [
    "from langgraph.graph import StateGraph, END\n",
    "\n",
    "regulatory_framework_graph = StateGraph(AgentState)\n",
    "\n",
    "regulatory_framework_graph.add_node(\"agent\", call_model)\n",
    "regulatory_framework_graph.add_node(\"action\", tool_node)\n",
    "regulatory_framework_graph.set_entry_point(\"agent\")\n",
    "\n",
    "def should_continue(state):\n",
    "  last_message = state[\"messages\"][-1]\n",
    "\n",
    "  if last_message.tool_calls:\n",
    "    return \"action\"\n",
    "\n",
    "  return END\n",
    "\n",
    "regulatory_framework_graph.add_conditional_edges(\n",
    "    \"agent\",\n",
    "    should_continue\n",
    ")\n",
    "regulatory_framework_graph.add_edge(\"action\", \"agent\")\n",
    "compiled_regulatory_framework_graph = regulatory_framework_graph.compile()"
   ]
  },
  {
   "cell_type": "code",
   "execution_count": 28,
   "metadata": {},
   "outputs": [
    {
     "data": {
      "image/png": "[encoded data removed]",
      "text/plain": [
       "<IPython.core.display.Image object>"
      ]
     },
     "metadata": {},
     "output_type": "display_data"
    }
   ],
   "source": [
    "from IPython.display import Image, display\n",
    "\n",
    "# Generate the PNG data\n",
    "mermaid_png = compiled_regulatory_framework_graph.get_graph().draw_mermaid_png()\n",
    "\n",
    "# Display the image properly\n",
    "display(Image(data=mermaid_png))"
   ]
  },
  {
   "cell_type": "code",
   "execution_count": 29,
   "metadata": {},
   "outputs": [
    {
     "name": "stdout",
     "output_type": "stream",
     "text": [
      "Receiving update from node: 'agent'\n",
      "[AIMessage(content='', additional_kwargs={'tool_calls': [{'id': 'call_gRUmhWrjVWr4kUx7CoY99zvG', 'function': {'arguments': '{\"query\":\"PCCP requirements\"}', 'name': 'retrieve_cybersecurity_information'}, 'type': 'function'}], 'refusal': None}, response_metadata={'token_usage': {'completion_tokens': 22, 'prompt_tokens': 268, 'total_tokens': 290, 'completion_tokens_details': {'accepted_prediction_tokens': 0, 'audio_tokens': 0, 'reasoning_tokens': 0, 'rejected_prediction_tokens': 0}, 'prompt_tokens_details': {'audio_tokens': 0, 'cached_tokens': 0}}, 'model_name': 'gpt-4-turbo-2024-04-09', 'system_fingerprint': 'fp_de235176ee', 'id': 'chatcmpl-BVqPCTOQiCWLSdlas1OEiVoJ5Fy9Y', 'service_tier': 'default', 'finish_reason': 'tool_calls', 'logprobs': None}, id='run--99994f16-847a-4cc6-a6b2-60a58e881974-0', tool_calls=[{'name': 'retrieve_cybersecurity_information', 'args': {'query': 'PCCP requirements'}, 'id': 'call_gRUmhWrjVWr4kUx7CoY99zvG', 'type': 'tool_call'}], usage_metadata={'input_tokens': 268, 'output_tokens': 22, 'total_tokens': 290, 'input_token_details': {'audio': 0, 'cache_read': 0}, 'output_token_details': {'audio': 0, 'reasoning': 0}})]\n",
      "\n",
      "\n",
      "\n",
      "Receiving update from node: 'action'\n",
      "[ToolMessage(content='The context provided discusses the requirements for Predetermined Change Control Plans (PCCPs) for medical devices as outlined by the FDA. Here are the key requirements mentioned:\\n\\n1. **Specificity of Modifications**: A PCCP should include specific modifications that the manufacturer intends to make over time that would generally require a new marketing submission.\\n\\n2. **Single Version Control**: Manufacturers should maintain only one version of an authorized PCCP for their device. This version can evolve through future marketing submissions where a new version can be authorized.\\n\\n3. **Implementation of Modifications**: If manufacturers implement modifications consistent with the authorized PCCP, they should summarize these modifications in any new marketing submission to inform the FDA about current device characteristics and performance.\\n\\n4. **Annual Reporting**: For devices subject to Pre-Market Approval (PMA) requirements, an Annual Report is required, which must include information about devices sold and a description of any changes implemented through an authorized PCCP.\\n\\n5. **Labeling Updates**: If a modification implemented under an authorized PCCP necessitates an update to the labeling, manufacturers must provide a summary of the updated labeling in the Annual Report.\\n\\n6. **Comparative Analysis for 510(k) Submissions**: When making a 510(k) submission that includes modifications implemented under a PCCP, a comparison needs to be made against the version of the predicate device cleared or approved before the changes were made.\\n\\nThe guidance aims to facilitate manufacturers in making changes to their devices without needing separate FDA authorization for each change, provided they follow the established PCCP.', name='retrieve_cybersecurity_information', id='9629f8c4-1f3c-4197-9b3a-f7e4cd803adc', tool_call_id='call_gRUmhWrjVWr4kUx7CoY99zvG')]\n",
      "\n",
      "\n",
      "\n",
      "Receiving update from node: 'agent'\n",
      "[AIMessage(content=\"A Predetermined Change Control Plan (PCCP) is required under the following circumstances for medical devices:\\n\\n1. **Specific Modifications**: When a manufacturer plans specific modifications to a medical device that would typically require a new marketing submission, a PCCP can be used to outline these changes in advance.\\n\\n2. **Version Control**: Manufacturers must maintain only one authorized version of a PCCP for their device, which can be updated through future marketing submissions.\\n\\n3. **Implementation Consistency**: Modifications made according to the authorized PCCP should be summarized in any new marketing submission to keep the FDA informed about the device's current characteristics and performance.\\n\\n4. **Annual Reporting**: For devices subject to Pre-Market Approval (PMA), an Annual Report is necessary, detailing devices sold and describing any changes made through the PCCP.\\n\\n5. **Labeling Updates**: If changes under the PCCP require updates to the device's labeling, these must be summarized in the Annual Report.\\n\\n6. **Comparative Analysis for 510(k) Submissions**: In 510(k) submissions that include modifications made under a PCCP, a comparison with the version of the predicate device before the changes is required.\\n\\nThe PCCP allows manufacturers to manage modifications to their devices efficiently without needing separate FDA authorization for each change, as long as they adhere to the established plan.\", additional_kwargs={'refusal': None}, response_metadata={'token_usage': {'completion_tokens': 277, 'prompt_tokens': 616, 'total_tokens': 893, 'completion_tokens_details': {'accepted_prediction_tokens': 0, 'audio_tokens': 0, 'reasoning_tokens': 0, 'rejected_prediction_tokens': 0}, 'prompt_tokens_details': {'audio_tokens': 0, 'cached_tokens': 0}}, 'model_name': 'gpt-4-turbo-2024-04-09', 'system_fingerprint': 'fp_de235176ee', 'id': 'chatcmpl-BVqPJMMmQmIRIXk1vBeGoLn1wmFNK', 'service_tier': 'default', 'finish_reason': 'stop', 'logprobs': None}, id='run--44cf26ae-b5f9-4769-a0a0-08824ba1fbf4-0', usage_metadata={'input_tokens': 616, 'output_tokens': 277, 'total_tokens': 893, 'input_token_details': {'audio': 0, 'cache_read': 0}, 'output_token_details': {'audio': 0, 'reasoning': 0}})]\n",
      "\n",
      "\n",
      "\n"
     ]
    }
   ],
   "source": [
    "from langchain_core.messages import HumanMessage\n",
    "\n",
    "inputs = {\"messages\" : [HumanMessage(content=\"Under what circumstances is a PCCP required?\")]}\n",
    "\n",
    "async for chunk in compiled_regulatory_framework_graph.astream(inputs, stream_mode=\"updates\"):\n",
    "    for node, values in chunk.items():\n",
    "        print(f\"Receiving update from node: '{node}'\")\n",
    "        print(values[\"messages\"])\n",
    "        print(\"\\n\\n\")"
   ]
  },
  {
   "cell_type": "code",
   "execution_count": 30,
   "metadata": {},
   "outputs": [
    {
     "name": "stdout",
     "output_type": "stream",
     "text": [
      "Receiving update from node: 'agent'\n",
      "[AIMessage(content='', additional_kwargs={'tool_calls': [{'id': 'call_DXciEi33PeHcMkBVUl9ytZVv', 'function': {'arguments': '{\"query\": \"Quality Management Systems requirements for Software as a Medical Device\"}', 'name': 'retrieve_fda_information'}, 'type': 'function'}, {'id': 'call_m3ueEDbV1IMm8r239lsxDHhl', 'function': {'arguments': '{\"query\": \"Cybersecurity requirements in Quality Management Systems for FDA-approved software as a medical device\"}', 'name': 'retrieve_cybersecurity_information'}, 'type': 'function'}], 'refusal': None}, response_metadata={'token_usage': {'completion_tokens': 74, 'prompt_tokens': 277, 'total_tokens': 351, 'completion_tokens_details': {'accepted_prediction_tokens': 0, 'audio_tokens': 0, 'reasoning_tokens': 0, 'rejected_prediction_tokens': 0}, 'prompt_tokens_details': {'audio_tokens': 0, 'cached_tokens': 0}}, 'model_name': 'gpt-4-turbo-2024-04-09', 'system_fingerprint': 'fp_de235176ee', 'id': 'chatcmpl-BVqROWmRAtvKQfVgy3uz9yNC95ef9', 'service_tier': 'default', 'finish_reason': 'tool_calls', 'logprobs': None}, id='run--d02d098e-2e07-47c1-8861-f60450e2bc94-0', tool_calls=[{'name': 'retrieve_fda_information', 'args': {'query': 'Quality Management Systems requirements for Software as a Medical Device'}, 'id': 'call_DXciEi33PeHcMkBVUl9ytZVv', 'type': 'tool_call'}, {'name': 'retrieve_cybersecurity_information', 'args': {'query': 'Cybersecurity requirements in Quality Management Systems for FDA-approved software as a medical device'}, 'id': 'call_m3ueEDbV1IMm8r239lsxDHhl', 'type': 'tool_call'}], usage_metadata={'input_tokens': 277, 'output_tokens': 74, 'total_tokens': 351, 'input_token_details': {'audio': 0, 'cache_read': 0}, 'output_token_details': {'audio': 0, 'reasoning': 0}})]\n",
      "\n",
      "\n",
      "\n",
      "Receiving update from node: 'action'\n",
      "Tool Used: retrieve_fda_information\n",
      "[ToolMessage(content='The Quality Management Systems (QMS) requirements for Software as a Medical Device (SaMD) as outlined in the provided document include several key principles:\\n\\n1. **Organizational Structure**: There should be a structure that provides leadership, accountability, and governance, along with adequate resources to ensure the safety, effectiveness, and performance of SaMD.\\n\\n2. **Lifecycle Support Processes**: A set of SaMD lifecycle support processes should be adaptable to the size of the organization and consistently applied across all realization and use processes.\\n\\n3. **Realization and Use Processes**: These processes must be scalable according to the type of SaMD and the size of the organization, considering elements critical for ensuring the safety, effectiveness, and performance of the product.\\n\\n4. **Regulatory Relationship**: The QMS must not conflict with medical device regulations or standards but should complement and clarify common practices and terminology in the software industry.\\n\\n5. **Risk Management**: Risk management principles must be integrated throughout the software lifecycle processes and activities to maintain safety and effectiveness.\\n\\n6. **Documentation and Control**: The QMS should include details on document control, record maintenance, and configuration management, in line with relevant regulations, such as ISO 13485:2003 and other regional guidelines.\\n\\nThese elements ensure a structured and effective approach to the quality management of SaMD, addressing the specific risks and regulatory requirements associated with software medical devices.', name='retrieve_fda_information', id='3fc5c8fb-5d9b-4443-913c-b423661d7bb9', tool_call_id='call_DXciEi33PeHcMkBVUl9ytZVv'), ToolMessage(content='The provided documents do not explicitly outline specific cybersecurity requirements in Quality Management Systems (QMS) for FDA-approved software as a medical device (SaMD). However, they do highlight the importance of considering cybersecurity risks when assessing the safety and effectiveness of the device software functions.\\n\\nFor instance, the mention of \"the likelihood that device functionality is intentionally or unintentionally compromised by inadequate device cybersecurity\" indicates that cybersecurity must be a factor in risk management activities within the QMS. The guidance suggests that sponsors should account for all known or foreseeable software hazards when determining the documentation level required for premarket submissions, which would include potential cybersecurity risks.\\n\\nWhile the documents do address broader topics like software verification, validation, and lifecycle processes, they do not detail specific cybersecurity practices or requirements. Therefore, for comprehensive cybersecurity requirements pertaining to SaMD, further guidance from FDA resources focused on cybersecurity may be needed. \\n\\nIf you\\'re looking for detailed aspects regarding cybersecurity in the context of QMS for FDA-approved SaMD, you may need to consult additional specific FDA guidelines or cybersecurity recommendations that focus on medical devices.', name='retrieve_cybersecurity_information', id='7c636bf6-b7d8-4a78-8b4f-da780317aaaf', tool_call_id='call_m3ueEDbV1IMm8r239lsxDHhl')]\n",
      "\n",
      "\n",
      "\n",
      "Receiving update from node: 'agent'\n",
      "[AIMessage(content=\"### Quality Management Systems (QMS) Requirements for Software as a Medical Device (SaMD)\\n\\nThe QMS requirements for SaMD include several key principles to ensure the safety, effectiveness, and performance of these devices:\\n\\n1. **Organizational Structure**: Establishes leadership, accountability, and governance with adequate resources.\\n2. **Lifecycle Support Processes**: Adaptable processes that are consistently applied across all realization and use processes, suitable for the organization's size.\\n3. **Realization and Use Processes**: Scalable processes considering the type of SaMD and organizational size, focusing on critical safety and effectiveness elements.\\n4. **Regulatory Relationship**: The QMS should align with medical device regulations and standards, complementing common practices in the software industry.\\n5. **Risk Management**: Integrated risk management principles throughout the software lifecycle to maintain safety and effectiveness.\\n6. **Documentation and Control**: Includes document control, record maintenance, and configuration management in line with regulations like ISO 13485:2003.\\n\\n### Handling Cybersecurity in QMS\\n\\nWhile the specific cybersecurity requirements are not detailed in the QMS guidelines for SaMD, the importance of considering cybersecurity risks is emphasized. Here’s how cybersecurity is generally handled within QMS:\\n\\n- **Risk Management**: Cybersecurity risks should be considered when assessing the safety and effectiveness of the device. This includes evaluating the likelihood of device functionality being compromised due to inadequate cybersecurity.\\n- **Documentation Requirements**: Sponsors are advised to account for all known or foreseeable software hazards, including potential cybersecurity risks, when determining the level of documentation required for premarket submissions.\\n\\n### Conclusion\\n\\nCybersecurity is an integral part of the risk management activities within the QMS for SaMD, although specific practices or requirements are not detailed in the general QMS guidelines. For detailed cybersecurity practices, additional specific FDA guidelines or recommendations focused on cybersecurity for medical devices should be consulted.\", additional_kwargs={'refusal': None}, response_metadata={'token_usage': {'completion_tokens': 377, 'prompt_tokens': 873, 'total_tokens': 1250, 'completion_tokens_details': {'accepted_prediction_tokens': 0, 'audio_tokens': 0, 'reasoning_tokens': 0, 'rejected_prediction_tokens': 0}, 'prompt_tokens_details': {'audio_tokens': 0, 'cached_tokens': 0}}, 'model_name': 'gpt-4-turbo-2024-04-09', 'system_fingerprint': 'fp_de235176ee', 'id': 'chatcmpl-BVqRXGqbVOpXt0XKvZLZVDkYUhg4R', 'service_tier': 'default', 'finish_reason': 'stop', 'logprobs': None}, id='run--8b0c9620-6d52-45e9-a4f5-781be7288320-0', usage_metadata={'input_tokens': 873, 'output_tokens': 377, 'total_tokens': 1250, 'input_token_details': {'audio': 0, 'cache_read': 0}, 'output_token_details': {'audio': 0, 'reasoning': 0}})]\n",
      "\n",
      "\n",
      "\n"
     ]
    }
   ],
   "source": [
    "inputs = {\"messages\" : [HumanMessage(content=\"Explain the QMS requirements for SAMD, how are cybersecurity requirements handled in QMS?\")]}\n",
    "\n",
    "async for chunk in compiled_regulatory_framework_graph.astream(inputs, stream_mode=\"updates\"):\n",
    "    for node, values in chunk.items():\n",
    "        print(f\"Receiving update from node: '{node}'\")\n",
    "        if node == \"action\":\n",
    "          print(f\"Tool Used: {values['messages'][0].name}\")\n",
    "        print(values[\"messages\"])\n",
    "\n",
    "        print(\"\\n\\n\")"
   ]
  }
 ],
 "metadata": {
  "kernelspec": {
   "display_name": ".venv",
   "language": "python",
   "name": "python3"
  },
  "language_info": {
   "codemirror_mode": {
    "name": "ipython",
    "version": 3
   },
   "file_extension": ".py",
   "mimetype": "text/x-python",
   "name": "python",
   "nbconvert_exporter": "python",
   "pygments_lexer": "ipython3",
   "version": "3.13.2"
  }
 },
 "nbformat": 4,
 "nbformat_minor": 2
}
