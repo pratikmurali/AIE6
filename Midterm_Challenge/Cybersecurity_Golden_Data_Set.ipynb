{
 "cells": [
  {
   "cell_type": "markdown",
   "metadata": {},
   "source": [
    "NLTK Imports."
   ]
  },
  {
   "cell_type": "code",
   "execution_count": 1,
   "metadata": {},
   "outputs": [
    {
     "name": "stderr",
     "output_type": "stream",
     "text": [
      "[nltk_data] Downloading package punkt to\n",
      "[nltk_data]     /Users/pratikmurali/nltk_data...\n",
      "[nltk_data]   Package punkt is already up-to-date!\n",
      "[nltk_data] Downloading package averaged_perceptron_tagger to\n",
      "[nltk_data]     /Users/pratikmurali/nltk_data...\n",
      "[nltk_data]   Package averaged_perceptron_tagger is already up-to-\n",
      "[nltk_data]       date!\n"
     ]
    },
    {
     "data": {
      "text/plain": [
       "True"
      ]
     },
     "execution_count": 1,
     "metadata": {},
     "output_type": "execute_result"
    }
   ],
   "source": [
    "import nltk\n",
    "nltk.download('punkt')\n",
    "nltk.download('averaged_perceptron_tagger')"
   ]
  },
  {
   "cell_type": "markdown",
   "metadata": {},
   "source": [
    "Load the Environment Variables"
   ]
  },
  {
   "cell_type": "code",
   "execution_count": 2,
   "metadata": {},
   "outputs": [
    {
     "data": {
      "text/plain": [
       "True"
      ]
     },
     "execution_count": 2,
     "metadata": {},
     "output_type": "execute_result"
    }
   ],
   "source": [
    "from dotenv import load_dotenv\n",
    "\n",
    "# Load environment variables\n",
    "load_dotenv()"
   ]
  },
  {
   "cell_type": "markdown",
   "metadata": {},
   "source": [
    "Create a Project Name"
   ]
  },
  {
   "cell_type": "code",
   "execution_count": 3,
   "metadata": {},
   "outputs": [],
   "source": [
    "from uuid import uuid4\n",
    "import os\n",
    "\n",
    "os.environ[\"LANGSMITH_PROJECT\"] = f\"FDA-CYBERSECURITY-SDG-{uuid4().hex[0:8]}\""
   ]
  },
  {
   "cell_type": "markdown",
   "metadata": {},
   "source": [
    "****Data Preparation****\n",
    "\n",
    "First We Will Load the Documents required to generate the dataset."
   ]
  },
  {
   "cell_type": "code",
   "execution_count": 4,
   "metadata": {},
   "outputs": [],
   "source": [
    "from langchain.document_loaders import PyMuPDFLoader\n",
    "from langchain_community.document_loaders import DirectoryLoader\n",
    "from langchain.schema import Document\n",
    "import os\n",
    "from typing import List\n",
    "\n",
    "path = \"doc/cybersecurity\"\n",
    "\n",
    "# Define a dictionary to map file extensions to their respective loaders\n",
    "loaders = {\n",
    "    '.pdf': PyMuPDFLoader,\n",
    "}\n",
    "\n",
    "# Define a function to create a DirectoryLoader for a specific file type\n",
    "def create_directory_loader(file_type, directory_path):\n",
    "    return DirectoryLoader(\n",
    "        path=directory_path,\n",
    "        glob=f\"**/*{file_type}\",\n",
    "        loader_cls=loaders[file_type],\n",
    "    )\n",
    "\n",
    "# Create DirectoryLoader instances for each file type\n",
    "pdf_loader = create_directory_loader('.pdf', 'docs/cybersecurity')\n",
    "\n",
    "pdf_documents = pdf_loader.load();"
   ]
  },
  {
   "cell_type": "markdown",
   "metadata": {},
   "source": [
    "Next we will setup our LLM who will read these docs and generate a synthetic dataset."
   ]
  },
  {
   "cell_type": "code",
   "execution_count": 5,
   "metadata": {},
   "outputs": [
    {
     "name": "stderr",
     "output_type": "stream",
     "text": [
      "/Users/pratikmurali/code/aiml-workspaces/AIE6/Midterm_Challenge/.venv/lib/python3.13/site-packages/tqdm/auto.py:21: TqdmWarning: IProgress not found. Please update jupyter and ipywidgets. See https://ipywidgets.readthedocs.io/en/stable/user_install.html\n",
      "  from .autonotebook import tqdm as notebook_tqdm\n"
     ]
    }
   ],
   "source": [
    "from ragas.llms import LangchainLLMWrapper\n",
    "from ragas.embeddings import LangchainEmbeddingsWrapper\n",
    "from langchain_openai import ChatOpenAI\n",
    "from langchain_openai import OpenAIEmbeddings\n",
    "# configure RunConfig\n",
    "from ragas.run_config import RunConfig\n",
    "import tqdm as notebook_tqdm\n",
    "generator_llm = LangchainLLMWrapper(ChatOpenAI(model=\"gpt-4.1-mini\"), run_config=RunConfig(max_workers=10))\n",
    "generator_embeddings = LangchainEmbeddingsWrapper(OpenAIEmbeddings(), run_config=RunConfig(max_workers=10))"
   ]
  },
  {
   "cell_type": "markdown",
   "metadata": {},
   "source": [
    "Next, we're going to instantiate our ***Knowledge Graph***. This graph will contain N number of nodes that have M number of relationships. These nodes and relationships (AKA \"edges\") will define our knowledge graph and be used later to construct relevant questions and responses."
   ]
  },
  {
   "cell_type": "code",
   "execution_count": 6,
   "metadata": {},
   "outputs": [
    {
     "data": {
      "text/plain": [
       "KnowledgeGraph(nodes: 0, relationships: 0)"
      ]
     },
     "execution_count": 6,
     "metadata": {},
     "output_type": "execute_result"
    }
   ],
   "source": [
    "from ragas.testset.graph import KnowledgeGraph\n",
    "\n",
    "kg = KnowledgeGraph()\n",
    "kg"
   ]
  },
  {
   "cell_type": "markdown",
   "metadata": {},
   "source": [
    "The first step we're going to take is to simply insert each of our full documents into the graph. This will provide a base that we can apply transformations to."
   ]
  },
  {
   "cell_type": "code",
   "execution_count": 7,
   "metadata": {},
   "outputs": [
    {
     "data": {
      "text/plain": [
       "KnowledgeGraph(nodes: 109, relationships: 0)"
      ]
     },
     "execution_count": 7,
     "metadata": {},
     "output_type": "execute_result"
    }
   ],
   "source": [
    "from ragas.testset.graph import Node, NodeType\n",
    "for doc in pdf_documents:\n",
    "    kg.nodes.append(\n",
    "        Node(\n",
    "            type=NodeType.DOCUMENT,\n",
    "            properties={\"page_content\": doc.page_content, \"document_metadata\": doc.metadata}\n",
    "        )\n",
    "    )\n",
    "kg"
   ]
  },
  {
   "cell_type": "markdown",
   "metadata": {},
   "source": [
    "### Default Transformations on the Knowledge Graph\n",
    "\n",
    "Now, we'll apply the default transformations to our knowledge graph. This will take the nodes currently on the graph and transform them based on a set of default transformations. These default transformations are dependent on the corpus length, in our case:\n",
    "\n",
    "1. Producing Summaries -> produces summaries of the documents\n",
    "2. Extracting Headlines -> finding the overall headline for the document\n",
    "3. Theme Extractor -> extracts broad themes about the documents\n",
    "\n",
    "It then uses ***cosine-similarity*** and heuristics between the embeddings of the above transformations to construct relationships between the nodes."
   ]
  },
  {
   "cell_type": "code",
   "execution_count": 8,
   "metadata": {},
   "outputs": [
    {
     "name": "stderr",
     "output_type": "stream",
     "text": [
      "Applying HeadlineSplitter:   0%|          | 0/109 [00:00<?, ?it/s]          unable to apply transformation: 'headlines' property not found in this node\n",
      "unable to apply transformation: 'headlines' property not found in this node\n",
      "unable to apply transformation: 'headlines' property not found in this node\n",
      "unable to apply transformation: 'headlines' property not found in this node\n",
      "unable to apply transformation: 'headlines' property not found in this node\n",
      "unable to apply transformation: 'headlines' property not found in this node\n",
      "unable to apply transformation: 'headlines' property not found in this node\n",
      "unable to apply transformation: 'headlines' property not found in this node\n",
      "unable to apply transformation: 'headlines' property not found in this node\n",
      "unable to apply transformation: 'headlines' property not found in this node\n",
      "unable to apply transformation: 'headlines' property not found in this node\n",
      "unable to apply transformation: 'headlines' property not found in this node\n",
      "unable to apply transformation: 'headlines' property not found in this node\n",
      "unable to apply transformation: 'headlines' property not found in this node\n",
      "unable to apply transformation: 'headlines' property not found in this node\n",
      "unable to apply transformation: 'headlines' property not found in this node\n",
      "unable to apply transformation: 'headlines' property not found in this node\n",
      "unable to apply transformation: 'headlines' property not found in this node\n",
      "unable to apply transformation: 'headlines' property not found in this node\n",
      "unable to apply transformation: 'headlines' property not found in this node\n",
      "Applying SummaryExtractor:  51%|█████     | 88/174 [00:30<00:31,  2.74it/s]Property 'summary' already exists in node 'cc421e'. Skipping!\n",
      "Applying SummaryExtractor:  51%|█████     | 89/174 [00:30<00:26,  3.17it/s]Property 'summary' already exists in node 'f98628'. Skipping!\n",
      "Applying SummaryExtractor:  52%|█████▏    | 90/174 [00:31<00:31,  2.65it/s]Property 'summary' already exists in node '4f9440'. Skipping!\n",
      "Applying SummaryExtractor:  52%|█████▏    | 91/174 [00:31<00:26,  3.09it/s]Property 'summary' already exists in node 'bd9002'. Skipping!\n",
      "Applying SummaryExtractor:  53%|█████▎    | 92/174 [00:31<00:28,  2.90it/s]Property 'summary' already exists in node '6aace3'. Skipping!\n",
      "Applying SummaryExtractor:  53%|█████▎    | 93/174 [00:32<00:33,  2.42it/s]Property 'summary' already exists in node 'b50167'. Skipping!\n",
      "Property 'summary' already exists in node 'a81b5e'. Skipping!\n",
      "Applying SummaryExtractor:  55%|█████▍    | 95/174 [00:33<00:29,  2.65it/s]Property 'summary' already exists in node '2a3b62'. Skipping!\n",
      "Applying SummaryExtractor:  55%|█████▌    | 96/174 [00:33<00:32,  2.38it/s]Property 'summary' already exists in node '45b479'. Skipping!\n",
      "Applying SummaryExtractor:  56%|█████▌    | 97/174 [00:33<00:30,  2.56it/s]Property 'summary' already exists in node '2b7260'. Skipping!\n",
      "Applying SummaryExtractor:  56%|█████▋    | 98/174 [00:34<00:25,  3.00it/s]Property 'summary' already exists in node 'b2f80d'. Skipping!\n",
      "Property 'summary' already exists in node '76c2ac'. Skipping!\n",
      "Applying SummaryExtractor:  57%|█████▋    | 100/174 [00:34<00:20,  3.61it/s]Property 'summary' already exists in node 'bcf06e'. Skipping!\n",
      "Property 'summary' already exists in node 'e1fd37'. Skipping!\n",
      "Applying SummaryExtractor:  59%|█████▊    | 102/174 [00:35<00:26,  2.73it/s]Property 'summary' already exists in node '6e7793'. Skipping!\n",
      "Applying SummaryExtractor:  59%|█████▉    | 103/174 [00:35<00:25,  2.77it/s]Property 'summary' already exists in node '7e619f'. Skipping!\n",
      "Property 'summary' already exists in node 'f27310'. Skipping!\n",
      "Applying SummaryExtractor:  60%|██████    | 105/174 [00:36<00:22,  3.01it/s]Property 'summary' already exists in node '14fd40'. Skipping!\n",
      "Applying SummaryExtractor:  61%|██████    | 106/174 [00:36<00:20,  3.36it/s]Property 'summary' already exists in node '70cc58'. Skipping!\n",
      "Applying SummaryExtractor:  61%|██████▏   | 107/174 [00:37<00:34,  1.96it/s]Property 'summary' already exists in node 'c8df6d'. Skipping!\n",
      "Property 'summary' already exists in node '233cb0'. Skipping!\n",
      "Applying SummaryExtractor:  63%|██████▎   | 109/174 [00:38<00:27,  2.34it/s]Property 'summary' already exists in node '0f2cec'. Skipping!\n",
      "Applying SummaryExtractor:  63%|██████▎   | 110/174 [00:38<00:22,  2.81it/s]Property 'summary' already exists in node 'b56325'. Skipping!\n",
      "Applying SummaryExtractor:  64%|██████▍   | 111/174 [00:38<00:21,  2.90it/s]Property 'summary' already exists in node 'cdf54e'. Skipping!\n",
      "Property 'summary' already exists in node '3532d0'. Skipping!\n",
      "Applying SummaryExtractor:  65%|██████▍   | 113/174 [00:39<00:23,  2.56it/s]Property 'summary' already exists in node '216ea0'. Skipping!\n",
      "Applying SummaryExtractor:  66%|██████▌   | 114/174 [00:40<00:21,  2.73it/s]Property 'summary' already exists in node '752afb'. Skipping!\n",
      "Applying SummaryExtractor:  66%|██████▌   | 115/174 [00:40<00:28,  2.06it/s]Property 'summary' already exists in node 'c83ee7'. Skipping!\n",
      "Applying SummaryExtractor:  67%|██████▋   | 116/174 [00:41<00:22,  2.53it/s]Property 'summary' already exists in node '9ccd80'. Skipping!\n",
      "Property 'summary' already exists in node '7f9751'. Skipping!\n",
      "Applying SummaryExtractor:  68%|██████▊   | 118/174 [00:41<00:15,  3.68it/s]Property 'summary' already exists in node 'c25388'. Skipping!\n",
      "Applying SummaryExtractor:  68%|██████▊   | 119/174 [00:41<00:16,  3.30it/s]Property 'summary' already exists in node '9a8325'. Skipping!\n",
      "Applying SummaryExtractor:  69%|██████▉   | 120/174 [00:42<00:28,  1.92it/s]Property 'summary' already exists in node 'fbb5e8'. Skipping!\n",
      "Applying SummaryExtractor:  70%|██████▉   | 121/174 [00:43<00:28,  1.88it/s]Property 'summary' already exists in node '8f726c'. Skipping!\n",
      "Applying SummaryExtractor:  70%|███████   | 122/174 [00:43<00:22,  2.32it/s]Property 'summary' already exists in node '974000'. Skipping!\n",
      "Property 'summary' already exists in node 'dee39b'. Skipping!\n",
      "Applying SummaryExtractor:  71%|███████▏  | 124/174 [00:43<00:14,  3.37it/s]Property 'summary' already exists in node 'fa047a'. Skipping!\n",
      "Property 'summary' already exists in node '8a2f13'. Skipping!\n",
      "Applying SummaryExtractor:  72%|███████▏  | 125/174 [00:44<00:17,  2.80it/s]Property 'summary' already exists in node 'dc95d2'. Skipping!\n",
      "Applying SummaryExtractor:  73%|███████▎  | 127/174 [00:44<00:11,  4.05it/s]Property 'summary' already exists in node 'a4f107'. Skipping!\n",
      "Applying SummaryExtractor:  74%|███████▎  | 128/174 [00:45<00:19,  2.33it/s]Property 'summary' already exists in node '1afbe4'. Skipping!\n",
      "Applying SummaryExtractor:  74%|███████▍  | 129/174 [00:45<00:17,  2.56it/s]Property 'summary' already exists in node 'a3608c'. Skipping!\n",
      "Applying SummaryExtractor:  75%|███████▍  | 130/174 [00:46<00:18,  2.32it/s]Property 'summary' already exists in node 'e461fb'. Skipping!\n",
      "Property 'summary' already exists in node 'c8125d'. Skipping!\n",
      "Property 'summary' already exists in node '86b685'. Skipping!\n",
      "Applying SummaryExtractor:  76%|███████▋  | 133/174 [00:47<00:15,  2.71it/s]Property 'summary' already exists in node '8d4042'. Skipping!\n",
      "Applying SummaryExtractor:  77%|███████▋  | 134/174 [00:48<00:20,  1.94it/s]Property 'summary' already exists in node '207dc6'. Skipping!\n",
      "Property 'summary' already exists in node 'a06cd8'. Skipping!\n",
      "Applying SummaryExtractor:  78%|███████▊  | 136/174 [00:50<00:24,  1.55it/s]Property 'summary' already exists in node '2c4a32'. Skipping!\n",
      "Applying SummaryExtractor:  79%|███████▊  | 137/174 [00:50<00:20,  1.80it/s]Property 'summary' already exists in node '034d32'. Skipping!\n",
      "Applying SummaryExtractor:  79%|███████▉  | 138/174 [00:51<00:20,  1.74it/s]Property 'summary' already exists in node '9f9e23'. Skipping!\n",
      "Applying SummaryExtractor:  80%|███████▉  | 139/174 [00:51<00:20,  1.74it/s]Property 'summary' already exists in node '191ddc'. Skipping!\n",
      "Applying SummaryExtractor:  80%|████████  | 140/174 [00:52<00:23,  1.44it/s]Property 'summary' already exists in node '92dc6c'. Skipping!\n",
      "Applying SummaryExtractor:  81%|████████  | 141/174 [00:53<00:21,  1.56it/s]Property 'summary' already exists in node 'addb31'. Skipping!\n",
      "Property 'summary' already exists in node '9ad138'. Skipping!\n",
      "Applying SummaryExtractor:  83%|████████▎ | 144/174 [00:55<00:18,  1.63it/s]Property 'summary' already exists in node 'ad2574'. Skipping!\n",
      "Applying SummaryExtractor:  83%|████████▎ | 145/174 [00:55<00:17,  1.65it/s]Property 'summary' already exists in node '5ff23f'. Skipping!\n",
      "Property 'summary' already exists in node '86f9af'. Skipping!\n",
      "Applying SummaryExtractor:  84%|████████▍ | 147/174 [00:56<00:10,  2.53it/s]Property 'summary' already exists in node 'e34df6'. Skipping!\n",
      "Applying SummaryExtractor:  85%|████████▌ | 148/174 [00:56<00:08,  2.94it/s]Property 'summary' already exists in node 'b8b72d'. Skipping!\n",
      "Applying SummaryExtractor:  86%|████████▌ | 149/174 [00:58<00:21,  1.15it/s]Property 'summary' already exists in node '29b5e8'. Skipping!\n",
      "Applying SummaryExtractor:  86%|████████▌ | 150/174 [00:58<00:16,  1.49it/s]Property 'summary' already exists in node '25a295'. Skipping!\n",
      "Applying SummaryExtractor:  87%|████████▋ | 151/174 [00:59<00:14,  1.59it/s]Property 'summary' already exists in node '341fa2'. Skipping!\n",
      "Applying SummaryExtractor:  87%|████████▋ | 152/174 [00:59<00:10,  2.02it/s]Property 'summary' already exists in node '233ea6'. Skipping!\n",
      "Applying SummaryExtractor:  88%|████████▊ | 153/174 [00:59<00:08,  2.40it/s]Property 'summary' already exists in node '968d35'. Skipping!\n",
      "Applying SummaryExtractor:  89%|████████▊ | 154/174 [01:00<00:11,  1.79it/s]Property 'summary' already exists in node '291466'. Skipping!\n",
      "Applying SummaryExtractor:  89%|████████▉ | 155/174 [01:01<00:10,  1.80it/s]Property 'summary' already exists in node 'c10b6c'. Skipping!\n",
      "Applying SummaryExtractor:  90%|████████▉ | 156/174 [01:01<00:09,  1.86it/s]Property 'summary' already exists in node 'd34e56'. Skipping!\n",
      "Applying SummaryExtractor:  90%|█████████ | 157/174 [01:02<00:09,  1.81it/s]Property 'summary' already exists in node 'ed5c4f'. Skipping!\n",
      "Applying SummaryExtractor:  91%|█████████ | 158/174 [01:03<00:10,  1.58it/s]Property 'summary' already exists in node '93cad7'. Skipping!\n",
      "Applying SummaryExtractor:  91%|█████████▏| 159/174 [01:04<00:10,  1.42it/s]Property 'summary' already exists in node 'b88295'. Skipping!\n",
      "Property 'summary' already exists in node 'd738f7'. Skipping!\n",
      "Applying SummaryExtractor:  93%|█████████▎| 161/174 [01:04<00:07,  1.77it/s]Property 'summary' already exists in node '503364'. Skipping!\n",
      "Applying SummaryExtractor:  93%|█████████▎| 162/174 [01:05<00:06,  1.74it/s]Property 'summary' already exists in node 'ce71c1'. Skipping!\n",
      "Applying SummaryExtractor:  94%|█████████▎| 163/174 [01:06<00:06,  1.75it/s]Property 'summary' already exists in node 'd039f6'. Skipping!\n",
      "Applying SummaryExtractor:  94%|█████████▍| 164/174 [01:06<00:05,  1.88it/s]Property 'summary' already exists in node '515af5'. Skipping!\n",
      "Applying SummaryExtractor:  95%|█████████▍| 165/174 [01:06<00:04,  2.02it/s]Property 'summary' already exists in node '2b9277'. Skipping!\n",
      "Applying SummaryExtractor:  95%|█████████▌| 166/174 [01:07<00:04,  1.94it/s]Property 'summary' already exists in node '1217a7'. Skipping!\n",
      "Applying SummaryExtractor:  96%|█████████▌| 167/174 [01:13<00:15,  2.22s/it]Property 'summary' already exists in node 'c0fd26'. Skipping!\n",
      "Applying SummaryExtractor:  97%|█████████▋| 168/174 [01:15<00:12,  2.03s/it]Property 'summary' already exists in node '10fd1b'. Skipping!\n",
      "Applying SummaryExtractor:  97%|█████████▋| 169/174 [01:15<00:07,  1.48s/it]Property 'summary' already exists in node '481215'. Skipping!\n",
      "Applying SummaryExtractor:  98%|█████████▊| 170/174 [01:17<00:06,  1.55s/it]Property 'summary' already exists in node '8a7903'. Skipping!\n",
      "Applying SummaryExtractor:  98%|█████████▊| 171/174 [01:17<00:03,  1.28s/it]Property 'summary' already exists in node 'ce3b04'. Skipping!\n",
      "Applying SummaryExtractor:  99%|█████████▉| 172/174 [01:20<00:03,  1.53s/it]Property 'summary' already exists in node '8f72d4'. Skipping!\n",
      "Applying SummaryExtractor:  99%|█████████▉| 173/174 [01:26<00:02,  3.00s/it]Property 'summary' already exists in node '95311c'. Skipping!\n",
      "Applying [EmbeddingExtractor, ThemesExtractor, NERExtractor]:   0%|          | 0/182 [00:00<?, ?it/s]Property 'summary_embedding' already exists in node 'cc421e'. Skipping!\n",
      "Property 'summary_embedding' already exists in node '4f9440'. Skipping!\n",
      "Property 'summary_embedding' already exists in node 'f98628'. Skipping!\n",
      "Property 'summary_embedding' already exists in node 'bd9002'. Skipping!\n",
      "Property 'summary_embedding' already exists in node '6aace3'. Skipping!\n",
      "Property 'summary_embedding' already exists in node 'b8b72d'. Skipping!\n",
      "Property 'summary_embedding' already exists in node 'b50167'. Skipping!\n",
      "Property 'summary_embedding' already exists in node 'a81b5e'. Skipping!\n",
      "Property 'summary_embedding' already exists in node '2b7260'. Skipping!\n",
      "Property 'summary_embedding' already exists in node '2a3b62'. Skipping!\n",
      "Property 'summary_embedding' already exists in node 'e1fd37'. Skipping!\n",
      "Property 'summary_embedding' already exists in node 'b2f80d'. Skipping!\n",
      "Property 'summary_embedding' already exists in node '45b479'. Skipping!\n",
      "Property 'summary_embedding' already exists in node '76c2ac'. Skipping!\n",
      "Property 'summary_embedding' already exists in node '7e619f'. Skipping!\n",
      "Property 'summary_embedding' already exists in node 'bcf06e'. Skipping!\n",
      "Property 'summary_embedding' already exists in node 'f27310'. Skipping!\n",
      "Property 'summary_embedding' already exists in node '6e7793'. Skipping!\n",
      "Property 'summary_embedding' already exists in node '233cb0'. Skipping!\n",
      "Property 'summary_embedding' already exists in node '14fd40'. Skipping!\n",
      "Property 'summary_embedding' already exists in node '29b5e8'. Skipping!\n",
      "Property 'summary_embedding' already exists in node 'c8df6d'. Skipping!\n",
      "Property 'summary_embedding' already exists in node '70cc58'. Skipping!\n",
      "Property 'summary_embedding' already exists in node 'cdf54e'. Skipping!\n",
      "Property 'summary_embedding' already exists in node '752afb'. Skipping!\n",
      "Property 'summary_embedding' already exists in node 'b56325'. Skipping!\n",
      "Property 'summary_embedding' already exists in node '3532d0'. Skipping!\n",
      "Property 'summary_embedding' already exists in node '0f2cec'. Skipping!\n",
      "Property 'summary_embedding' already exists in node 'c83ee7'. Skipping!\n",
      "Property 'summary_embedding' already exists in node '7f9751'. Skipping!\n",
      "Property 'summary_embedding' already exists in node '216ea0'. Skipping!\n",
      "Property 'summary_embedding' already exists in node 'c25388'. Skipping!\n",
      "Property 'summary_embedding' already exists in node '9ccd80'. Skipping!\n",
      "Property 'summary_embedding' already exists in node 'dee39b'. Skipping!\n",
      "Property 'summary_embedding' already exists in node 'fbb5e8'. Skipping!\n",
      "Property 'summary_embedding' already exists in node '9a8325'. Skipping!\n",
      "Property 'summary_embedding' already exists in node '8a2f13'. Skipping!\n",
      "Property 'summary_embedding' already exists in node '8f726c'. Skipping!\n",
      "Property 'summary_embedding' already exists in node '974000'. Skipping!\n",
      "Property 'summary_embedding' already exists in node 'fa047a'. Skipping!\n",
      "Property 'summary_embedding' already exists in node 'dc95d2'. Skipping!\n",
      "Property 'summary_embedding' already exists in node 'a4f107'. Skipping!\n",
      "Property 'summary_embedding' already exists in node '1afbe4'. Skipping!\n",
      "Property 'summary_embedding' already exists in node 'a3608c'. Skipping!\n",
      "Property 'summary_embedding' already exists in node 'c8125d'. Skipping!\n",
      "Property 'summary_embedding' already exists in node '86b685'. Skipping!\n",
      "Property 'summary_embedding' already exists in node 'e461fb'. Skipping!\n",
      "Property 'summary_embedding' already exists in node '1217a7'. Skipping!\n",
      "Property 'summary_embedding' already exists in node '207dc6'. Skipping!\n",
      "Property 'summary_embedding' already exists in node '8a7903'. Skipping!\n",
      "Property 'summary_embedding' already exists in node 'c0fd26'. Skipping!\n",
      "Property 'summary_embedding' already exists in node '8d4042'. Skipping!\n",
      "Property 'summary_embedding' already exists in node '481215'. Skipping!\n",
      "Property 'summary_embedding' already exists in node '10fd1b'. Skipping!\n",
      "Property 'summary_embedding' already exists in node 'ce3b04'. Skipping!\n",
      "Property 'summary_embedding' already exists in node '9f9e23'. Skipping!\n",
      "Property 'summary_embedding' already exists in node '034d32'. Skipping!\n",
      "Property 'summary_embedding' already exists in node '2c4a32'. Skipping!\n",
      "Property 'summary_embedding' already exists in node 'a06cd8'. Skipping!\n",
      "Property 'summary_embedding' already exists in node '191ddc'. Skipping!\n",
      "Property 'summary_embedding' already exists in node 'addb31'. Skipping!\n",
      "Property 'summary_embedding' already exists in node '92dc6c'. Skipping!\n",
      "Property 'summary_embedding' already exists in node '9ad138'. Skipping!\n",
      "Property 'summary_embedding' already exists in node '5ff23f'. Skipping!\n",
      "Property 'summary_embedding' already exists in node 'e34df6'. Skipping!\n",
      "Property 'summary_embedding' already exists in node '86f9af'. Skipping!\n",
      "Property 'summary_embedding' already exists in node 'ad2574'. Skipping!\n",
      "Property 'summary_embedding' already exists in node '341fa2'. Skipping!\n",
      "Property 'summary_embedding' already exists in node '25a295'. Skipping!\n",
      "Property 'summary_embedding' already exists in node '291466'. Skipping!\n",
      "Property 'summary_embedding' already exists in node '233ea6'. Skipping!\n",
      "Property 'summary_embedding' already exists in node '968d35'. Skipping!\n",
      "Property 'summary_embedding' already exists in node 'c10b6c'. Skipping!\n",
      "Property 'summary_embedding' already exists in node 'd34e56'. Skipping!\n",
      "Property 'summary_embedding' already exists in node 'ed5c4f'. Skipping!\n",
      "Property 'summary_embedding' already exists in node 'd738f7'. Skipping!\n",
      "Property 'summary_embedding' already exists in node '93cad7'. Skipping!\n",
      "Property 'summary_embedding' already exists in node '8f72d4'. Skipping!\n",
      "Property 'summary_embedding' already exists in node '503364'. Skipping!\n",
      "Property 'summary_embedding' already exists in node 'b88295'. Skipping!\n",
      "Property 'summary_embedding' already exists in node 'ce71c1'. Skipping!\n",
      "Property 'summary_embedding' already exists in node 'd039f6'. Skipping!\n",
      "Property 'summary_embedding' already exists in node '2b9277'. Skipping!\n",
      "Property 'summary_embedding' already exists in node '95311c'. Skipping!\n",
      "Property 'summary_embedding' already exists in node '515af5'. Skipping!\n",
      "                                                                                                               \r"
     ]
    },
    {
     "data": {
      "text/plain": [
       "KnowledgeGraph(nodes: 198, relationships: 15055)"
      ]
     },
     "execution_count": 8,
     "metadata": {},
     "output_type": "execute_result"
    }
   ],
   "source": [
    "from ragas.testset.transforms import default_transforms, apply_transforms\n",
    "\n",
    "transformer_llm = generator_llm\n",
    "embedding_model = generator_embeddings\n",
    "\n",
    "default_transforms = default_transforms(documents=pdf_documents, llm=transformer_llm, embedding_model=embedding_model)\n",
    "apply_transforms(kg, default_transforms)\n",
    "kg"
   ]
  },
  {
   "cell_type": "markdown",
   "metadata": {},
   "source": [
    "#### Save and Load the Knowledge Graph\n",
    "\n",
    "Now we save and load our knowledge graph as follows."
   ]
  },
  {
   "cell_type": "code",
   "execution_count": 9,
   "metadata": {},
   "outputs": [
    {
     "data": {
      "text/plain": [
       "KnowledgeGraph(nodes: 198, relationships: 15055)"
      ]
     },
     "execution_count": 9,
     "metadata": {},
     "output_type": "execute_result"
    }
   ],
   "source": [
    "kg.save(\"cybersecurity_guidelines_for_software_as_a_medical_device.json\")\n",
    "cybersecurity_guidelines_for_software_as_a_medical_device_kg = KnowledgeGraph.load(\"cybersecurity_guidelines_for_software_as_a_medical_device.json\")\n",
    "cybersecurity_guidelines_for_software_as_a_medical_device_kg"
   ]
  },
  {
   "cell_type": "markdown",
   "metadata": {},
   "source": [
    "#### Construct a Test Set Generator.\n",
    "Next using our Knowledge Graph we construct a Test Set."
   ]
  },
  {
   "cell_type": "code",
   "execution_count": 10,
   "metadata": {},
   "outputs": [
    {
     "name": "stderr",
     "output_type": "stream",
     "text": [
      "Applying HeadlineSplitter:   0%|          | 0/109 [00:00<?, ?it/s]          unable to apply transformation: 'headlines' property not found in this node\n",
      "unable to apply transformation: 'headlines' property not found in this node\n",
      "unable to apply transformation: 'headlines' property not found in this node\n",
      "unable to apply transformation: 'headlines' property not found in this node\n",
      "unable to apply transformation: 'headlines' property not found in this node\n",
      "unable to apply transformation: 'headlines' property not found in this node\n",
      "unable to apply transformation: 'headlines' property not found in this node\n",
      "unable to apply transformation: 'headlines' property not found in this node\n",
      "unable to apply transformation: 'headlines' property not found in this node\n",
      "unable to apply transformation: 'headlines' property not found in this node\n",
      "unable to apply transformation: 'headlines' property not found in this node\n",
      "unable to apply transformation: 'headlines' property not found in this node\n",
      "unable to apply transformation: 'headlines' property not found in this node\n",
      "unable to apply transformation: 'headlines' property not found in this node\n",
      "unable to apply transformation: 'headlines' property not found in this node\n",
      "unable to apply transformation: 'headlines' property not found in this node\n",
      "unable to apply transformation: 'headlines' property not found in this node\n",
      "unable to apply transformation: 'headlines' property not found in this node\n",
      "unable to apply transformation: 'headlines' property not found in this node\n",
      "unable to apply transformation: 'headlines' property not found in this node\n",
      "Applying SummaryExtractor:  51%|█████     | 88/173 [00:30<00:32,  2.62it/s]Property 'summary' already exists in node 'e2a888'. Skipping!\n",
      "Applying SummaryExtractor:  51%|█████▏    | 89/173 [00:31<00:35,  2.37it/s]Property 'summary' already exists in node '9345dd'. Skipping!\n",
      "Property 'summary' already exists in node '3944a8'. Skipping!\n",
      "Property 'summary' already exists in node '658f52'. Skipping!\n",
      "Applying SummaryExtractor:  53%|█████▎    | 92/173 [00:31<00:22,  3.55it/s]Property 'summary' already exists in node 'aa475f'. Skipping!\n",
      "Applying SummaryExtractor:  54%|█████▍    | 93/173 [00:32<00:30,  2.62it/s]Property 'summary' already exists in node '298ea4'. Skipping!\n",
      "Applying SummaryExtractor:  54%|█████▍    | 94/173 [00:32<00:25,  3.09it/s]Property 'summary' already exists in node '746c8a'. Skipping!\n",
      "Applying SummaryExtractor:  55%|█████▍    | 95/173 [00:32<00:21,  3.66it/s]Property 'summary' already exists in node 'e28183'. Skipping!\n",
      "Applying SummaryExtractor:  55%|█████▌    | 96/173 [00:33<00:20,  3.84it/s]Property 'summary' already exists in node 'aef3a8'. Skipping!\n",
      "Property 'summary' already exists in node 'ad8b35'. Skipping!\n",
      "Applying SummaryExtractor:  57%|█████▋    | 98/173 [00:34<00:30,  2.43it/s]Property 'summary' already exists in node 'c60e2c'. Skipping!\n",
      "Property 'summary' already exists in node '0d9484'. Skipping!\n",
      "Applying SummaryExtractor:  58%|█████▊    | 100/173 [00:34<00:21,  3.36it/s]Property 'summary' already exists in node '01323b'. Skipping!\n",
      "Applying SummaryExtractor:  58%|█████▊    | 101/173 [00:34<00:19,  3.78it/s]Property 'summary' already exists in node '7f12a4'. Skipping!\n",
      "Applying SummaryExtractor:  59%|█████▉    | 102/173 [00:34<00:20,  3.51it/s]Property 'summary' already exists in node 'd36597'. Skipping!\n",
      "Applying SummaryExtractor:  60%|█████▉    | 103/173 [00:35<00:24,  2.91it/s]Property 'summary' already exists in node 'e57a63'. Skipping!\n",
      "Applying SummaryExtractor:  60%|██████    | 104/173 [00:36<00:27,  2.49it/s]Property 'summary' already exists in node 'f0dc8e'. Skipping!\n",
      "Property 'summary' already exists in node '37f203'. Skipping!\n",
      "Applying SummaryExtractor:  61%|██████▏   | 106/173 [00:36<00:17,  3.87it/s]Property 'summary' already exists in node '6b7564'. Skipping!\n",
      "Property 'summary' already exists in node '96cf8b'. Skipping!\n",
      "Applying SummaryExtractor:  62%|██████▏   | 108/173 [00:37<00:30,  2.11it/s]Property 'summary' already exists in node '28e5ca'. Skipping!\n",
      "Property 'summary' already exists in node 'caadff'. Skipping!\n",
      "Applying SummaryExtractor:  64%|██████▎   | 110/173 [00:38<00:23,  2.64it/s]Property 'summary' already exists in node '27ce69'. Skipping!\n",
      "Applying SummaryExtractor:  64%|██████▍   | 111/173 [00:38<00:20,  2.97it/s]Property 'summary' already exists in node '4da288'. Skipping!\n",
      "Applying SummaryExtractor:  65%|██████▍   | 112/173 [00:39<00:24,  2.45it/s]Property 'summary' already exists in node 'bc8b55'. Skipping!\n",
      "Applying SummaryExtractor:  65%|██████▌   | 113/173 [00:39<00:20,  2.88it/s]Property 'summary' already exists in node '8669f1'. Skipping!\n",
      "Property 'summary' already exists in node '9d4256'. Skipping!\n",
      "Applying SummaryExtractor:  66%|██████▋   | 115/173 [00:39<00:20,  2.83it/s]Property 'summary' already exists in node '3453c7'. Skipping!\n",
      "Applying SummaryExtractor:  67%|██████▋   | 116/173 [00:40<00:22,  2.59it/s]Property 'summary' already exists in node '6b0c8c'. Skipping!\n",
      "Property 'summary' already exists in node '643287'. Skipping!\n",
      "Property 'summary' already exists in node '569642'. Skipping!\n",
      "Applying SummaryExtractor:  69%|██████▉   | 119/173 [00:40<00:15,  3.57it/s]Property 'summary' already exists in node '9372b0'. Skipping!\n",
      "Applying SummaryExtractor:  69%|██████▉   | 120/173 [00:41<00:15,  3.42it/s]Property 'summary' already exists in node 'b54a1a'. Skipping!\n",
      "Property 'summary' already exists in node '975657'. Skipping!\n",
      "Applying SummaryExtractor:  71%|███████   | 122/173 [00:42<00:21,  2.33it/s]Property 'summary' already exists in node '317307'. Skipping!\n",
      "Applying SummaryExtractor:  71%|███████   | 123/173 [00:42<00:19,  2.53it/s]Property 'summary' already exists in node 'b3e26a'. Skipping!\n",
      "Property 'summary' already exists in node 'de9c82'. Skipping!\n",
      "Property 'summary' already exists in node '902585'. Skipping!\n",
      "Applying SummaryExtractor:  73%|███████▎  | 126/173 [00:43<00:10,  4.37it/s]Property 'summary' already exists in node '383f8d'. Skipping!\n",
      "Property 'summary' already exists in node '2c67c3'. Skipping!\n",
      "Applying SummaryExtractor:  74%|███████▍  | 128/173 [00:44<00:14,  3.17it/s]Property 'summary' already exists in node '467de5'. Skipping!\n",
      "Applying SummaryExtractor:  75%|███████▍  | 129/173 [00:44<00:18,  2.35it/s]Property 'summary' already exists in node 'ad2260'. Skipping!\n",
      "Applying SummaryExtractor:  75%|███████▌  | 130/173 [00:46<00:28,  1.49it/s]Property 'summary' already exists in node 'f29629'. Skipping!\n",
      "Applying SummaryExtractor:  76%|███████▌  | 131/173 [00:46<00:24,  1.69it/s]Property 'summary' already exists in node '3b62f8'. Skipping!\n",
      "Applying SummaryExtractor:  76%|███████▋  | 132/173 [00:47<00:25,  1.60it/s]Property 'summary' already exists in node '25fe9a'. Skipping!\n",
      "Applying SummaryExtractor:  77%|███████▋  | 133/173 [00:47<00:20,  1.95it/s]Property 'summary' already exists in node 'a5723a'. Skipping!\n",
      "Property 'summary' already exists in node '83edac'. Skipping!\n",
      "Property 'summary' already exists in node '6d25f2'. Skipping!\n",
      "Applying SummaryExtractor:  79%|███████▊  | 136/173 [00:48<00:13,  2.75it/s]Property 'summary' already exists in node '1f5928'. Skipping!\n",
      "Property 'summary' already exists in node 'c5eb86'. Skipping!\n",
      "Applying SummaryExtractor:  80%|███████▉  | 138/173 [00:49<00:12,  2.88it/s]Property 'summary' already exists in node 'f6f36e'. Skipping!\n",
      "Applying SummaryExtractor:  80%|████████  | 139/173 [00:49<00:10,  3.15it/s]Property 'summary' already exists in node 'f86be4'. Skipping!\n",
      "Applying SummaryExtractor:  81%|████████  | 140/173 [00:50<00:16,  1.98it/s]Property 'summary' already exists in node '333e9c'. Skipping!\n",
      "Applying SummaryExtractor:  82%|████████▏ | 141/173 [00:50<00:13,  2.32it/s]Property 'summary' already exists in node 'a28674'. Skipping!\n",
      "Applying SummaryExtractor:  82%|████████▏ | 142/173 [00:52<00:23,  1.33it/s]Property 'summary' already exists in node '82a443'. Skipping!\n",
      "Property 'summary' already exists in node '59c233'. Skipping!\n",
      "Property 'summary' already exists in node '4df974'. Skipping!\n",
      "Applying SummaryExtractor:  84%|████████▍ | 145/173 [00:52<00:10,  2.56it/s]Property 'summary' already exists in node 'f2471b'. Skipping!\n",
      "Applying SummaryExtractor:  84%|████████▍ | 146/173 [00:53<00:11,  2.35it/s]Property 'summary' already exists in node '2daea7'. Skipping!\n",
      "Applying SummaryExtractor:  85%|████████▍ | 147/173 [00:53<00:12,  2.11it/s]Property 'summary' already exists in node '4fb8dc'. Skipping!\n",
      "Applying SummaryExtractor:  86%|████████▌ | 149/173 [00:55<00:15,  1.52it/s]Property 'summary' already exists in node 'f33471'. Skipping!\n",
      "Applying SummaryExtractor:  87%|████████▋ | 150/173 [00:55<00:11,  1.95it/s]Property 'summary' already exists in node 'f4b636'. Skipping!\n",
      "Applying SummaryExtractor:  87%|████████▋ | 151/173 [00:56<00:13,  1.64it/s]Property 'summary' already exists in node '5941f2'. Skipping!\n",
      "Applying SummaryExtractor:  88%|████████▊ | 152/173 [00:57<00:12,  1.74it/s]Property 'summary' already exists in node 'b216e0'. Skipping!\n",
      "Applying SummaryExtractor:  88%|████████▊ | 153/173 [00:57<00:08,  2.23it/s]Property 'summary' already exists in node 'ad8bf2'. Skipping!\n",
      "Applying SummaryExtractor:  89%|████████▉ | 154/173 [00:57<00:07,  2.53it/s]Property 'summary' already exists in node 'd6d583'. Skipping!\n",
      "Applying SummaryExtractor:  90%|████████▉ | 155/173 [00:57<00:07,  2.32it/s]Property 'summary' already exists in node '3c8b81'. Skipping!\n",
      "Applying SummaryExtractor:  90%|█████████ | 156/173 [00:58<00:06,  2.70it/s]Property 'summary' already exists in node '33aa7d'. Skipping!\n",
      "Applying SummaryExtractor:  91%|█████████ | 157/173 [00:58<00:06,  2.36it/s]Property 'summary' already exists in node '3fe2b8'. Skipping!\n",
      "Applying SummaryExtractor:  91%|█████████▏| 158/173 [00:59<00:06,  2.15it/s]Property 'summary' already exists in node 'ffd91f'. Skipping!\n",
      "Applying SummaryExtractor:  92%|█████████▏| 159/173 [01:00<00:07,  1.84it/s]Property 'summary' already exists in node '7b2268'. Skipping!\n",
      "Applying SummaryExtractor:  92%|█████████▏| 160/173 [01:01<00:10,  1.26it/s]Property 'summary' already exists in node '39de06'. Skipping!\n",
      "Applying SummaryExtractor:  93%|█████████▎| 161/173 [01:01<00:07,  1.61it/s]Property 'summary' already exists in node '6fdc09'. Skipping!\n",
      "Property 'summary' already exists in node '39324f'. Skipping!\n",
      "Applying SummaryExtractor:  94%|█████████▍| 163/173 [01:01<00:03,  2.70it/s]Property 'summary' already exists in node '93ca87'. Skipping!\n",
      "Applying SummaryExtractor:  95%|█████████▍| 164/173 [01:02<00:03,  2.65it/s]Property 'summary' already exists in node 'e44bce'. Skipping!\n",
      "Property 'summary' already exists in node '7ea9f5'. Skipping!\n",
      "Applying SummaryExtractor:  96%|█████████▌| 166/173 [01:03<00:03,  1.96it/s]Property 'summary' already exists in node '1f7c60'. Skipping!\n",
      "Applying SummaryExtractor:  97%|█████████▋| 167/173 [01:03<00:02,  2.27it/s]Property 'summary' already exists in node '2f563e'. Skipping!\n",
      "Applying SummaryExtractor:  97%|█████████▋| 168/173 [01:04<00:02,  1.78it/s]Property 'summary' already exists in node '12b0cf'. Skipping!\n",
      "Applying SummaryExtractor:  98%|█████████▊| 169/173 [01:06<00:03,  1.13it/s]Property 'summary' already exists in node 'c5b207'. Skipping!\n",
      "Applying SummaryExtractor:  98%|█████████▊| 170/173 [01:09<00:04,  1.49s/it]Property 'summary' already exists in node 'bd92f2'. Skipping!\n",
      "Applying SummaryExtractor:  99%|█████████▉| 171/173 [01:13<00:04,  2.09s/it]Property 'summary' already exists in node 'e1b50a'. Skipping!\n",
      "Applying SummaryExtractor:  99%|█████████▉| 172/173 [01:14<00:01,  1.96s/it]Property 'summary' already exists in node '643ca5'. Skipping!\n",
      "Applying [EmbeddingExtractor, ThemesExtractor, NERExtractor]:   0%|          | 0/185 [00:00<?, ?it/s]Property 'summary_embedding' already exists in node '9345dd'. Skipping!\n",
      "Property 'summary_embedding' already exists in node '746c8a'. Skipping!\n",
      "Property 'summary_embedding' already exists in node '3944a8'. Skipping!\n",
      "Property 'summary_embedding' already exists in node 'e2a888'. Skipping!\n",
      "Property 'summary_embedding' already exists in node '658f52'. Skipping!\n",
      "Property 'summary_embedding' already exists in node '298ea4'. Skipping!\n",
      "Property 'summary_embedding' already exists in node 'aa475f'. Skipping!\n",
      "Property 'summary_embedding' already exists in node 'aef3a8'. Skipping!\n",
      "Property 'summary_embedding' already exists in node '7f12a4'. Skipping!\n",
      "Property 'summary_embedding' already exists in node 'e28183'. Skipping!\n",
      "Property 'summary_embedding' already exists in node '01323b'. Skipping!\n",
      "Property 'summary_embedding' already exists in node 'c60e2c'. Skipping!\n",
      "Property 'summary_embedding' already exists in node '0d9484'. Skipping!\n",
      "Property 'summary_embedding' already exists in node 'ad8b35'. Skipping!\n",
      "Property 'summary_embedding' already exists in node 'd36597'. Skipping!\n",
      "Property 'summary_embedding' already exists in node '37f203'. Skipping!\n",
      "Property 'summary_embedding' already exists in node 'f0dc8e'. Skipping!\n",
      "Property 'summary_embedding' already exists in node '6b7564'. Skipping!\n",
      "Property 'summary_embedding' already exists in node 'e57a63'. Skipping!\n",
      "Property 'summary_embedding' already exists in node 'caadff'. Skipping!\n",
      "Property 'summary_embedding' already exists in node 'ad8bf2'. Skipping!\n",
      "Property 'summary_embedding' already exists in node '27ce69'. Skipping!\n",
      "Property 'summary_embedding' already exists in node '28e5ca'. Skipping!\n",
      "Property 'summary_embedding' already exists in node '96cf8b'. Skipping!\n",
      "Property 'summary_embedding' already exists in node '8669f1'. Skipping!\n",
      "Property 'summary_embedding' already exists in node '643287'. Skipping!\n",
      "Property 'summary_embedding' already exists in node '4da288'. Skipping!\n",
      "Property 'summary_embedding' already exists in node '6b0c8c'. Skipping!\n",
      "Property 'summary_embedding' already exists in node 'bc8b55'. Skipping!\n",
      "Property 'summary_embedding' already exists in node 'b54a1a'. Skipping!\n",
      "Property 'summary_embedding' already exists in node '9372b0'. Skipping!\n",
      "Property 'summary_embedding' already exists in node '569642'. Skipping!\n",
      "Property 'summary_embedding' already exists in node '9d4256'. Skipping!\n",
      "Property 'summary_embedding' already exists in node '3453c7'. Skipping!\n",
      "Property 'summary_embedding' already exists in node '383f8d'. Skipping!\n",
      "Property 'summary_embedding' already exists in node '975657'. Skipping!\n",
      "Property 'summary_embedding' already exists in node '6fdc09'. Skipping!\n",
      "Property 'summary_embedding' already exists in node '317307'. Skipping!\n",
      "Property 'summary_embedding' already exists in node 'de9c82'. Skipping!\n",
      "Property 'summary_embedding' already exists in node '902585'. Skipping!\n",
      "Property 'summary_embedding' already exists in node 'b3e26a'. Skipping!\n",
      "Property 'summary_embedding' already exists in node '2c67c3'. Skipping!\n",
      "Property 'summary_embedding' already exists in node '467de5'. Skipping!\n",
      "Property 'summary_embedding' already exists in node 'c5b207'. Skipping!\n",
      "Property 'summary_embedding' already exists in node 'f29629'. Skipping!\n",
      "Property 'summary_embedding' already exists in node '83edac'. Skipping!\n",
      "Property 'summary_embedding' already exists in node 'ad2260'. Skipping!\n",
      "Property 'summary_embedding' already exists in node '3b62f8'. Skipping!\n",
      "Property 'summary_embedding' already exists in node '1f5928'. Skipping!\n",
      "Property 'summary_embedding' already exists in node '25fe9a'. Skipping!\n",
      "Property 'summary_embedding' already exists in node 'a5723a'. Skipping!\n",
      "Property 'summary_embedding' already exists in node '12b0cf'. Skipping!\n",
      "Property 'summary_embedding' already exists in node '6d25f2'. Skipping!\n",
      "Property 'summary_embedding' already exists in node 'f6f36e'. Skipping!\n",
      "Property 'summary_embedding' already exists in node 'f86be4'. Skipping!\n",
      "Property 'summary_embedding' already exists in node 'c5eb86'. Skipping!\n",
      "Property 'summary_embedding' already exists in node 'e1b50a'. Skipping!\n",
      "Property 'summary_embedding' already exists in node '333e9c'. Skipping!\n",
      "Property 'summary_embedding' already exists in node '4df974'. Skipping!\n",
      "Property 'summary_embedding' already exists in node 'bd92f2'. Skipping!\n",
      "Property 'summary_embedding' already exists in node 'a28674'. Skipping!\n",
      "Property 'summary_embedding' already exists in node '59c233'. Skipping!\n",
      "Property 'summary_embedding' already exists in node '82a443'. Skipping!\n",
      "Property 'summary_embedding' already exists in node 'f2471b'. Skipping!\n",
      "Property 'summary_embedding' already exists in node '4fb8dc'. Skipping!\n",
      "Property 'summary_embedding' already exists in node '2daea7'. Skipping!\n",
      "Property 'summary_embedding' already exists in node 'f4b636'. Skipping!\n",
      "Property 'summary_embedding' already exists in node 'f33471'. Skipping!\n",
      "Property 'summary_embedding' already exists in node 'd6d583'. Skipping!\n",
      "Property 'summary_embedding' already exists in node 'b216e0'. Skipping!\n",
      "Property 'summary_embedding' already exists in node '5941f2'. Skipping!\n",
      "Property 'summary_embedding' already exists in node '33aa7d'. Skipping!\n",
      "Property 'summary_embedding' already exists in node '643ca5'. Skipping!\n",
      "Property 'summary_embedding' already exists in node '3c8b81'. Skipping!\n",
      "Property 'summary_embedding' already exists in node 'ffd91f'. Skipping!\n",
      "Property 'summary_embedding' already exists in node '3fe2b8'. Skipping!\n",
      "Property 'summary_embedding' already exists in node '7b2268'. Skipping!\n",
      "Property 'summary_embedding' already exists in node '1f7c60'. Skipping!\n",
      "Property 'summary_embedding' already exists in node '39de06'. Skipping!\n",
      "Property 'summary_embedding' already exists in node 'e44bce'. Skipping!\n",
      "Property 'summary_embedding' already exists in node '39324f'. Skipping!\n",
      "Property 'summary_embedding' already exists in node '7ea9f5'. Skipping!\n",
      "Property 'summary_embedding' already exists in node '2f563e'. Skipping!\n",
      "Property 'summary_embedding' already exists in node '93ca87'. Skipping!\n",
      "                                                                                                               \r"
     ]
    },
    {
     "ename": "KeyboardInterrupt",
     "evalue": "",
     "output_type": "error",
     "traceback": [
      "\u001b[31m---------------------------------------------------------------------------\u001b[39m",
      "\u001b[31mKeyboardInterrupt\u001b[39m                         Traceback (most recent call last)",
      "\u001b[36mCell\u001b[39m\u001b[36m \u001b[39m\u001b[32mIn[10]\u001b[39m\u001b[32m, line 4\u001b[39m\n\u001b[32m      1\u001b[39m \u001b[38;5;28;01mfrom\u001b[39;00m\u001b[38;5;250m \u001b[39m\u001b[34;01mragas\u001b[39;00m\u001b[34;01m.\u001b[39;00m\u001b[34;01mtestset\u001b[39;00m\u001b[38;5;250m \u001b[39m\u001b[38;5;28;01mimport\u001b[39;00m TestsetGenerator\n\u001b[32m      3\u001b[39m generator = TestsetGenerator(llm=generator_llm, embedding_model=generator_embeddings)\n\u001b[32m----> \u001b[39m\u001b[32m4\u001b[39m dataset = \u001b[43mgenerator\u001b[49m\u001b[43m.\u001b[49m\u001b[43mgenerate_with_langchain_docs\u001b[49m\u001b[43m(\u001b[49m\u001b[43mpdf_documents\u001b[49m\u001b[43m,\u001b[49m\u001b[43m \u001b[49m\u001b[43mtestset_size\u001b[49m\u001b[43m=\u001b[49m\u001b[32;43m10\u001b[39;49m\u001b[43m,\u001b[49m\u001b[43m \u001b[49m\u001b[43mrun_config\u001b[49m\u001b[43m=\u001b[49m\u001b[43mRunConfig\u001b[49m\u001b[43m(\u001b[49m\u001b[43mmax_workers\u001b[49m\u001b[43m=\u001b[49m\u001b[32;43m16\u001b[39;49m\u001b[43m)\u001b[49m\u001b[43m)\u001b[49m\n",
      "\u001b[36mFile \u001b[39m\u001b[32m~/code/aiml-workspaces/AIE6/Midterm_Challenge/.venv/lib/python3.13/site-packages/ragas/testset/synthesizers/generate.py:188\u001b[39m, in \u001b[36mTestsetGenerator.generate_with_langchain_docs\u001b[39m\u001b[34m(self, documents, testset_size, transforms, transforms_llm, transforms_embedding_model, query_distribution, run_config, callbacks, with_debugging_logs, raise_exceptions)\u001b[39m\n\u001b[32m    185\u001b[39m apply_transforms(kg, transforms)\n\u001b[32m    186\u001b[39m \u001b[38;5;28mself\u001b[39m.knowledge_graph = kg\n\u001b[32m--> \u001b[39m\u001b[32m188\u001b[39m \u001b[38;5;28;01mreturn\u001b[39;00m \u001b[38;5;28;43mself\u001b[39;49m\u001b[43m.\u001b[49m\u001b[43mgenerate\u001b[49m\u001b[43m(\u001b[49m\n\u001b[32m    189\u001b[39m \u001b[43m    \u001b[49m\u001b[43mtestset_size\u001b[49m\u001b[43m=\u001b[49m\u001b[43mtestset_size\u001b[49m\u001b[43m,\u001b[49m\n\u001b[32m    190\u001b[39m \u001b[43m    \u001b[49m\u001b[43mquery_distribution\u001b[49m\u001b[43m=\u001b[49m\u001b[43mquery_distribution\u001b[49m\u001b[43m,\u001b[49m\n\u001b[32m    191\u001b[39m \u001b[43m    \u001b[49m\u001b[43mrun_config\u001b[49m\u001b[43m=\u001b[49m\u001b[43mrun_config\u001b[49m\u001b[43m,\u001b[49m\n\u001b[32m    192\u001b[39m \u001b[43m    \u001b[49m\u001b[43mcallbacks\u001b[49m\u001b[43m=\u001b[49m\u001b[43mcallbacks\u001b[49m\u001b[43m,\u001b[49m\n\u001b[32m    193\u001b[39m \u001b[43m    \u001b[49m\u001b[43mwith_debugging_logs\u001b[49m\u001b[43m=\u001b[49m\u001b[43mwith_debugging_logs\u001b[49m\u001b[43m,\u001b[49m\n\u001b[32m    194\u001b[39m \u001b[43m    \u001b[49m\u001b[43mraise_exceptions\u001b[49m\u001b[43m=\u001b[49m\u001b[43mraise_exceptions\u001b[49m\u001b[43m,\u001b[49m\n\u001b[32m    195\u001b[39m \u001b[43m\u001b[49m\u001b[43m)\u001b[49m\n",
      "\u001b[36mFile \u001b[39m\u001b[32m~/code/aiml-workspaces/AIE6/Midterm_Challenge/.venv/lib/python3.13/site-packages/ragas/testset/synthesizers/generate.py:330\u001b[39m, in \u001b[36mTestsetGenerator.generate\u001b[39m\u001b[34m(self, testset_size, query_distribution, num_personas, run_config, batch_size, callbacks, token_usage_parser, with_debugging_logs, raise_exceptions)\u001b[39m\n\u001b[32m    327\u001b[39m \u001b[38;5;28;01mif\u001b[39;00m run_config \u001b[38;5;129;01mis\u001b[39;00m \u001b[38;5;129;01mnot\u001b[39;00m \u001b[38;5;28;01mNone\u001b[39;00m:\n\u001b[32m    328\u001b[39m     \u001b[38;5;28mself\u001b[39m.llm.set_run_config(run_config)\n\u001b[32m--> \u001b[39m\u001b[32m330\u001b[39m query_distribution = query_distribution \u001b[38;5;129;01mor\u001b[39;00m \u001b[43mdefault_query_distribution\u001b[49m\u001b[43m(\u001b[49m\n\u001b[32m    331\u001b[39m \u001b[43m    \u001b[49m\u001b[38;5;28;43mself\u001b[39;49m\u001b[43m.\u001b[49m\u001b[43mllm\u001b[49m\u001b[43m,\u001b[49m\u001b[43m \u001b[49m\u001b[38;5;28;43mself\u001b[39;49m\u001b[43m.\u001b[49m\u001b[43mknowledge_graph\u001b[49m\n\u001b[32m    332\u001b[39m \u001b[43m\u001b[49m\u001b[43m)\u001b[49m\n\u001b[32m    333\u001b[39m callbacks = callbacks \u001b[38;5;129;01mor\u001b[39;00m []\n\u001b[32m    335\u001b[39m \u001b[38;5;66;03m# dict to store any callbacks we define\u001b[39;00m\n",
      "\u001b[36mFile \u001b[39m\u001b[32m~/code/aiml-workspaces/AIE6/Midterm_Challenge/.venv/lib/python3.13/site-packages/ragas/testset/synthesizers/__init__.py:30\u001b[39m, in \u001b[36mdefault_query_distribution\u001b[39m\u001b[34m(llm, kg)\u001b[39m\n\u001b[32m     28\u001b[39m     available_queries = []\n\u001b[32m     29\u001b[39m     \u001b[38;5;28;01mfor\u001b[39;00m query \u001b[38;5;129;01min\u001b[39;00m default_queries:\n\u001b[32m---> \u001b[39m\u001b[32m30\u001b[39m         \u001b[38;5;28;01mif\u001b[39;00m \u001b[43mquery\u001b[49m\u001b[43m.\u001b[49m\u001b[43mget_node_clusters\u001b[49m\u001b[43m(\u001b[49m\u001b[43mkg\u001b[49m\u001b[43m)\u001b[49m:\n\u001b[32m     31\u001b[39m             available_queries.append(query)\n\u001b[32m     32\u001b[39m \u001b[38;5;28;01melse\u001b[39;00m:\n",
      "\u001b[36mFile \u001b[39m\u001b[32m~/code/aiml-workspaces/AIE6/Midterm_Challenge/.venv/lib/python3.13/site-packages/ragas/testset/synthesizers/multi_hop/abstract.py:47\u001b[39m, in \u001b[36mMultiHopAbstractQuerySynthesizer.get_node_clusters\u001b[39m\u001b[34m(self, knowledge_graph)\u001b[39m\n\u001b[32m     45\u001b[39m \u001b[38;5;28;01mdef\u001b[39;00m\u001b[38;5;250m \u001b[39m\u001b[34mget_node_clusters\u001b[39m(\u001b[38;5;28mself\u001b[39m, knowledge_graph: KnowledgeGraph) -> t.List[t.Set[Node]]:\n\u001b[32m---> \u001b[39m\u001b[32m47\u001b[39m     node_clusters = \u001b[43mknowledge_graph\u001b[49m\u001b[43m.\u001b[49m\u001b[43mfind_indirect_clusters\u001b[49m\u001b[43m(\u001b[49m\n\u001b[32m     48\u001b[39m \u001b[43m        \u001b[49m\u001b[43mrelationship_condition\u001b[49m\u001b[43m=\u001b[49m\u001b[38;5;28;43;01mlambda\u001b[39;49;00m\u001b[43m \u001b[49m\u001b[43mrel\u001b[49m\u001b[43m:\u001b[49m\u001b[43m \u001b[49m\u001b[43m(\u001b[49m\n\u001b[32m     49\u001b[39m \u001b[43m            \u001b[49m\u001b[38;5;28;43;01mTrue\u001b[39;49;00m\u001b[43m \u001b[49m\u001b[38;5;28;43;01mif\u001b[39;49;00m\u001b[43m \u001b[49m\u001b[43mrel\u001b[49m\u001b[43m.\u001b[49m\u001b[43mget_property\u001b[49m\u001b[43m(\u001b[49m\u001b[33;43m\"\u001b[39;49m\u001b[33;43msummary_similarity\u001b[39;49m\u001b[33;43m\"\u001b[39;49m\u001b[43m)\u001b[49m\u001b[43m \u001b[49m\u001b[38;5;28;43;01melse\u001b[39;49;00m\u001b[43m \u001b[49m\u001b[38;5;28;43;01mFalse\u001b[39;49;00m\n\u001b[32m     50\u001b[39m \u001b[43m        \u001b[49m\u001b[43m)\u001b[49m\u001b[43m,\u001b[49m\n\u001b[32m     51\u001b[39m \u001b[43m        \u001b[49m\u001b[43mdepth_limit\u001b[49m\u001b[43m=\u001b[49m\u001b[32;43m3\u001b[39;49m\u001b[43m,\u001b[49m\n\u001b[32m     52\u001b[39m \u001b[43m    \u001b[49m\u001b[43m)\u001b[49m\n\u001b[32m     53\u001b[39m     logger.info(\u001b[33m\"\u001b[39m\u001b[33mfound \u001b[39m\u001b[38;5;132;01m%d\u001b[39;00m\u001b[33m clusters\u001b[39m\u001b[33m\"\u001b[39m, \u001b[38;5;28mlen\u001b[39m(node_clusters))\n\u001b[32m     54\u001b[39m     \u001b[38;5;28;01mreturn\u001b[39;00m node_clusters\n",
      "\u001b[36mFile \u001b[39m\u001b[32m~/code/aiml-workspaces/AIE6/Midterm_Challenge/.venv/lib/python3.13/site-packages/ragas/testset/graph.py:306\u001b[39m, in \u001b[36mKnowledgeGraph.find_indirect_clusters\u001b[39m\u001b[34m(self, relationship_condition, depth_limit)\u001b[39m\n\u001b[32m    304\u001b[39m \u001b[38;5;28;01mfor\u001b[39;00m node \u001b[38;5;129;01min\u001b[39;00m \u001b[38;5;28mself\u001b[39m.nodes:\n\u001b[32m    305\u001b[39m     initial_cluster = \u001b[38;5;28mset\u001b[39m()\n\u001b[32m--> \u001b[39m\u001b[32m306\u001b[39m     \u001b[43mdfs\u001b[49m\u001b[43m(\u001b[49m\u001b[43mnode\u001b[49m\u001b[43m,\u001b[49m\u001b[43m \u001b[49m\u001b[43minitial_cluster\u001b[49m\u001b[43m,\u001b[49m\u001b[43m \u001b[49m\u001b[32;43m0\u001b[39;49m\u001b[43m,\u001b[49m\u001b[43m \u001b[49m\u001b[43m(\u001b[49m\u001b[43mnode\u001b[49m\u001b[43m,\u001b[49m\u001b[43m)\u001b[49m\u001b[43m)\u001b[49m\n\u001b[32m    308\u001b[39m \u001b[38;5;66;03m# Remove duplicates by converting clusters to frozensets\u001b[39;00m\n\u001b[32m    309\u001b[39m unique_clusters = [\n\u001b[32m    310\u001b[39m     \u001b[38;5;28mset\u001b[39m(cluster) \u001b[38;5;28;01mfor\u001b[39;00m cluster \u001b[38;5;129;01min\u001b[39;00m \u001b[38;5;28mset\u001b[39m(\u001b[38;5;28mfrozenset\u001b[39m(c) \u001b[38;5;28;01mfor\u001b[39;00m c \u001b[38;5;129;01min\u001b[39;00m clusters)\n\u001b[32m    311\u001b[39m ]\n",
      "\u001b[36mFile \u001b[39m\u001b[32m~/code/aiml-workspaces/AIE6/Midterm_Challenge/.venv/lib/python3.13/site-packages/ragas/testset/graph.py:298\u001b[39m, in \u001b[36mKnowledgeGraph.find_indirect_clusters.<locals>.dfs\u001b[39m\u001b[34m(node, cluster, depth, path)\u001b[39m\n\u001b[32m    295\u001b[39m         neighbor = rel.source\n\u001b[32m    297\u001b[39m     \u001b[38;5;28;01mif\u001b[39;00m neighbor \u001b[38;5;129;01mis\u001b[39;00m \u001b[38;5;129;01mnot\u001b[39;00m \u001b[38;5;28;01mNone\u001b[39;00m:\n\u001b[32m--> \u001b[39m\u001b[32m298\u001b[39m         \u001b[43mdfs\u001b[49m\u001b[43m(\u001b[49m\u001b[43mneighbor\u001b[49m\u001b[43m,\u001b[49m\u001b[43m \u001b[49m\u001b[43mcluster\u001b[49m\u001b[43m.\u001b[49m\u001b[43mcopy\u001b[49m\u001b[43m(\u001b[49m\u001b[43m)\u001b[49m\u001b[43m,\u001b[49m\u001b[43m \u001b[49m\u001b[43mdepth\u001b[49m\u001b[43m \u001b[49m\u001b[43m+\u001b[49m\u001b[43m \u001b[49m\u001b[32;43m1\u001b[39;49m\u001b[43m,\u001b[49m\u001b[43m \u001b[49m\u001b[43mpath\u001b[49m\u001b[43m \u001b[49m\u001b[43m+\u001b[49m\u001b[43m \u001b[49m\u001b[43m(\u001b[49m\u001b[43mneighbor\u001b[49m\u001b[43m,\u001b[49m\u001b[43m)\u001b[49m\u001b[43m)\u001b[49m\n\u001b[32m    300\u001b[39m \u001b[38;5;66;03m# Add completed path-based cluster\u001b[39;00m\n\u001b[32m    301\u001b[39m \u001b[38;5;28;01mif\u001b[39;00m \u001b[38;5;28mlen\u001b[39m(cluster) > \u001b[32m1\u001b[39m:\n",
      "\u001b[36mFile \u001b[39m\u001b[32m~/code/aiml-workspaces/AIE6/Midterm_Challenge/.venv/lib/python3.13/site-packages/ragas/testset/graph.py:298\u001b[39m, in \u001b[36mKnowledgeGraph.find_indirect_clusters.<locals>.dfs\u001b[39m\u001b[34m(node, cluster, depth, path)\u001b[39m\n\u001b[32m    295\u001b[39m         neighbor = rel.source\n\u001b[32m    297\u001b[39m     \u001b[38;5;28;01mif\u001b[39;00m neighbor \u001b[38;5;129;01mis\u001b[39;00m \u001b[38;5;129;01mnot\u001b[39;00m \u001b[38;5;28;01mNone\u001b[39;00m:\n\u001b[32m--> \u001b[39m\u001b[32m298\u001b[39m         \u001b[43mdfs\u001b[49m\u001b[43m(\u001b[49m\u001b[43mneighbor\u001b[49m\u001b[43m,\u001b[49m\u001b[43m \u001b[49m\u001b[43mcluster\u001b[49m\u001b[43m.\u001b[49m\u001b[43mcopy\u001b[49m\u001b[43m(\u001b[49m\u001b[43m)\u001b[49m\u001b[43m,\u001b[49m\u001b[43m \u001b[49m\u001b[43mdepth\u001b[49m\u001b[43m \u001b[49m\u001b[43m+\u001b[49m\u001b[43m \u001b[49m\u001b[32;43m1\u001b[39;49m\u001b[43m,\u001b[49m\u001b[43m \u001b[49m\u001b[43mpath\u001b[49m\u001b[43m \u001b[49m\u001b[43m+\u001b[49m\u001b[43m \u001b[49m\u001b[43m(\u001b[49m\u001b[43mneighbor\u001b[49m\u001b[43m,\u001b[49m\u001b[43m)\u001b[49m\u001b[43m)\u001b[49m\n\u001b[32m    300\u001b[39m \u001b[38;5;66;03m# Add completed path-based cluster\u001b[39;00m\n\u001b[32m    301\u001b[39m \u001b[38;5;28;01mif\u001b[39;00m \u001b[38;5;28mlen\u001b[39m(cluster) > \u001b[32m1\u001b[39m:\n",
      "\u001b[36mFile \u001b[39m\u001b[32m~/code/aiml-workspaces/AIE6/Midterm_Challenge/.venv/lib/python3.13/site-packages/ragas/testset/graph.py:292\u001b[39m, in \u001b[36mKnowledgeGraph.find_indirect_clusters.<locals>.dfs\u001b[39m\u001b[34m(node, cluster, depth, path)\u001b[39m\n\u001b[32m    288\u001b[39m \u001b[38;5;28;01mif\u001b[39;00m rel.source == node \u001b[38;5;129;01mand\u001b[39;00m rel.target \u001b[38;5;129;01mnot\u001b[39;00m \u001b[38;5;129;01min\u001b[39;00m cluster:\n\u001b[32m    289\u001b[39m     neighbor = rel.target\n\u001b[32m    290\u001b[39m \u001b[38;5;28;01melif\u001b[39;00m (\n\u001b[32m    291\u001b[39m     rel.bidirectional\n\u001b[32m--> \u001b[39m\u001b[32m292\u001b[39m     \u001b[38;5;129;01mand\u001b[39;00m \u001b[43mrel\u001b[49m\u001b[43m.\u001b[49m\u001b[43mtarget\u001b[49m\u001b[43m \u001b[49m\u001b[43m==\u001b[49m\u001b[43m \u001b[49m\u001b[43mnode\u001b[49m\n\u001b[32m    293\u001b[39m     \u001b[38;5;129;01mand\u001b[39;00m rel.source \u001b[38;5;129;01mnot\u001b[39;00m \u001b[38;5;129;01min\u001b[39;00m cluster\n\u001b[32m    294\u001b[39m ):\n\u001b[32m    295\u001b[39m     neighbor = rel.source\n\u001b[32m    297\u001b[39m \u001b[38;5;28;01mif\u001b[39;00m neighbor \u001b[38;5;129;01mis\u001b[39;00m \u001b[38;5;129;01mnot\u001b[39;00m \u001b[38;5;28;01mNone\u001b[39;00m:\n",
      "\u001b[36mFile \u001b[39m\u001b[32m~/code/aiml-workspaces/AIE6/Midterm_Challenge/.venv/lib/python3.13/site-packages/ragas/testset/graph.py:82\u001b[39m, in \u001b[36mNode.__eq__\u001b[39m\u001b[34m(self, other)\u001b[39m\n\u001b[32m     79\u001b[39m \u001b[38;5;28;01mdef\u001b[39;00m\u001b[38;5;250m \u001b[39m\u001b[34m__hash__\u001b[39m(\u001b[38;5;28mself\u001b[39m) -> \u001b[38;5;28mint\u001b[39m:\n\u001b[32m     80\u001b[39m     \u001b[38;5;28;01mreturn\u001b[39;00m \u001b[38;5;28mhash\u001b[39m(\u001b[38;5;28mself\u001b[39m.id)\n\u001b[32m---> \u001b[39m\u001b[32m82\u001b[39m \u001b[38;5;28;01mdef\u001b[39;00m\u001b[38;5;250m \u001b[39m\u001b[34m__eq__\u001b[39m(\u001b[38;5;28mself\u001b[39m, other: \u001b[38;5;28mobject\u001b[39m) -> \u001b[38;5;28mbool\u001b[39m:\n\u001b[32m     83\u001b[39m     \u001b[38;5;28;01mif\u001b[39;00m \u001b[38;5;28misinstance\u001b[39m(other, Node):\n\u001b[32m     84\u001b[39m         \u001b[38;5;28;01mreturn\u001b[39;00m \u001b[38;5;28mself\u001b[39m.id == other.id\n",
      "\u001b[31mKeyboardInterrupt\u001b[39m: "
     ]
    }
   ],
   "source": [
    "from ragas.testset import TestsetGenerator\n",
    "\n",
    "generator = TestsetGenerator(llm=generator_llm, embedding_model=generator_embeddings)\n",
    "dataset = generator.generate_with_langchain_docs(pdf_documents, testset_size=10, run_config=RunConfig(max_workers=16))"
   ]
  },
  {
   "cell_type": "markdown",
   "metadata": {},
   "source": [
    "#### View the Generated Dataset as a Pandas Dataframe"
   ]
  },
  {
   "cell_type": "code",
   "execution_count": null,
   "metadata": {},
   "outputs": [],
   "source": []
  }
 ],
 "metadata": {
  "kernelspec": {
   "display_name": ".venv",
   "language": "python",
   "name": "python3"
  },
  "language_info": {
   "codemirror_mode": {
    "name": "ipython",
    "version": 3
   },
   "file_extension": ".py",
   "mimetype": "text/x-python",
   "name": "python",
   "nbconvert_exporter": "python",
   "pygments_lexer": "ipython3",
   "version": "3.13.2"
  }
 },
 "nbformat": 4,
 "nbformat_minor": 2
}
