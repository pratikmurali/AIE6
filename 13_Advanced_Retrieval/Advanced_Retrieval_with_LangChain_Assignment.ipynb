{
  "cells": [
    {
      "cell_type": "markdown",
      "metadata": {
        "id": "e-IqJAMkwnCF"
      },
      "source": [
        "# Advanced Retrieval with LangChain\n",
        "\n",
        "In the following notebook, we'll explore various methods of advanced retrieval using LangChain!\n",
        "\n",
        "We'll touch on:\n",
        "\n",
        "- Naive Retrieval\n",
        "- Best-Matching 25 (BM25)\n",
        "- Multi-Query Retrieval\n",
        "- Parent-Document Retrieval\n",
        "- Contextual Compression (a.k.a. Rerank)\n",
        "- Ensemble Retrieval\n",
        "- Semantic chunking\n",
        "\n",
        "We'll also discuss how these methods impact performance on our set of documents with a simple RAG chain.\n",
        "\n",
        "There will be two breakout rooms:\n",
        "\n",
        "- 🤝 Breakout Room Part #1\n",
        "  - Task 1: Getting Dependencies!\n",
        "  - Task 2: Data Collection and Preparation\n",
        "  - Task 3: Setting Up QDrant!\n",
        "  - Task 4-10: Retrieval Strategies\n",
        "- 🤝 Breakout Room Part #2\n",
        "  - Activity: Evaluate with Ragas"
      ]
    },
    {
      "cell_type": "markdown",
      "metadata": {
        "id": "4rKP3hgHivpe"
      },
      "source": [
        "# 🤝 Breakout Room Part #1"
      ]
    },
    {
      "cell_type": "markdown",
      "metadata": {
        "id": "3xes8oT-xHN7"
      },
      "source": [
        "## Task 1: Getting Dependencies!\n",
        "\n",
        "We're going to need a few specific LangChain community packages, like OpenAI (for our [LLM](https://platform.openai.com/docs/models) and [Embedding Model](https://platform.openai.com/docs/guides/embeddings)) and Cohere (for our [Reranker](https://cohere.com/rerank)).\n",
        "\n",
        "> You do not need to run the following cells if you are running this notebook locally. "
      ]
    },
    {
      "cell_type": "code",
      "execution_count": 1,
      "metadata": {
        "colab": {
          "base_uri": "https://localhost:8080/"
        },
        "id": "MkgFAXWVW3wm",
        "outputId": "636db35c-f05a-4038-ec7a-02360bef2dae"
      },
      "outputs": [],
      "source": [
        "#!pip install -qU langchain langchain-openai langchain-cohere rank_bm25"
      ]
    },
    {
      "cell_type": "markdown",
      "metadata": {
        "id": "dKqYM4Eoxcov"
      },
      "source": [
        "We're also going to be leveraging [Qdrant's](https://qdrant.tech/documentation/frameworks/langchain/) (pronounced \"Quadrant\") VectorDB in \"memory\" mode (so we can leverage it locally in our colab environment)."
      ]
    },
    {
      "cell_type": "code",
      "execution_count": 2,
      "metadata": {
        "id": "s6xav5CxYnML"
      },
      "outputs": [],
      "source": [
        "#!pip install -qU qdrant-client"
      ]
    },
    {
      "cell_type": "markdown",
      "metadata": {
        "id": "Z7OHJXzfyJyA"
      },
      "source": [
        "We'll also provide our OpenAI key, as well as our Cohere API key."
      ]
    },
    {
      "cell_type": "code",
      "execution_count": 3,
      "metadata": {
        "colab": {
          "base_uri": "https://localhost:8080/"
        },
        "id": "7LttlDQUYgSI",
        "outputId": "9dca95ab-4d02-4adf-ec3f-cb831326dc54"
      },
      "outputs": [],
      "source": [
        "import os\n",
        "import getpass\n",
        "\n",
        "os.environ[\"OPENAI_API_KEY\"] = getpass.getpass(\"Enter your OpenAI API Key:\")"
      ]
    },
    {
      "cell_type": "code",
      "execution_count": 4,
      "metadata": {
        "colab": {
          "base_uri": "https://localhost:8080/"
        },
        "id": "3iUahNiJyQbv",
        "outputId": "78bf06ef-2ee8-46c3-f73d-27958b4dd79b"
      },
      "outputs": [],
      "source": [
        "os.environ[\"COHERE_API_KEY\"] = getpass.getpass(\"Cohere API Key:\")"
      ]
    },
    {
      "cell_type": "markdown",
      "metadata": {
        "id": "B0pDRFEWSXvh"
      },
      "source": [
        "#### Additionally let us setup LangSmith for Tracing!"
      ]
    },
    {
      "cell_type": "code",
      "execution_count": 5,
      "metadata": {},
      "outputs": [],
      "source": [
        "# First, ensure LangSmith is properly configured\n",
        "# Set up tracing\n",
        "os.environ[\"LANGCHAIN_TRACING_V2\"] = \"true\"\n",
        "os.environ[\"LANGCHAIN_ENDPOINT\"] = \"https://api.smith.langchain.com\"\n",
        "os.environ[\"LANGCHAIN_API_KEY\"] = getpass.getpass(\"Please enter LangSmith API key!\")\n",
        "os.environ[\"LANGCHAIN_PROJECT\"] = \"john-wick-retriever-evaluation\""
      ]
    },
    {
      "cell_type": "markdown",
      "metadata": {},
      "source": [
        "### Test the Langsmith connection."
      ]
    },
    {
      "cell_type": "code",
      "execution_count": 6,
      "metadata": {},
      "outputs": [
        {
          "name": "stdout",
          "output_type": "stream",
          "text": [
            "Connection successful! Found 26 projects.\n"
          ]
        }
      ],
      "source": [
        "from langsmith import Client\n",
        "\n",
        "try:\n",
        "    # Initialize the client (will use env var if available)\n",
        "    langsmith_client = Client()\n",
        "    \n",
        "    # Try to fetch something simple, like projects\n",
        "    projects = langsmith_client.list_projects()\n",
        "    print(f\"Connection successful! Found {len(list(projects))} projects.\")\n",
        "    \n",
        "except Exception as e:\n",
        "    print(f\"Connection failed: {str(e)}\")"
      ]
    },
    {
      "cell_type": "markdown",
      "metadata": {
        "id": "mw304iAFyRtl"
      },
      "source": [
        "## Task 2: Data Collection and Preparation\n",
        "\n",
        "We'll be using some reviews from the 4 movies in the John Wick franchise today to explore the different retrieval strategies.\n",
        "\n",
        "These were obtained from IMDB, and are available in the [AIM Data Repository](https://github.com/AI-Maker-Space/DataRepository)."
      ]
    },
    {
      "cell_type": "markdown",
      "metadata": {
        "id": "xXKHcZmKzDwT"
      },
      "source": [
        "### Data Collection\n",
        "\n",
        "We can simply `wget` these from GitHub.\n",
        "\n",
        "You could use any review data you wanted in this step - just be careful to make sure your metadata is aligned with your choice."
      ]
    },
    {
      "cell_type": "code",
      "execution_count": 7,
      "metadata": {
        "colab": {
          "base_uri": "https://localhost:8080/"
        },
        "id": "vbbSIGtzX3dS",
        "outputId": "0ce6514e-2479-4001-af24-824f987ce599"
      },
      "outputs": [
        {
          "name": "stdout",
          "output_type": "stream",
          "text": [
            "--2025-05-19 21:37:08--  https://raw.githubusercontent.com/AI-Maker-Space/DataRepository/main/jw1.csv\n",
            "Resolving raw.githubusercontent.com (raw.githubusercontent.com)... 2606:50c0:8002::154, 2606:50c0:8001::154, 2606:50c0:8000::154, ...\n",
            "Connecting to raw.githubusercontent.com (raw.githubusercontent.com)|2606:50c0:8002::154|:443... connected.\n",
            "HTTP request sent, awaiting response... 200 OK\n",
            "Length: 19628 (19K) [text/plain]\n",
            "Saving to: ‘john_wick_1.csv’\n",
            "\n",
            "john_wick_1.csv     100%[===================>]  19.17K  --.-KB/s    in 0s      \n",
            "\n",
            "2025-05-19 21:37:09 (86.7 MB/s) - ‘john_wick_1.csv’ saved [19628/19628]\n",
            "\n",
            "--2025-05-19 21:37:09--  https://raw.githubusercontent.com/AI-Maker-Space/DataRepository/main/jw2.csv\n",
            "Resolving raw.githubusercontent.com (raw.githubusercontent.com)... 2606:50c0:8002::154, 2606:50c0:8001::154, 2606:50c0:8000::154, ...\n",
            "Connecting to raw.githubusercontent.com (raw.githubusercontent.com)|2606:50c0:8002::154|:443... connected.\n",
            "HTTP request sent, awaiting response... 200 OK\n",
            "Length: 14747 (14K) [text/plain]\n",
            "Saving to: ‘john_wick_2.csv’\n",
            "\n",
            "john_wick_2.csv     100%[===================>]  14.40K  --.-KB/s    in 0.001s  \n",
            "\n",
            "2025-05-19 21:37:09 (19.3 MB/s) - ‘john_wick_2.csv’ saved [14747/14747]\n",
            "\n",
            "--2025-05-19 21:37:09--  https://raw.githubusercontent.com/AI-Maker-Space/DataRepository/main/jw3.csv\n",
            "Resolving raw.githubusercontent.com (raw.githubusercontent.com)... 2606:50c0:8002::154, 2606:50c0:8001::154, 2606:50c0:8000::154, ...\n",
            "Connecting to raw.githubusercontent.com (raw.githubusercontent.com)|2606:50c0:8002::154|:443... connected.\n",
            "HTTP request sent, awaiting response... 200 OK\n",
            "Length: 13888 (14K) [text/plain]\n",
            "Saving to: ‘john_wick_3.csv’\n",
            "\n",
            "john_wick_3.csv     100%[===================>]  13.56K  --.-KB/s    in 0s      \n",
            "\n",
            "2025-05-19 21:37:10 (47.1 MB/s) - ‘john_wick_3.csv’ saved [13888/13888]\n",
            "\n",
            "--2025-05-19 21:37:10--  https://raw.githubusercontent.com/AI-Maker-Space/DataRepository/main/jw4.csv\n",
            "Resolving raw.githubusercontent.com (raw.githubusercontent.com)... 2606:50c0:8002::154, 2606:50c0:8001::154, 2606:50c0:8000::154, ...\n",
            "Connecting to raw.githubusercontent.com (raw.githubusercontent.com)|2606:50c0:8002::154|:443... connected.\n",
            "HTTP request sent, awaiting response... 200 OK\n",
            "Length: 15109 (15K) [text/plain]\n",
            "Saving to: ‘john_wick_4.csv’\n",
            "\n",
            "john_wick_4.csv     100%[===================>]  14.75K  --.-KB/s    in 0s      \n",
            "\n",
            "2025-05-19 21:37:10 (34.6 MB/s) - ‘john_wick_4.csv’ saved [15109/15109]\n",
            "\n"
          ]
        }
      ],
      "source": [
        "!wget https://raw.githubusercontent.com/AI-Maker-Space/DataRepository/main/jw1.csv -O john_wick_1.csv\n",
        "!wget https://raw.githubusercontent.com/AI-Maker-Space/DataRepository/main/jw2.csv -O john_wick_2.csv\n",
        "!wget https://raw.githubusercontent.com/AI-Maker-Space/DataRepository/main/jw3.csv -O john_wick_3.csv\n",
        "!wget https://raw.githubusercontent.com/AI-Maker-Space/DataRepository/main/jw4.csv -O john_wick_4.csv"
      ]
    },
    {
      "cell_type": "markdown",
      "metadata": {
        "id": "A92NC2QZzCsi"
      },
      "source": [
        "### Data Preparation\n",
        "\n",
        "We want to make sure all our documents have the relevant metadata for the various retrieval strategies we're going to be applying today.\n",
        "\n",
        "- Self-Query: Wants as much metadata as we can provide\n",
        "- Time-weighted: Wants temporal data\n",
        "\n",
        "> NOTE: While we're creating a temporal relationship based on when these movies came out for illustrative purposes, it needs to be clear that the \"time-weighting\" in the Time-weighted Retriever is based on when the document was *accessed* last - not when it was created."
      ]
    },
    {
      "cell_type": "code",
      "execution_count": 8,
      "metadata": {
        "id": "GshBjVRJZ6p8"
      },
      "outputs": [],
      "source": [
        "from langchain_community.document_loaders.csv_loader import CSVLoader\n",
        "from datetime import datetime, timedelta\n",
        "\n",
        "documents = []\n",
        "\n",
        "for i in range(1, 5):\n",
        "  loader = CSVLoader(\n",
        "      file_path=f\"john_wick_{i}.csv\",\n",
        "      metadata_columns=[\"Review_Date\", \"Review_Title\", \"Review_Url\", \"Author\", \"Rating\"]\n",
        "  )\n",
        "\n",
        "  movie_docs = loader.load()\n",
        "  for doc in movie_docs:\n",
        "\n",
        "    # Add the \"Movie Title\" (John Wick 1, 2, ...)\n",
        "    doc.metadata[\"Movie_Title\"] = f\"John Wick {i}\"\n",
        "\n",
        "    # convert \"Rating\" to an `int`, if no rating is provided - assume 0 rating\n",
        "    doc.metadata[\"Rating\"] = int(doc.metadata[\"Rating\"]) if doc.metadata[\"Rating\"] else 0\n",
        "\n",
        "    # newer movies have a more recent \"last_accessed_at\"\n",
        "    doc.metadata[\"last_accessed_at\"] = datetime.now() - timedelta(days=4-i)\n",
        "\n",
        "  documents.extend(movie_docs)"
      ]
    },
    {
      "cell_type": "markdown",
      "metadata": {
        "id": "9gQphb6y0C0S"
      },
      "source": [
        "Let's look at an example document to see if everything worked as expected!"
      ]
    },
    {
      "cell_type": "code",
      "execution_count": 9,
      "metadata": {
        "colab": {
          "base_uri": "https://localhost:8080/"
        },
        "id": "PkUkCf7DaMiq",
        "outputId": "e90bd5da-1d87-423b-838a-cb6efc16b199"
      },
      "outputs": [
        {
          "data": {
            "text/plain": [
              "Document(metadata={'source': 'john_wick_1.csv', 'row': 0, 'Review_Date': '6 May 2015', 'Review_Title': ' Kinetic, concise, and stylish; John Wick kicks ass.\\n', 'Review_Url': '/review/rw3233896/?ref_=tt_urv', 'Author': 'lnvicta', 'Rating': 8, 'Movie_Title': 'John Wick 1', 'last_accessed_at': datetime.datetime(2025, 5, 16, 21, 37, 10, 705305)}, page_content=\": 0\\nReview: The best way I can describe John Wick is to picture Taken but instead of Liam Neeson it's Keanu Reeves and instead of his daughter it's his dog. That's essentially the plot of the movie. John Wick (Reeves) is out to seek revenge on the people who took something he loved from him. It's a beautifully simple premise for an action movie - when action movies get convoluted, they get bad i.e. A Good Day to Die Hard. John Wick gives the viewers what they want: Awesome action, stylish stunts, kinetic chaos, and a relatable hero to tie it all together. John Wick succeeds in its simplicity.\")"
            ]
          },
          "execution_count": 9,
          "metadata": {},
          "output_type": "execute_result"
        }
      ],
      "source": [
        "documents[0]"
      ]
    },
    {
      "cell_type": "markdown",
      "metadata": {
        "id": "lWaQpdHl0Gzc"
      },
      "source": [
        "## Task 3: Setting up QDrant!\n",
        "\n",
        "Now that we have our documents, let's create a QDrant VectorStore with the collection name \"JohnWick\".\n",
        "\n",
        "We'll leverage OpenAI's [`text-embedding-3-small`](https://openai.com/blog/new-embedding-models-and-api-updates) because it's a very powerful (and low-cost) embedding model.\n",
        "\n",
        "> NOTE: We'll be creating additional vectorstores where necessary, but this pattern is still extremely useful."
      ]
    },
    {
      "cell_type": "code",
      "execution_count": 10,
      "metadata": {
        "id": "NT8ihRJbYmMT"
      },
      "outputs": [],
      "source": [
        "from langchain_community.vectorstores import Qdrant\n",
        "from langchain_openai import OpenAIEmbeddings\n",
        "\n",
        "embeddings = OpenAIEmbeddings(model=\"text-embedding-3-small\")\n",
        "\n",
        "vectorstore = Qdrant.from_documents(\n",
        "    documents,\n",
        "    embeddings,\n",
        "    location=\":memory:\",\n",
        "    collection_name=\"JohnWick\"\n",
        ")"
      ]
    },
    {
      "cell_type": "markdown",
      "metadata": {
        "id": "-x2SS4Rh0hiN"
      },
      "source": [
        "## Task 4: Naive RAG Chain\n",
        "\n",
        "Since we're focusing on the \"R\" in RAG today - we'll create our Retriever first."
      ]
    },
    {
      "cell_type": "markdown",
      "metadata": {
        "id": "NEH7X5Ai08FH"
      },
      "source": [
        "### R - Retrieval\n",
        "\n",
        "This naive retriever will simply look at each review as a document, and use cosine-similarity to fetch the 10 most relevant documents.\n",
        "\n",
        "> NOTE: We're choosing `10` as our `k` here to provide enough documents for our reranking process later"
      ]
    },
    {
      "cell_type": "code",
      "execution_count": 11,
      "metadata": {
        "id": "GFDPrNBtb72o"
      },
      "outputs": [],
      "source": [
        "naive_retriever = vectorstore.as_retriever(search_kwargs={\"k\" : 10})"
      ]
    },
    {
      "cell_type": "markdown",
      "metadata": {
        "id": "MbBhyQjz06dx"
      },
      "source": [
        "### A - Augmented\n",
        "\n",
        "We're going to go with a standard prompt for our simple RAG chain today! Nothing fancy here, we want this to mostly be about the Retrieval process."
      ]
    },
    {
      "cell_type": "code",
      "execution_count": 12,
      "metadata": {
        "id": "7uSz-Dbqcoki"
      },
      "outputs": [],
      "source": [
        "from langchain_core.prompts import ChatPromptTemplate\n",
        "\n",
        "RAG_TEMPLATE = \"\"\"\\\n",
        "You are a helpful and kind assistant. Use the context provided below to answer the question.\n",
        "\n",
        "If you do not know the answer, or are unsure, say you don't know.\n",
        "\n",
        "Query:\n",
        "{question}\n",
        "\n",
        "Context:\n",
        "{context}\n",
        "\"\"\"\n",
        "\n",
        "rag_prompt = ChatPromptTemplate.from_template(RAG_TEMPLATE)"
      ]
    },
    {
      "cell_type": "markdown",
      "metadata": {
        "id": "BlRzpb231GGJ"
      },
      "source": [
        "### G - Generation\n",
        "\n",
        "We're going to leverage `gpt-4.1-nano` as our LLM today, as - again - we want this to largely be about the Retrieval process."
      ]
    },
    {
      "cell_type": "code",
      "execution_count": 13,
      "metadata": {
        "id": "c-1t9H60dJLg"
      },
      "outputs": [],
      "source": [
        "from langchain_openai import ChatOpenAI\n",
        "\n",
        "chat_model = ChatOpenAI(model=\"gpt-4.1-nano\")\n"
      ]
    },
    {
      "cell_type": "markdown",
      "metadata": {
        "id": "mg3QRGzA1M2x"
      },
      "source": [
        "### LCEL RAG Chain\n",
        "\n",
        "We're going to use LCEL to construct our chain.\n",
        "\n",
        "> NOTE: This chain will be exactly the same across the various examples with the exception of our Retriever!"
      ]
    },
    {
      "cell_type": "code",
      "execution_count": 14,
      "metadata": {
        "id": "0bvstS7mdOW3"
      },
      "outputs": [],
      "source": [
        "from langchain_core.runnables import RunnablePassthrough\n",
        "from operator import itemgetter\n",
        "from langchain_core.output_parsers import StrOutputParser\n",
        "\n",
        "naive_retrieval_chain = (\n",
        "    # INVOKE CHAIN WITH: {\"question\" : \"<<SOME USER QUESTION>>\"}\n",
        "    # \"question\" : populated by getting the value of the \"question\" key\n",
        "    # \"context\"  : populated by getting the value of the \"question\" key and chaining it into the base_retriever\n",
        "    {\"context\": itemgetter(\"question\") | naive_retriever, \"question\": itemgetter(\"question\")}\n",
        "    # \"context\"  : is assigned to a RunnablePassthrough object (will not be called or considered in the next step)\n",
        "    #              by getting the value of the \"context\" key from the previous step\n",
        "    | RunnablePassthrough.assign(context=itemgetter(\"context\"))\n",
        "    # \"response\" : the \"context\" and \"question\" values are used to format our prompt object and then piped\n",
        "    #              into the LLM and stored in a key called \"response\"\n",
        "    # \"context\"  : populated by getting the value of the \"context\" key from the previous step\n",
        "    | {\"response\": rag_prompt | chat_model, \"context\": itemgetter(\"context\")}\n",
        ")"
      ]
    },
    {
      "cell_type": "markdown",
      "metadata": {
        "id": "izKujhNb1ZG8"
      },
      "source": [
        "Let's see how this simple chain does on a few different prompts.\n",
        "\n",
        "> NOTE: You might think that we've cherry picked prompts that showcase the individual skill of each of the retrieval strategies - you'd be correct!"
      ]
    },
    {
      "cell_type": "code",
      "execution_count": 15,
      "metadata": {
        "colab": {
          "base_uri": "https://localhost:8080/",
          "height": 36
        },
        "id": "LI-5ueEddku9",
        "outputId": "7f3cec18-5f4e-41bb-cf71-51ba0be5388e"
      },
      "outputs": [
        {
          "data": {
            "text/plain": [
              "\"Based on the reviews provided, people generally liked John Wick. Many reviews praise the film for its stylish action sequences, Keanu Reeves' performance, and its status as a standout action movie. Several reviews gave it high ratings, such as 9 or 10 out of 10, indicating strong positive reception. However, there are some mixed opinions, with a few reviewers giving lower ratings or expressing less enthusiasm. Overall, the majority of feedback suggests that people, especially action fans, generally enjoyed John Wick.\""
            ]
          },
          "execution_count": 15,
          "metadata": {},
          "output_type": "execute_result"
        }
      ],
      "source": [
        "naive_retrieval_chain.invoke({\"question\" : \"Did people generally like John Wick?\"})[\"response\"].content"
      ]
    },
    {
      "cell_type": "code",
      "execution_count": 16,
      "metadata": {
        "colab": {
          "base_uri": "https://localhost:8080/",
          "height": 36
        },
        "id": "43zdcdUydtXh",
        "outputId": "db874e67-f568-4ed1-b863-b7c17b387052"
      },
      "outputs": [
        {
          "data": {
            "text/plain": [
              "'Yes, there is a review with a rating of 10. The URL to that review is: /review/rw4854296/?ref_=tt_urv'"
            ]
          },
          "execution_count": 16,
          "metadata": {},
          "output_type": "execute_result"
        }
      ],
      "source": [
        "naive_retrieval_chain.invoke({\"question\" : \"Do any reviews have a rating of 10? If so - can I have the URLs to those reviews?\"})[\"response\"].content"
      ]
    },
    {
      "cell_type": "code",
      "execution_count": 17,
      "metadata": {
        "colab": {
          "base_uri": "https://localhost:8080/",
          "height": 70
        },
        "id": "lpG6rlvvvKFq",
        "outputId": "a1b330b0-628e-41be-d829-9c1d55e781f5"
      },
      "outputs": [
        {
          "data": {
            "text/plain": [
              "'In John Wick, a retired hitman, played by Keanu Reeves, seeks vengeance after a gangsters kill his dog and steal his car. The story begins with John mourning the loss of his wife and trying to rebuild his life. When some Russian criminals attack him—beating him, killing his dog, and taking his belongings—his lethal skills are reignited. As a legendary assassin, John comes out of retirement to hunt down those responsible, facing numerous enemies, including bounty hunters and mobsters, as he seeks retribution. The film is known for its stylish action sequences, intense violence, and a world filled with criminal underworld rules.'"
            ]
          },
          "execution_count": 17,
          "metadata": {},
          "output_type": "execute_result"
        }
      ],
      "source": [
        "naive_retrieval_chain.invoke({\"question\" : \"What happened in John Wick?\"})[\"response\"].content"
      ]
    },
    {
      "cell_type": "markdown",
      "metadata": {
        "id": "jsbfQmbr1leg"
      },
      "source": [
        "Overall, this is not bad! Let's see if we can make it better!"
      ]
    },
    {
      "cell_type": "markdown",
      "metadata": {
        "id": "Ft1vt8HPR16w"
      },
      "source": [
        "## Task 5: Best-Matching 25 (BM25) Retriever\n",
        "\n",
        "Taking a step back in time - [BM25](https://www.nowpublishers.com/article/Details/INR-019) is based on [Bag-Of-Words](https://en.wikipedia.org/wiki/Bag-of-words_model) which is a sparse representation of text.\n",
        "\n",
        "In essence, it's a way to compare how similar two pieces of text are based on the words they both contain.\n",
        "\n",
        "This retriever is very straightforward to set-up! Let's see it happen down below!\n"
      ]
    },
    {
      "cell_type": "code",
      "execution_count": 18,
      "metadata": {
        "id": "qdF4wuj5R-cG"
      },
      "outputs": [],
      "source": [
        "from langchain_community.retrievers import BM25Retriever\n",
        "\n",
        "bm25_retriever = BM25Retriever.from_documents(documents)"
      ]
    },
    {
      "cell_type": "markdown",
      "metadata": {
        "id": "KIjJlBQ8drKH"
      },
      "source": [
        "We'll construct the same chain - only changing the retriever."
      ]
    },
    {
      "cell_type": "code",
      "execution_count": 19,
      "metadata": {
        "id": "WR15EQG7SLuw"
      },
      "outputs": [],
      "source": [
        "bm25_retrieval_chain = (\n",
        "    {\"context\": itemgetter(\"question\") | bm25_retriever, \"question\": itemgetter(\"question\")}\n",
        "    | RunnablePassthrough.assign(context=itemgetter(\"context\"))\n",
        "    | {\"response\": rag_prompt | chat_model, \"context\": itemgetter(\"context\")}\n",
        ")"
      ]
    },
    {
      "cell_type": "markdown",
      "metadata": {
        "id": "0Gi-yXCDdvJk"
      },
      "source": [
        "Let's look at the responses!"
      ]
    },
    {
      "cell_type": "code",
      "execution_count": 20,
      "metadata": {
        "colab": {
          "base_uri": "https://localhost:8080/",
          "height": 53
        },
        "id": "oY9qzmm3SOrF",
        "outputId": "4d4f450f-5978-460f-f242-b32407868353"
      },
      "outputs": [
        {
          "data": {
            "text/plain": [
              "'Based on the reviews provided, people\\'s opinions on John Wick vary. Some reviewers praise its action, style, and straightforward premise, indicating they liked the film. For example, one reviewer gave it a high rating of 10 and described it as \"something special\" with \"smooth\" action and enjoyable characters. Another reviewer rated it 8 and highlighted its stylish stunts and kinetic chaos.\\n\\nHowever, there are also negative opinions. For instance, a reviewer rated it 1, criticizing it as \"boring\" and \"full of stereotypes,\" indicating they did not like it.\\n\\nOverall, it seems that many people enjoyed the John Wick movies, especially the first one, but there are also notable criticisms and some viewers did not like them.'"
            ]
          },
          "execution_count": 20,
          "metadata": {},
          "output_type": "execute_result"
        }
      ],
      "source": [
        "bm25_retrieval_chain.invoke({\"question\" : \"Did people generally like John Wick?\"})[\"response\"].content"
      ]
    },
    {
      "cell_type": "code",
      "execution_count": 21,
      "metadata": {
        "colab": {
          "base_uri": "https://localhost:8080/",
          "height": 36
        },
        "id": "igfinyneSQkh",
        "outputId": "9752d4a9-dd16-45b1-f63f-a76e93a05eb3"
      },
      "outputs": [
        {
          "data": {
            "text/plain": [
              "'Based on the provided reviews, none have a rating of 10.'"
            ]
          },
          "execution_count": 21,
          "metadata": {},
          "output_type": "execute_result"
        }
      ],
      "source": [
        "bm25_retrieval_chain.invoke({\"question\" : \"Do any reviews have a rating of 10? If so - can I have the URLs to those reviews?\"})[\"response\"].content"
      ]
    },
    {
      "cell_type": "code",
      "execution_count": 22,
      "metadata": {
        "colab": {
          "base_uri": "https://localhost:8080/",
          "height": 53
        },
        "id": "w0H7pV_USSMQ",
        "outputId": "bdead654-3109-4143-9a30-e1d6ca8dc534"
      },
      "outputs": [
        {
          "data": {
            "text/plain": [
              "'In the John Wick movies, the story revolves around a retired hitman named John Wick who is drawn back into a world of violence and action. The films depict his intense and beautifully choreographed combat scenes, as well as his personal struggles and emotional depth. Each installment features a series of brutal action sequences involving assassins, gunfights, and hand-to-hand combat. While the movies are celebrated for their action choreography and style, some viewers feel that the story can be shallow or repetitive, especially in the later films. Overall, the series showcases a protagonista navigating a dangerous underworld filled with assassins, loyalty, and revenge.'"
            ]
          },
          "execution_count": 22,
          "metadata": {},
          "output_type": "execute_result"
        }
      ],
      "source": [
        "bm25_retrieval_chain.invoke({\"question\" : \"What happened in John Wick?\"})[\"response\"].content"
      ]
    },
    {
      "cell_type": "markdown",
      "metadata": {
        "id": "zvg5xHaUdxCl"
      },
      "source": [
        "It's not clear that this is better or worse - but the `I don't know` isn't great!"
      ]
    },
    {
      "cell_type": "markdown",
      "metadata": {
        "id": "Q-dcbFn2vpZF"
      },
      "source": [
        "## Task 6: Contextual Compression (Using Reranking)\n",
        "\n",
        "Contextual Compression is a fairly straightforward idea: We want to \"compress\" our retrieved context into just the most useful bits.\n",
        "\n",
        "There are a few ways we can achieve this - but we're going to look at a specific example called reranking.\n",
        "\n",
        "The basic idea here is this:\n",
        "\n",
        "- We retrieve lots of documents that are very likely related to our query vector\n",
        "- We \"compress\" those documents into a smaller set of *more* related documents using a reranking algorithm.\n",
        "\n",
        "We'll be leveraging Cohere's Rerank model for our reranker today!\n",
        "\n",
        "All we need to do is the following:\n",
        "\n",
        "- Create a basic retriever\n",
        "- Create a compressor (reranker, in this case)\n",
        "\n",
        "That's it!\n",
        "\n",
        "Let's see it in the code below!"
      ]
    },
    {
      "cell_type": "code",
      "execution_count": 23,
      "metadata": {
        "id": "psHvO2K1v_ZQ"
      },
      "outputs": [],
      "source": [
        "from langchain.retrievers.contextual_compression import ContextualCompressionRetriever\n",
        "from langchain_cohere import CohereRerank\n",
        "\n",
        "compressor = CohereRerank(model=\"rerank-english-v3.0\")\n",
        "compression_retriever = ContextualCompressionRetriever(\n",
        "    base_compressor=compressor, base_retriever=naive_retriever\n",
        ")"
      ]
    },
    {
      "cell_type": "markdown",
      "metadata": {
        "id": "_TA9RB2x-j7P"
      },
      "source": [
        "Let's create our chain again, and see how this does!"
      ]
    },
    {
      "cell_type": "code",
      "execution_count": 24,
      "metadata": {
        "id": "1BXqmxvHwX6T"
      },
      "outputs": [],
      "source": [
        "contextual_compression_retrieval_chain = (\n",
        "    {\"context\": itemgetter(\"question\") | compression_retriever, \"question\": itemgetter(\"question\")}\n",
        "    | RunnablePassthrough.assign(context=itemgetter(\"context\"))\n",
        "    | {\"response\": rag_prompt | chat_model, \"context\": itemgetter(\"context\")}\n",
        ")"
      ]
    },
    {
      "cell_type": "code",
      "execution_count": 25,
      "metadata": {
        "colab": {
          "base_uri": "https://localhost:8080/",
          "height": 36
        },
        "id": "V3iGpokswcBb",
        "outputId": "f15d2aa1-5e8b-417d-f623-eb835d072e59"
      },
      "outputs": [
        {
          "data": {
            "text/plain": [
              "\"Based on the reviews provided, people generally liked John Wick. The first two reviews are highly positive, with ratings of 9 and 10 out of 10, praising the film's action sequences, style, and Keanu Reeves' performance. The third review, which is more moderate, gives a rating of 5 out of 10, indicating that some viewers felt the magic was gone in the third installment. Overall, the majority of the reviews suggest that people enjoyed the film, especially its action and style.\""
            ]
          },
          "execution_count": 25,
          "metadata": {},
          "output_type": "execute_result"
        }
      ],
      "source": [
        "contextual_compression_retrieval_chain.invoke({\"question\" : \"Did people generally like John Wick?\"})[\"response\"].content"
      ]
    },
    {
      "cell_type": "code",
      "execution_count": 26,
      "metadata": {
        "colab": {
          "base_uri": "https://localhost:8080/",
          "height": 53
        },
        "id": "7u_k0i4OweUd",
        "outputId": "be5fccc8-2352-4189-c524-bbeaa28cf799"
      },
      "outputs": [
        {
          "data": {
            "text/plain": [
              "'Yes, there are reviews with a rating of 10. Here are the URLs to those reviews:\\n\\n1. [Review URL](https://example.com/review/rw4854296/?ref_=tt_urv) from the review titled \"A Masterpiece & Brilliant Sequel\" for John Wick 3.\\n2. [Review URL](https://example.com/review/rw4860412/?ref_=tt_urv) from the review titled \"It\\'s got its own action style!\" for John Wick 3.\\n\\nPlease note that the URLs are constructed based on the review URL paths provided in the context.'"
            ]
          },
          "execution_count": 26,
          "metadata": {},
          "output_type": "execute_result"
        }
      ],
      "source": [
        "contextual_compression_retrieval_chain.invoke({\"question\" : \"Do any reviews have a rating of 10? If so - can I have the URLs to those reviews?\"})[\"response\"].content"
      ]
    },
    {
      "cell_type": "code",
      "execution_count": 27,
      "metadata": {
        "colab": {
          "base_uri": "https://localhost:8080/",
          "height": 70
        },
        "id": "zn1EqaGqweXN",
        "outputId": "42bc5972-4164-46eb-f49d-4272f39bb89b"
      },
      "outputs": [
        {
          "data": {
            "text/plain": [
              "\"In the John Wick film series, John Wick (played by Keanu Reeves) is a retired hitman who seeks revenge after personal tragedies. In the first movie, he returns to action when the Russian mob kills his dog and steals his car, which were gifts from his late wife. This leads him to hunt down the gangsters responsible, unleashing a relentless and violent quest for retribution.\\n\\nIn the second installment, John Wick tries to settle into retirement but is compelled by a old associate to help settle a debt, resulting in him killing some members of the Russian mafia once again. This act triggers a series of events where he is forced back into the criminal underworld, ultimately leading to him being targeted by professional killers after a bounty is placed on his head. He is also asked to kill Santino D'Antonio's sister to help Santino rise within the criminal hierarchy, which complicates his situation further.\\n\\nOverall, the series depicts Wick's journey through a violent landscape of organized crime, driven by themes of revenge, honor, and the consequences of a life of violence.\""
            ]
          },
          "execution_count": 27,
          "metadata": {},
          "output_type": "execute_result"
        }
      ],
      "source": [
        "contextual_compression_retrieval_chain.invoke({\"question\" : \"What happened in John Wick?\"})[\"response\"].content"
      ]
    },
    {
      "cell_type": "markdown",
      "metadata": {
        "id": "OEbT0g2S-mZ4"
      },
      "source": [
        "We'll need to rely on something like Ragas to help us get a better sense of how this is performing overall - but it \"feels\" better!"
      ]
    },
    {
      "cell_type": "markdown",
      "metadata": {
        "id": "qqbghrBEQNn5"
      },
      "source": [
        "## Task 7: Multi-Query Retriever\n",
        "\n",
        "Typically in RAG we have a single query - the one provided by the user.\n",
        "\n",
        "What if we had....more than one query!\n",
        "\n",
        "In essence, a Multi-Query Retriever works by:\n",
        "\n",
        "1. Taking the original user query and creating `n` number of new user queries using an LLM.\n",
        "2. Retrieving documents for each query.\n",
        "3. Using all unique retrieved documents as context\n",
        "\n",
        "So, how is it to set-up? Not bad! Let's see it down below!\n",
        "\n"
      ]
    },
    {
      "cell_type": "code",
      "execution_count": 28,
      "metadata": {
        "id": "pfM26ReXQjzU"
      },
      "outputs": [],
      "source": [
        "from langchain.retrievers.multi_query import MultiQueryRetriever\n",
        "\n",
        "multi_query_retriever = MultiQueryRetriever.from_llm(\n",
        "    retriever=naive_retriever, llm=chat_model\n",
        ")"
      ]
    },
    {
      "cell_type": "code",
      "execution_count": 29,
      "metadata": {
        "id": "1vRc129jQ5WW"
      },
      "outputs": [],
      "source": [
        "multi_query_retrieval_chain = (\n",
        "    {\"context\": itemgetter(\"question\") | multi_query_retriever, \"question\": itemgetter(\"question\")}\n",
        "    | RunnablePassthrough.assign(context=itemgetter(\"context\"))\n",
        "    | {\"response\": rag_prompt | chat_model, \"context\": itemgetter(\"context\")}\n",
        ")"
      ]
    },
    {
      "cell_type": "code",
      "execution_count": 30,
      "metadata": {
        "colab": {
          "base_uri": "https://localhost:8080/",
          "height": 53
        },
        "id": "CGgNuOb3Q3M9",
        "outputId": "c5273ecf-da35-40b8-fbdb-0f8beab425f7"
      },
      "outputs": [
        {
          "data": {
            "text/plain": [
              "'Based on the reviews provided, people generally liked John Wick. There are several positive reviews with high ratings, praising its action sequences, style, and entertainment value. For example, some reviewers gave ratings of 8, 9, or even 10, and described the movies as fun, stylish, and exhilarating. However, there are also some mixed or negative opinions, with some viewers finding the films overly frenetic, silly, or repetitive, and giving lower ratings like 3 or 5. \\n\\nOverall, the majority of reviews suggest that people generally liked John Wick, especially fans of action films, though opinions vary.'"
            ]
          },
          "execution_count": 30,
          "metadata": {},
          "output_type": "execute_result"
        }
      ],
      "source": [
        "multi_query_retrieval_chain.invoke({\"question\" : \"Did people generally like John Wick?\"})[\"response\"].content"
      ]
    },
    {
      "cell_type": "code",
      "execution_count": 31,
      "metadata": {
        "colab": {
          "base_uri": "https://localhost:8080/",
          "height": 36
        },
        "id": "aAlSthxrRDBC",
        "outputId": "230ff807-23ae-4d25-8d11-cfdbed0b77cb"
      },
      "outputs": [
        {
          "data": {
            "text/plain": [
              "'Yes, there are reviews with a rating of 10. The URLs to those reviews are:\\n\\n1. [Review URL]( /review/rw4854296/?ref_=tt_urv ) - \"A Masterpiece & Brilliant Sequel\" for John Wick 3.\\n2. [Review URL]( /review/rw4862630/?ref_=tt_urv ) - \"Less is more\" for John Wick 3.\\n3. [Review URL]( /review/rw8944843/?ref_=tt_urv ) - \"How Can Anyone Choose to Watch Marvel Over This?\" for John Wick 4.'"
            ]
          },
          "execution_count": 31,
          "metadata": {},
          "output_type": "execute_result"
        }
      ],
      "source": [
        "multi_query_retrieval_chain.invoke({\"question\" : \"Do any reviews have a rating of 10? If so - can I have the URLs to those reviews?\"})[\"response\"].content"
      ]
    },
    {
      "cell_type": "code",
      "execution_count": 32,
      "metadata": {
        "colab": {
          "base_uri": "https://localhost:8080/",
          "height": 88
        },
        "id": "Uv1mpCK8REs4",
        "outputId": "00fbc22a-ed9b-4613-9695-0b179e3f8369"
      },
      "outputs": [
        {
          "data": {
            "text/plain": [
              "\"In the John Wick film series, the story revolves around John Wick, a retired but legendary assassin. The first movie narrates how he comes out of retirement to seek vengeance after gangsters kill his dog and steal his car, personal losses that revive his lethal skills. The series explores his battles against various criminal organizations, including Russian mobsters and members of the Assassin's Guild, as he seeks justice and deals with the consequences of his past actions. The films are known for their stylish action sequences, world-building of a covert assassin society, and Keanu Reeves' compelling performance as the titular character.\""
            ]
          },
          "execution_count": 32,
          "metadata": {},
          "output_type": "execute_result"
        }
      ],
      "source": [
        "multi_query_retrieval_chain.invoke({\"question\" : \"What happened in John Wick?\"})[\"response\"].content"
      ]
    },
    {
      "cell_type": "markdown",
      "metadata": {
        "id": "EDEawBf_d_3G"
      },
      "source": [
        "## Task 8: Parent Document Retriever\n",
        "\n",
        "A \"small-to-big\" strategy - the Parent Document Retriever works based on a simple strategy:\n",
        "\n",
        "1. Each un-split \"document\" will be designated as a \"parent document\" (You could use larger chunks of document as well, but our data format allows us to consider the overall document as the parent chunk)\n",
        "2. Store those \"parent documents\" in a memory store (not a VectorStore)\n",
        "3. We will chunk each of those documents into smaller documents, and associate them with their respective parents, and store those in a VectorStore. We'll call those \"child chunks\".\n",
        "4. When we query our Retriever, we will do a similarity search comparing our query vector to the \"child chunks\".\n",
        "5. Instead of returning the \"child chunks\", we'll return their associated \"parent chunks\".\n",
        "\n",
        "Okay, maybe that was a few steps - but the basic idea is this:\n",
        "\n",
        "- Search for small documents\n",
        "- Return big documents\n",
        "\n",
        "The intuition is that we're likely to find the most relevant information by limiting the amount of semantic information that is encoded in each embedding vector - but we're likely to miss relevant surrounding context if we only use that information.\n",
        "\n",
        "Let's start by creating our \"parent documents\" and defining a `RecursiveCharacterTextSplitter`."
      ]
    },
    {
      "cell_type": "code",
      "execution_count": 33,
      "metadata": {
        "id": "qJ53JJuMd_ZH"
      },
      "outputs": [],
      "source": [
        "from langchain.retrievers import ParentDocumentRetriever\n",
        "from langchain.storage import InMemoryStore\n",
        "from langchain_text_splitters import RecursiveCharacterTextSplitter\n",
        "from qdrant_client import QdrantClient, models\n",
        "\n",
        "parent_docs = documents\n",
        "child_splitter = RecursiveCharacterTextSplitter(chunk_size=200)"
      ]
    },
    {
      "cell_type": "markdown",
      "metadata": {
        "id": "oOpXfVUH3gL3"
      },
      "source": [
        "We'll need to set up a new QDrant vectorstore - and we'll use another useful pattern to do so!\n",
        "\n",
        "> NOTE: We are manually defining our embedding dimension, you'll need to change this if you're using a different embedding model."
      ]
    },
    {
      "cell_type": "code",
      "execution_count": 34,
      "metadata": {
        "colab": {
          "base_uri": "https://localhost:8080/"
        },
        "id": "rzFc-_9HlGQ-",
        "outputId": "223662dd-c36f-42f7-d1b0-b086e571484e"
      },
      "outputs": [
        {
          "name": "stderr",
          "output_type": "stream",
          "text": [
            "/var/folders/1h/gck_zhnx5gd_sb25z31r_tzm0000gn/T/ipykernel_9952/3574430551.py:8: LangChainDeprecationWarning: The class `Qdrant` was deprecated in LangChain 0.0.37 and will be removed in 1.0. An updated version of the class exists in the :class:`~langchain-qdrant package and should be used instead. To use it run `pip install -U :class:`~langchain-qdrant` and import as `from :class:`~langchain_qdrant import Qdrant``.\n",
            "  parent_document_vectorstore = Qdrant(\n"
          ]
        }
      ],
      "source": [
        "client = QdrantClient(location=\":memory:\")\n",
        "\n",
        "client.create_collection(\n",
        "    collection_name=\"full_documents\",\n",
        "    vectors_config=models.VectorParams(size=1536, distance=models.Distance.COSINE)\n",
        ")\n",
        "\n",
        "parent_document_vectorstore = Qdrant(\n",
        "    collection_name=\"full_documents\", embeddings=OpenAIEmbeddings(model=\"text-embedding-3-small\"), client=client\n",
        ")"
      ]
    },
    {
      "cell_type": "markdown",
      "metadata": {
        "id": "sf_g95FA3s6w"
      },
      "source": [
        "Now we can create our `InMemoryStore` that will hold our \"parent documents\" - and build our retriever!"
      ]
    },
    {
      "cell_type": "code",
      "execution_count": 35,
      "metadata": {
        "id": "BpWVjPf4fLUp"
      },
      "outputs": [],
      "source": [
        "store = InMemoryStore()\n",
        "\n",
        "parent_document_retriever = ParentDocumentRetriever(\n",
        "    vectorstore = parent_document_vectorstore,\n",
        "    docstore=store,\n",
        "    child_splitter=child_splitter,\n",
        ")"
      ]
    },
    {
      "cell_type": "markdown",
      "metadata": {
        "id": "KoYmSWfE32Zo"
      },
      "source": [
        "By default, this is empty as we haven't added any documents - let's add some now!"
      ]
    },
    {
      "cell_type": "code",
      "execution_count": 36,
      "metadata": {
        "id": "iQ2ZzfKigMZc"
      },
      "outputs": [],
      "source": [
        "parent_document_retriever.add_documents(parent_docs, ids=None)"
      ]
    },
    {
      "cell_type": "markdown",
      "metadata": {
        "id": "bI7Tip1335rE"
      },
      "source": [
        "We'll create the same chain we did before - but substitute our new `parent_document_retriever`."
      ]
    },
    {
      "cell_type": "code",
      "execution_count": 37,
      "metadata": {
        "id": "Qq_adt2KlSqp"
      },
      "outputs": [],
      "source": [
        "parent_document_retrieval_chain = (\n",
        "    {\"context\": itemgetter(\"question\") | parent_document_retriever, \"question\": itemgetter(\"question\")}\n",
        "    | RunnablePassthrough.assign(context=itemgetter(\"context\"))\n",
        "    | {\"response\": rag_prompt | chat_model, \"context\": itemgetter(\"context\")}\n",
        ")"
      ]
    },
    {
      "cell_type": "markdown",
      "metadata": {
        "id": "jNolUVQb4Apt"
      },
      "source": [
        "Let's give it a whirl!"
      ]
    },
    {
      "cell_type": "code",
      "execution_count": 38,
      "metadata": {
        "colab": {
          "base_uri": "https://localhost:8080/",
          "height": 70
        },
        "id": "TXB5i89Zly5W",
        "outputId": "94c240be-7c5b-4c58-9eee-56d93285a054"
      },
      "outputs": [
        {
          "data": {
            "text/plain": [
              "\"Based on the provided reviews, people's opinions on John Wick are mixed. Some reviewers, like MrHeraclius, highly recommend and praise the series, indicating that many fans do like the movies. However, there is also at least one negative review, such as the one from solidabs, who strongly disliked John Wick 4 and criticized its plot and action scenes. Overall, it seems that while many people appreciate and enjoy the John Wick series, there are also some who do not like it.\""
            ]
          },
          "execution_count": 38,
          "metadata": {},
          "output_type": "execute_result"
        }
      ],
      "source": [
        "parent_document_retrieval_chain.invoke({\"question\" : \"Did people generally like John Wick?\"})[\"response\"].content"
      ]
    },
    {
      "cell_type": "code",
      "execution_count": 39,
      "metadata": {
        "colab": {
          "base_uri": "https://localhost:8080/",
          "height": 36
        },
        "id": "V5F1T-wNl3cg",
        "outputId": "9b81e72e-5db7-4b8a-b25b-400ea0df5335"
      },
      "outputs": [
        {
          "data": {
            "text/plain": [
              "'Yes, there is a review with a rating of 10. The URL for that review is: /review/rw4854296/?ref_=tt_urv'"
            ]
          },
          "execution_count": 39,
          "metadata": {},
          "output_type": "execute_result"
        }
      ],
      "source": [
        "parent_document_retrieval_chain.invoke({\"question\" : \"Do any reviews have a rating of 10? If so - can I have the URLs to those reviews?\"})[\"response\"].content"
      ]
    },
    {
      "cell_type": "code",
      "execution_count": 40,
      "metadata": {
        "colab": {
          "base_uri": "https://localhost:8080/",
          "height": 70
        },
        "id": "ZqARszGzvGcG",
        "outputId": "8867f83c-db13-4db4-d57f-9bd51d32cd8a"
      },
      "outputs": [
        {
          "data": {
            "text/plain": [
              "\"Based on the provided information, John Wick is a retired assassin who originally came out of retirement to avenge the death of his dog and the theft of his car. In the first movie, he is driven by revenge after gangsters kill his dog and steal his car, which leads him to unleash a deadly vengeance against those responsible. In the second movie, his past catches up with him again when he's forced back into the violent world of assassination to help an old acquaintance and to settle old debts, leading to more action, car chases, and widespread carnage. The series depicts his deadly skills, the consequences of his actions, and his continuous clashes with various enemies in the criminal underworld.\""
            ]
          },
          "execution_count": 40,
          "metadata": {},
          "output_type": "execute_result"
        }
      ],
      "source": [
        "parent_document_retrieval_chain.invoke({\"question\" : \"What happened in John Wick?\"})[\"response\"].content"
      ]
    },
    {
      "cell_type": "markdown",
      "metadata": {
        "id": "B41cj42s4DPM"
      },
      "source": [
        "Overall, the performance *seems* largely the same. We can leverage a tool like [Ragas]() to more effectively answer the question about the performance."
      ]
    },
    {
      "cell_type": "markdown",
      "metadata": {
        "id": "VUrIBKl_TwS9"
      },
      "source": [
        "## Task 9: Ensemble Retriever\n",
        "\n",
        "In brief, an Ensemble Retriever simply takes 2, or more, retrievers and combines their retrieved documents based on a rank-fusion algorithm.\n",
        "\n",
        "In this case - we're using the [Reciprocal Rank Fusion](https://plg.uwaterloo.ca/~gvcormac/cormacksigir09-rrf.pdf) algorithm.\n",
        "\n",
        "Setting it up is as easy as providing a list of our desired retrievers - and the weights for each retriever."
      ]
    },
    {
      "cell_type": "code",
      "execution_count": 41,
      "metadata": {
        "id": "8j7jpZsKTxic"
      },
      "outputs": [],
      "source": [
        "from langchain.retrievers import EnsembleRetriever\n",
        "\n",
        "retriever_list = [bm25_retriever, naive_retriever, parent_document_retriever, compression_retriever, multi_query_retriever]\n",
        "equal_weighting = [1/len(retriever_list)] * len(retriever_list)\n",
        "\n",
        "ensemble_retriever = EnsembleRetriever(\n",
        "    retrievers=retriever_list, weights=equal_weighting\n",
        ")"
      ]
    },
    {
      "cell_type": "markdown",
      "metadata": {
        "id": "kpo9Psl5hhJ-"
      },
      "source": [
        "We'll pack *all* of these retrievers together in an ensemble."
      ]
    },
    {
      "cell_type": "code",
      "execution_count": 42,
      "metadata": {
        "id": "KZ__EZwpUKkd"
      },
      "outputs": [],
      "source": [
        "ensemble_retrieval_chain = (\n",
        "    {\"context\": itemgetter(\"question\") | ensemble_retriever, \"question\": itemgetter(\"question\")}\n",
        "    | RunnablePassthrough.assign(context=itemgetter(\"context\"))\n",
        "    | {\"response\": rag_prompt | chat_model, \"context\": itemgetter(\"context\")}\n",
        ")"
      ]
    },
    {
      "cell_type": "markdown",
      "metadata": {
        "id": "SSsvHpRMj24L"
      },
      "source": [
        "Let's look at our results!"
      ]
    },
    {
      "cell_type": "code",
      "execution_count": 43,
      "metadata": {
        "colab": {
          "base_uri": "https://localhost:8080/",
          "height": 70
        },
        "id": "0lMvqL88UQI-",
        "outputId": "d86dd5f7-0a13-4836-c0ce-cc4c431fd889"
      },
      "outputs": [
        {
          "data": {
            "text/plain": [
              "\"Based on the reviews in the provided context, people generally liked John Wick. Several reviews give high ratings (such as 9 or 8 out of 10) and describe the film as stylish, fun, brilliantly choreographed, and a standout in the action genre. Many reviewers praise Keanu Reeves' performance and the quality of the action sequences. However, there are some mixed opinions, with a few reviews expressing lower ratings or criticism of certain plot elements or the later sequels. Overall, the consensus leans toward a positive reception.\""
            ]
          },
          "execution_count": 43,
          "metadata": {},
          "output_type": "execute_result"
        }
      ],
      "source": [
        "ensemble_retrieval_chain.invoke({\"question\" : \"Did people generally like John Wick?\"})[\"response\"].content"
      ]
    },
    {
      "cell_type": "code",
      "execution_count": 44,
      "metadata": {
        "colab": {
          "base_uri": "https://localhost:8080/",
          "height": 53
        },
        "id": "MNFWLYECURI1",
        "outputId": "b17973b5-66a9-4481-97d5-880b5754b5c5"
      },
      "outputs": [
        {
          "data": {
            "text/plain": [
              "\"Yes, there are reviews with a rating of 10. Here are the URLs to those reviews:\\n\\n1. [Review of John Wick 3](https://example.com/review/rw4854296/?ref_=tt_urv)\\n2. [Another review of John Wick 3](https://example.com/review/rw4860412/?ref_=tt_urv)\\n\\nPlease note: The URLs are provided as shown in the data, but the actual URLs from the context are:\\n\\n- /review/rw4854296/?ref_=tt_urv\\n- /review/rw4860412/?ref_=tt_urv\\n\\nLet me know if you'd like the full URLs or additional information!\""
            ]
          },
          "execution_count": 44,
          "metadata": {},
          "output_type": "execute_result"
        }
      ],
      "source": [
        "ensemble_retrieval_chain.invoke({\"question\" : \"Do any reviews have a rating of 10? If so - can I have the URLs to those reviews?\"})[\"response\"].content"
      ]
    },
    {
      "cell_type": "code",
      "execution_count": 45,
      "metadata": {
        "colab": {
          "base_uri": "https://localhost:8080/",
          "height": 88
        },
        "id": "A7qbHfWgUR4c",
        "outputId": "f7373144-59ef-4fc7-b75d-ca00e7df881e"
      },
      "outputs": [
        {
          "data": {
            "text/plain": [
              "\"In the John Wick movies, the story follows John Wick, a retired hitman who is drawn back into a world of violence and assassination after a series of personal tragedies and certain events. The first film depicts Wick coming out of retirement to seek revenge after gangsters kill his dog and steal his car, revealing his lethal skills and setting off a violent quest for retribution. The subsequent films explore his conflicts with various criminal factions, his adherence to strict rules within the assassin's underground, and the consequences of his actions, leading to increasingly elaborate and intense action sequences. Overall, the series revolves around themes of vengeance, the criminal underworld, and the costs of a life of violence.\""
            ]
          },
          "execution_count": 45,
          "metadata": {},
          "output_type": "execute_result"
        }
      ],
      "source": [
        "ensemble_retrieval_chain.invoke({\"question\" : \"What happened in John Wick?\"})[\"response\"].content"
      ]
    },
    {
      "cell_type": "markdown",
      "metadata": {
        "id": "MopbkNJAXVaN"
      },
      "source": [
        "## Task 10: Semantic Chunking\n",
        "\n",
        "While this is not a retrieval method - it *is* an effective way of increasing retrieval performance on corpora that have clean semantic breaks in them.\n",
        "\n",
        "Essentially, Semantic Chunking is implemented by:\n",
        "\n",
        "1. Embedding all sentences in the corpus.\n",
        "2. Combining or splitting sequences of sentences based on their semantic similarity based on a number of [possible thresholding methods](https://python.langchain.com/docs/how_to/semantic-chunker/):\n",
        "  - `percentile`\n",
        "  - `standard_deviation`\n",
        "  - `interquartile`\n",
        "  - `gradient`\n",
        "3. Each sequence of related sentences is kept as a document!\n",
        "\n",
        "Let's see how to implement this!\n",
        "\n",
        "> NOTE: You do not need to run this cell if you're running this locally"
      ]
    },
    {
      "cell_type": "code",
      "execution_count": 46,
      "metadata": {
        "colab": {
          "base_uri": "https://localhost:8080/"
        },
        "id": "1dHeB-yGXneL",
        "outputId": "efc59105-518a-4134-9228-d98b8a97e08e"
      },
      "outputs": [],
      "source": [
        "#!pip install -qU langchain_experimental"
      ]
    },
    {
      "cell_type": "markdown",
      "metadata": {
        "id": "U9ciZbFEldv_"
      },
      "source": [
        "We'll use the `percentile` thresholding method for this example which will:\n",
        "\n",
        "Calculate all distances between sentences, and then break apart sequences of setences that exceed a given percentile among all distances."
      ]
    },
    {
      "cell_type": "code",
      "execution_count": 47,
      "metadata": {
        "id": "66EIEWiEYl5y"
      },
      "outputs": [],
      "source": [
        "from langchain_experimental.text_splitter import SemanticChunker\n",
        "\n",
        "semantic_chunker = SemanticChunker(\n",
        "    embeddings,\n",
        "    breakpoint_threshold_type=\"percentile\"\n",
        ")"
      ]
    },
    {
      "cell_type": "markdown",
      "metadata": {
        "id": "YqoKmz12mhRW"
      },
      "source": [
        "Now we can split our documents."
      ]
    },
    {
      "cell_type": "code",
      "execution_count": 48,
      "metadata": {
        "id": "ROcV7o68ZIq7"
      },
      "outputs": [],
      "source": [
        "semantic_documents = semantic_chunker.split_documents(documents)"
      ]
    },
    {
      "cell_type": "markdown",
      "metadata": {
        "id": "L8-LNC-Xmjex"
      },
      "source": [
        "Let's create a new vector store."
      ]
    },
    {
      "cell_type": "code",
      "execution_count": 49,
      "metadata": {
        "id": "h3sl9QjyZhIe"
      },
      "outputs": [],
      "source": [
        "semantic_vectorstore = Qdrant.from_documents(\n",
        "    semantic_documents,\n",
        "    embeddings,\n",
        "    location=\":memory:\",\n",
        "    collection_name=\"JohnWickSemantic\"\n",
        ")"
      ]
    },
    {
      "cell_type": "markdown",
      "metadata": {
        "id": "Eh_r_-LHmmKn"
      },
      "source": [
        "We'll use naive retrieval for this example."
      ]
    },
    {
      "cell_type": "code",
      "execution_count": 50,
      "metadata": {
        "id": "odVyDUHwZftc"
      },
      "outputs": [],
      "source": [
        "semantic_retriever = semantic_vectorstore.as_retriever(search_kwargs={\"k\" : 10})"
      ]
    },
    {
      "cell_type": "markdown",
      "metadata": {
        "id": "Mkeiv_ojmp6G"
      },
      "source": [
        "Finally we can create our classic chain!"
      ]
    },
    {
      "cell_type": "code",
      "execution_count": 51,
      "metadata": {
        "id": "xWE_0J0mZveG"
      },
      "outputs": [],
      "source": [
        "semantic_retrieval_chain = (\n",
        "    {\"context\": itemgetter(\"question\") | semantic_retriever, \"question\": itemgetter(\"question\")}\n",
        "    | RunnablePassthrough.assign(context=itemgetter(\"context\"))\n",
        "    | {\"response\": rag_prompt | chat_model, \"context\": itemgetter(\"context\")}\n",
        ")"
      ]
    },
    {
      "cell_type": "markdown",
      "metadata": {
        "id": "R5pfjLQ3ms9_"
      },
      "source": [
        "And view the results!"
      ]
    },
    {
      "cell_type": "code",
      "execution_count": 52,
      "metadata": {
        "colab": {
          "base_uri": "https://localhost:8080/",
          "height": 70
        },
        "id": "0lN2j-e4Z0SD",
        "outputId": "ef483e21-7200-4dfc-b8bf-aed4f23587b2"
      },
      "outputs": [
        {
          "data": {
            "text/plain": [
              "\"Based on the reviews provided, people generally liked John Wick. The reviews are mostly positive, highlighting the film's stylish action sequences, engaging plot, and Keanu Reeves' performance. Several reviews rate the movies highly, such as 9 or 10 out of 10, and mention that the franchise is well-received and appreciated by audiences. However, there are a few less favorable reviews with lower ratings, but overall, the sentiment suggests that people generally liked John Wick.\""
            ]
          },
          "execution_count": 52,
          "metadata": {},
          "output_type": "execute_result"
        }
      ],
      "source": [
        "semantic_retrieval_chain.invoke({\"question\" : \"Did people generally like John Wick?\"})[\"response\"].content"
      ]
    },
    {
      "cell_type": "code",
      "execution_count": 53,
      "metadata": {
        "colab": {
          "base_uri": "https://localhost:8080/",
          "height": 53
        },
        "id": "xdqfBH1SZ3f9",
        "outputId": "ed62b2d1-7586-46cc-aaf4-c54192a56155"
      },
      "outputs": [
        {
          "data": {
            "text/plain": [
              "'Yes, there is a review with a rating of 10. The URL to that review is: /review/rw4854296/?ref_=tt_urv'"
            ]
          },
          "execution_count": 53,
          "metadata": {},
          "output_type": "execute_result"
        }
      ],
      "source": [
        "semantic_retrieval_chain.invoke({\"question\" : \"Do any reviews have a rating of 10? If so - can I have the URLs to those reviews?\"})[\"response\"].content"
      ]
    },
    {
      "cell_type": "code",
      "execution_count": 54,
      "metadata": {
        "colab": {
          "base_uri": "https://localhost:8080/",
          "height": 70
        },
        "id": "rAcAObZnZ4o6",
        "outputId": "3f1cade3-41e4-4e42-ef71-048dd18e5e3a"
      },
      "outputs": [
        {
          "data": {
            "text/plain": [
              "\"In John Wick, a retired assassin named John Wick (played by Keanu Reeves) seeks revenge after a gang of thugs, led by a Russian mobster's son, break into his house, beat him up, kill his dog, and steal his car. The attack is motivated by the thugs' desire to take his car, not knowing who he is. As a result, John Wick, a man known for his lethal skills, comes out of retirement to hunt down those responsible, unleashing a violent and relentless vendetta against the gangsters. The film is noted for its stylish action sequences, engaging plot, and the portrayal of a criminal underworld where John Wick operates with lethal efficiency.\""
            ]
          },
          "execution_count": 54,
          "metadata": {},
          "output_type": "execute_result"
        }
      ],
      "source": [
        "semantic_retrieval_chain.invoke({\"question\" : \"What happened in John Wick?\"})[\"response\"].content"
      ]
    },
    {
      "cell_type": "markdown",
      "metadata": {
        "id": "xk2n3-pnVWDJ"
      },
      "source": [
        "# 🤝 Breakout Room Part #2"
      ]
    },
    {
      "cell_type": "markdown",
      "metadata": {
        "id": "2SkJLYwMVZkj"
      },
      "source": [
        "#### 🏗️ Activity #1\n",
        "\n",
        "Your task is to evaluate the various Retriever methods against eachother.\n",
        "\n",
        "You are expected to:\n",
        "\n",
        "1. Create a \"golden dataset\"\n",
        " - Use Synthetic Data Generation (powered by Ragas, or otherwise) to create this dataset\n",
        "2. Evaluate each retriever with *retriever specific* Ragas metrics\n",
        " - Semantic Chunking is not considered a retriever method and will not be required for marks, but you may find it useful to do a \"semantic chunking on\" vs. \"semantic chunking off\" comparision between them\n",
        "3. Compile these in a list and write a small paragraph about which is best for this particular data and why.\n",
        "\n",
        "Your analysis should factor in:\n",
        "  - Cost\n",
        "  - Latency\n",
        "  - Performance\n",
        "\n",
        "> NOTE: This is **NOT** required to be completed in class. Please spend time in your breakout rooms creating a plan before moving on to writing code."
      ]
    },
    {
      "cell_type": "markdown",
      "metadata": {
        "id": "TWAr16a5XMub"
      },
      "source": [
        "##### HINTS:\n",
        "\n",
        "- LangSmith provides detailed information about latency and cost."
      ]
    },
    {
      "cell_type": "code",
      "execution_count": 55,
      "metadata": {
        "id": "tgDICngKXLGK"
      },
      "outputs": [],
      "source": [
        "os.environ[\"RAGAS_APP_TOKEN\"] = getpass.getpass(\"Please enter your Ragas API key!\")"
      ]
    },
    {
      "cell_type": "markdown",
      "metadata": {},
      "source": [
        "Create a Dictionary of all the Retrievers, for evaluation."
      ]
    },
    {
      "cell_type": "code",
      "execution_count": 56,
      "metadata": {},
      "outputs": [
        {
          "name": "stdout",
          "output_type": "stream",
          "text": [
            "All retrievers have been set up\n"
          ]
        }
      ],
      "source": [
        "# Create dictionary of all retrievers for evaluation\n",
        "retrievers = {\n",
        "    \"Naive\": naive_retriever,\n",
        "    \"BM25\": bm25_retriever,\n",
        "    \"Contextual Compression\": compression_retriever,\n",
        "    \"Multi-Query\": multi_query_retriever,\n",
        "    \"Parent Document\": parent_document_retriever,\n",
        "    \"Ensemble\": ensemble_retriever,\n",
        "    \"Semantic\": semantic_retriever\n",
        "}\n",
        "\n",
        "print(\"All retrievers have been set up\")"
      ]
    },
    {
      "cell_type": "code",
      "execution_count": 57,
      "metadata": {},
      "outputs": [],
      "source": [
        "# Create dictionary mapping retrievers to their existing RAG chains\n",
        "retrieval_chains = [\n",
        "                  naive_retrieval_chain,\n",
        "                  bm25_retrieval_chain,\n",
        "                  multi_query_retrieval_chain,\n",
        "                  contextual_compression_retrieval_chain,\n",
        "                  ensemble_retrieval_chain,\n",
        "                  parent_document_retrieval_chain,\n",
        "                  semantic_retrieval_chain\n",
        "                  ]"
      ]
    },
    {
      "cell_type": "markdown",
      "metadata": {},
      "source": [
        "# Activity 1 : Setup a Golden Dataset (Using Ragas based Synthetic Data Generation)"
      ]
    },
    {
      "cell_type": "markdown",
      "metadata": {},
      "source": [
        "**Step 1:** Create a Loader for .csv documents"
      ]
    },
    {
      "cell_type": "code",
      "execution_count": 58,
      "metadata": {},
      "outputs": [],
      "source": [
        "from langchain_community.document_loaders import DirectoryLoader\n",
        "from langchain.document_loaders.csv_loader import CSVLoader\n",
        "\n",
        "# Define a dictionary to map file extensions to their respective loaders\n",
        "loaders = {\n",
        "    '.csv': CSVLoader,\n",
        "}\n",
        "\n",
        "# Define a function to create a DirectoryLoader for a specific file type\n",
        "def create_directory_loader(file_type, directory_path):\n",
        "    return DirectoryLoader(\n",
        "        path=directory_path,\n",
        "        glob=f\"**/*{file_type}\",\n",
        "        loader_cls=loaders[file_type],\n",
        "    )\n",
        "\n",
        "path = \"/\"\n",
        "loader = DirectoryLoader(path, glob=\"*.csv\")\n",
        "docs = loader.load()"
      ]
    },
    {
      "cell_type": "markdown",
      "metadata": {},
      "source": [
        "**Step 2:** Set up Ragas configurations for syntheic data generation and evaluation"
      ]
    },
    {
      "cell_type": "code",
      "execution_count": 59,
      "metadata": {},
      "outputs": [],
      "source": [
        "from ragas.llms import LangchainLLMWrapper\n",
        "from ragas.embeddings import LangchainEmbeddingsWrapper\n",
        "from langchain_openai import ChatOpenAI\n",
        "from langchain_openai import OpenAIEmbeddings\n",
        "from ragas import evaluate, RunConfig\n",
        "from ragas.llms import LangchainLLMWrapper\n",
        "from langchain_openai import ChatOpenAI\n",
        "from ragas.metrics import (\n",
        "    LLMContextRecall,\n",
        "    Faithfulness,\n",
        "    FactualCorrectness,\n",
        "    ResponseRelevancy,\n",
        "    ContextEntityRecall,\n",
        "    NoiseSensitivity,\n",
        ")\n",
        "\n",
        "#Generator LLM and Embeddings for Synthetic Data Generation.\n",
        "generator_llm = LangchainLLMWrapper(ChatOpenAI(model=\"gpt-4.1-mini\"))\n",
        "generator_embeddings = LangchainEmbeddingsWrapper(OpenAIEmbeddings())\n",
        "\n",
        "## set global evaluation settings\n",
        "evaluator_llm = LangchainLLMWrapper(ChatOpenAI(model=\"gpt-4.1-mini\"))\n",
        "evaluator_config = RunConfig(\n",
        "    timeout=300,          # 5 minutes max for operations\n",
        "    max_retries=15,       # More retries for rate limits\n",
        "    max_wait=90,          # Longer wait between retries\n",
        "    max_workers=8,        # Fewer concurrent API calls\n",
        "    log_tenacity=True     # Log retry attempts\n",
        ")\n",
        "evaluator_metrics=[LLMContextRecall(), Faithfulness(), FactualCorrectness(), ResponseRelevancy(), ContextEntityRecall(), NoiseSensitivity()]"
      ]
    },
    {
      "cell_type": "markdown",
      "metadata": {},
      "source": [
        "**Step 3:** Generate and Upload the \"Golden Dataset\" (which is the synthethic data generated by Ragas) to RAGAs dashboard"
      ]
    },
    {
      "cell_type": "code",
      "execution_count": 60,
      "metadata": {},
      "outputs": [
        {
          "data": {
            "application/vnd.jupyter.widget-view+json": {
              "model_id": "1c62e15d3af94aaca97da7cdd57e6d1e",
              "version_major": 2,
              "version_minor": 0
            },
            "text/plain": [
              "Applying SummaryExtractor:   0%|          | 0/44 [00:00<?, ?it/s]"
            ]
          },
          "metadata": {},
          "output_type": "display_data"
        },
        {
          "data": {
            "application/vnd.jupyter.widget-view+json": {
              "model_id": "af2e10ad2ebc42aa80001d3fc10f419e",
              "version_major": 2,
              "version_minor": 0
            },
            "text/plain": [
              "Applying CustomNodeFilter:   0%|          | 0/100 [00:00<?, ?it/s]"
            ]
          },
          "metadata": {},
          "output_type": "display_data"
        },
        {
          "name": "stderr",
          "output_type": "stream",
          "text": [
            "Node 1914b11b-5248-4a98-b76f-84a439095732 does not have a summary. Skipping filtering.\n",
            "Node c8fff766-a886-470c-9be6-5a16cd85c5f5 does not have a summary. Skipping filtering.\n",
            "Node c0bf1740-1c29-4ce6-ad58-dac8a201a51a does not have a summary. Skipping filtering.\n",
            "Node 2e7c9c8a-1485-4603-8ec4-95eb29b848c0 does not have a summary. Skipping filtering.\n",
            "Node 7f9ce8f1-18f1-4a32-8369-df090ebc566c does not have a summary. Skipping filtering.\n",
            "Node 15ab7b90-c055-45d3-a55e-2d91d1d86afe does not have a summary. Skipping filtering.\n",
            "Node dad82fb6-67be-450f-a7fe-d00d10b7a002 does not have a summary. Skipping filtering.\n",
            "Node 933dfc99-7ed8-4538-bd1b-50ffca7877f0 does not have a summary. Skipping filtering.\n",
            "Node 6efdfffa-548c-4312-93d9-a6d065809f37 does not have a summary. Skipping filtering.\n",
            "Node a3344970-9abb-4297-8850-57b9bf3ee7bd does not have a summary. Skipping filtering.\n",
            "Node dcbc5153-424e-46ea-93eb-0d32ad711148 does not have a summary. Skipping filtering.\n",
            "Node 7b67da56-a555-4f51-9adb-db027ea75de3 does not have a summary. Skipping filtering.\n",
            "Node ee307eb9-0db0-4115-b2d0-d5e6f83ce803 does not have a summary. Skipping filtering.\n",
            "Node d9ac3eb4-ec78-44c1-b508-e2b515abeb9b does not have a summary. Skipping filtering.\n",
            "Node 672f96d5-9940-47ee-ad62-de303c8f6382 does not have a summary. Skipping filtering.\n",
            "Node 1f56a300-9e63-4a5e-864b-f3588d0bca15 does not have a summary. Skipping filtering.\n",
            "Node f90547c8-980f-42c5-8c8b-91509b3eb049 does not have a summary. Skipping filtering.\n",
            "Node 3becb0d3-1970-4b24-b20a-b19f7092302d does not have a summary. Skipping filtering.\n",
            "Node d0df763b-fca2-4692-9ae1-64fc5b7f29e6 does not have a summary. Skipping filtering.\n",
            "Node deca3168-9830-4cca-927e-75fbd4795115 does not have a summary. Skipping filtering.\n",
            "Node 5878eb32-3cf2-4bef-8a59-82ccdc07e99f does not have a summary. Skipping filtering.\n",
            "Node fd01ea32-3726-4a28-afbb-75f2af854686 does not have a summary. Skipping filtering.\n",
            "Node de684fa3-36ec-4722-ae53-15d59e3e8ad4 does not have a summary. Skipping filtering.\n",
            "Node e51e8ded-732a-42bd-bc4d-6173c0412a60 does not have a summary. Skipping filtering.\n",
            "Node 1888d491-dc11-4380-a201-f3cbc444b889 does not have a summary. Skipping filtering.\n",
            "Node 59cfd0a0-d45d-4f0c-a285-de41df21d4f2 does not have a summary. Skipping filtering.\n",
            "Node fed475a4-91d6-453c-97ed-13cef5134d16 does not have a summary. Skipping filtering.\n",
            "Node 17455d93-46f9-4c32-9efa-fab2368fbb8b does not have a summary. Skipping filtering.\n",
            "Node dd96ecde-eebd-4a61-8963-58669996a2eb does not have a summary. Skipping filtering.\n",
            "Node 7edf188b-79d4-4637-80c4-7b4f6155967f does not have a summary. Skipping filtering.\n",
            "Node ecbffdb1-117c-4e5e-b345-359f4e30e0df does not have a summary. Skipping filtering.\n",
            "Node da70e55a-b8c8-4f4e-85d9-5cd41502606e does not have a summary. Skipping filtering.\n",
            "Node b1eee23a-c17e-46a3-a1b9-7555415f544d does not have a summary. Skipping filtering.\n",
            "Node a1ef0bcb-2cc6-4299-9c73-afeb2fb16588 does not have a summary. Skipping filtering.\n",
            "Node 8cbb3df0-73f3-4961-b0ef-7e6a13d399f6 does not have a summary. Skipping filtering.\n",
            "Node 3d7f7c71-6b3d-45c4-aeb5-0ac267ae90d2 does not have a summary. Skipping filtering.\n",
            "Node bdeacad0-4342-4c06-a503-a3113a455229 does not have a summary. Skipping filtering.\n",
            "Node be7da39c-1cd3-4b7d-b8a1-7a5c35d94e81 does not have a summary. Skipping filtering.\n",
            "Node 2568d87d-48c0-4233-a560-8a1e59c7ca9b does not have a summary. Skipping filtering.\n",
            "Node 10883e92-e614-4ccb-9601-7ec6369bfe5c does not have a summary. Skipping filtering.\n",
            "Node 33109b48-9329-4c4d-9853-87ed8fdf0d72 does not have a summary. Skipping filtering.\n",
            "Node 0bc6e9f8-ea40-4c1e-b714-02586c99b17f does not have a summary. Skipping filtering.\n",
            "Node 201b9229-99a6-4b3f-8c8e-5bd3cfbc1e16 does not have a summary. Skipping filtering.\n",
            "Node 07f0205d-f872-4ca9-a194-ab38f7f96a5c does not have a summary. Skipping filtering.\n",
            "Node 0d6676fb-816f-4efe-827c-59309a59f044 does not have a summary. Skipping filtering.\n",
            "Node c8edc864-ec76-4d3c-b571-27a626acdd5b does not have a summary. Skipping filtering.\n",
            "Node 3e84c5d2-231f-4d04-a3d9-4ba939c17a29 does not have a summary. Skipping filtering.\n",
            "Node 4d12b71c-000e-4a77-bd86-3b699d9fc3c6 does not have a summary. Skipping filtering.\n",
            "Node 7f6d6410-34a5-4227-b661-9473c3949369 does not have a summary. Skipping filtering.\n",
            "Node 46fbc335-5145-41dd-b3f0-16d8e83539d7 does not have a summary. Skipping filtering.\n",
            "Node 03b583be-13e2-48ce-9065-ee32af6a27d6 does not have a summary. Skipping filtering.\n",
            "Node faf423e9-f510-485f-bd9e-e960fbe4bbe9 does not have a summary. Skipping filtering.\n",
            "Node dec69995-8852-45cd-853d-106c387635a9 does not have a summary. Skipping filtering.\n",
            "Node ead9d97b-1d65-4004-98ee-46591803655f does not have a summary. Skipping filtering.\n",
            "Node 8d01e69e-76e7-4bad-8241-c917d3ff8a85 does not have a summary. Skipping filtering.\n",
            "Node 704658f7-5aaa-47fe-9ca6-a3668d298561 does not have a summary. Skipping filtering.\n"
          ]
        },
        {
          "data": {
            "application/vnd.jupyter.widget-view+json": {
              "model_id": "a5700ab8d4f64795b510d5487231c085",
              "version_major": 2,
              "version_minor": 0
            },
            "text/plain": [
              "Applying [EmbeddingExtractor, ThemesExtractor, NERExtractor]:   0%|          | 0/244 [00:00<?, ?it/s]"
            ]
          },
          "metadata": {},
          "output_type": "display_data"
        },
        {
          "data": {
            "application/vnd.jupyter.widget-view+json": {
              "model_id": "05b4f88788bd4111864e2fb6962bda62",
              "version_major": 2,
              "version_minor": 0
            },
            "text/plain": [
              "Applying [CosineSimilarityBuilder, OverlapScoreBuilder]:   0%|          | 0/2 [00:00<?, ?it/s]"
            ]
          },
          "metadata": {},
          "output_type": "display_data"
        },
        {
          "data": {
            "application/vnd.jupyter.widget-view+json": {
              "model_id": "46419a9b232246e7bb27f628c2f9c083",
              "version_major": 2,
              "version_minor": 0
            },
            "text/plain": [
              "Generating personas:   0%|          | 0/3 [00:00<?, ?it/s]"
            ]
          },
          "metadata": {},
          "output_type": "display_data"
        },
        {
          "data": {
            "application/vnd.jupyter.widget-view+json": {
              "model_id": "8b382a8838124d97a0fa23c154888657",
              "version_major": 2,
              "version_minor": 0
            },
            "text/plain": [
              "Generating Scenarios:   0%|          | 0/3 [00:00<?, ?it/s]"
            ]
          },
          "metadata": {},
          "output_type": "display_data"
        },
        {
          "data": {
            "application/vnd.jupyter.widget-view+json": {
              "model_id": "1d9d492183094668b74fe580bbfaa0c8",
              "version_major": 2,
              "version_minor": 0
            },
            "text/plain": [
              "Generating Samples:   0%|          | 0/12 [00:00<?, ?it/s]"
            ]
          },
          "metadata": {},
          "output_type": "display_data"
        }
      ],
      "source": [
        "from ragas.testset import TestsetGenerator\n",
        "\n",
        "generator = TestsetGenerator(llm=generator_llm, embedding_model=generator_embeddings)\n",
        "# Use the documents you already loaded earlier in the notebook\n",
        "dataset = generator.generate_with_langchain_docs(documents, testset_size=10)"
      ]
    },
    {
      "cell_type": "code",
      "execution_count": 61,
      "metadata": {},
      "outputs": [
        {
          "data": {
            "text/html": [
              "<div>\n",
              "<style scoped>\n",
              "    .dataframe tbody tr th:only-of-type {\n",
              "        vertical-align: middle;\n",
              "    }\n",
              "\n",
              "    .dataframe tbody tr th {\n",
              "        vertical-align: top;\n",
              "    }\n",
              "\n",
              "    .dataframe thead th {\n",
              "        text-align: right;\n",
              "    }\n",
              "</style>\n",
              "<table border=\"1\" class=\"dataframe\">\n",
              "  <thead>\n",
              "    <tr style=\"text-align: right;\">\n",
              "      <th></th>\n",
              "      <th>user_input</th>\n",
              "      <th>reference_contexts</th>\n",
              "      <th>reference</th>\n",
              "      <th>synthesizer_name</th>\n",
              "    </tr>\n",
              "  </thead>\n",
              "  <tbody>\n",
              "    <tr>\n",
              "      <th>0</th>\n",
              "      <td>How does John Wick compare to Taken in terms o...</td>\n",
              "      <td>[: 0\\nReview: The best way I can describe John...</td>\n",
              "      <td>John Wick can be described as similar to Taken...</td>\n",
              "      <td>single_hop_specifc_query_synthesizer</td>\n",
              "    </tr>\n",
              "    <tr>\n",
              "      <th>1</th>\n",
              "      <td>What makes the John Wick series popular among ...</td>\n",
              "      <td>[: 2\\nReview: With the fourth installment scor...</td>\n",
              "      <td>The John Wick series has gained immense popula...</td>\n",
              "      <td>single_hop_specifc_query_synthesizer</td>\n",
              "    </tr>\n",
              "    <tr>\n",
              "      <th>2</th>\n",
              "      <td>Who is Chad Stahelski and what is his role in ...</td>\n",
              "      <td>[: 3\\nReview: John wick has a very simple reve...</td>\n",
              "      <td>Chad Stahelski is the director of John Wick an...</td>\n",
              "      <td>single_hop_specifc_query_synthesizer</td>\n",
              "    </tr>\n",
              "    <tr>\n",
              "      <th>3</th>\n",
              "      <td>What motivates John Wick to return to his viol...</td>\n",
              "      <td>[: 4\\nReview: Though he no longer has a taste ...</td>\n",
              "      <td>John Wick, a retired assassin, is motivated to...</td>\n",
              "      <td>single_hop_specifc_query_synthesizer</td>\n",
              "    </tr>\n",
              "    <tr>\n",
              "      <th>4</th>\n",
              "      <td>How does John Wick compare to classic one man ...</td>\n",
              "      <td>[&lt;1-hop&gt;\\n\\n: 6\\nReview: In 2014, a Keanu Reev...</td>\n",
              "      <td>John Wick, released in 2014 and starring Keanu...</td>\n",
              "      <td>multi_hop_abstract_query_synthesizer</td>\n",
              "    </tr>\n",
              "    <tr>\n",
              "      <th>5</th>\n",
              "      <td>how keanu reeves character development in john...</td>\n",
              "      <td>[&lt;1-hop&gt;\\n\\n: 19\\nReview: John Wick: Chapter 4...</td>\n",
              "      <td>In John Wick: Chapter 4, Keanu Reeves' charact...</td>\n",
              "      <td>multi_hop_abstract_query_synthesizer</td>\n",
              "    </tr>\n",
              "    <tr>\n",
              "      <th>6</th>\n",
              "      <td>How do the fight choreography and overall chor...</td>\n",
              "      <td>[&lt;1-hop&gt;\\n\\n: 11\\nReview: Who needs a 2hr and ...</td>\n",
              "      <td>The fight choreography and overall choreograph...</td>\n",
              "      <td>multi_hop_abstract_query_synthesizer</td>\n",
              "    </tr>\n",
              "    <tr>\n",
              "      <th>7</th>\n",
              "      <td>How does the violent action in the John Wick s...</td>\n",
              "      <td>[&lt;1-hop&gt;\\n\\n: 0\\nReview: The best way I can de...</td>\n",
              "      <td>The violent action in the John Wick series sta...</td>\n",
              "      <td>multi_hop_abstract_query_synthesizer</td>\n",
              "    </tr>\n",
              "    <tr>\n",
              "      <th>8</th>\n",
              "      <td>How does Santino D'Antonio use John Wick's mar...</td>\n",
              "      <td>[&lt;1-hop&gt;\\n\\n: 20\\nReview: After resolving his ...</td>\n",
              "      <td>Santino D'Antonio uses John Wick's marker to f...</td>\n",
              "      <td>multi_hop_specific_query_synthesizer</td>\n",
              "    </tr>\n",
              "    <tr>\n",
              "      <th>9</th>\n",
              "      <td>How does Reeves' portrayal of a retired assass...</td>\n",
              "      <td>[&lt;1-hop&gt;\\n\\n: 22\\nReview: All the below are no...</td>\n",
              "      <td>In the movie where Reeves sets a new record of...</td>\n",
              "      <td>multi_hop_specific_query_synthesizer</td>\n",
              "    </tr>\n",
              "    <tr>\n",
              "      <th>10</th>\n",
              "      <td>How does the portrayal of John Wick as Baba Ya...</td>\n",
              "      <td>[&lt;1-hop&gt;\\n\\n: 6\\nReview: Assassin John Wick is...</td>\n",
              "      <td>In Parabellum, John Wick is portrayed as Baba ...</td>\n",
              "      <td>multi_hop_specific_query_synthesizer</td>\n",
              "    </tr>\n",
              "    <tr>\n",
              "      <th>11</th>\n",
              "      <td>How does John Wick: Chapter 3 - Parabellum exp...</td>\n",
              "      <td>[&lt;1-hop&gt;\\n\\n: 24\\nReview: John Wick: Chapter 3...</td>\n",
              "      <td>John Wick: Chapter 3 - Parabellum focuses on t...</td>\n",
              "      <td>multi_hop_specific_query_synthesizer</td>\n",
              "    </tr>\n",
              "  </tbody>\n",
              "</table>\n",
              "</div>"
            ],
            "text/plain": [
              "                                           user_input  \\\n",
              "0   How does John Wick compare to Taken in terms o...   \n",
              "1   What makes the John Wick series popular among ...   \n",
              "2   Who is Chad Stahelski and what is his role in ...   \n",
              "3   What motivates John Wick to return to his viol...   \n",
              "4   How does John Wick compare to classic one man ...   \n",
              "5   how keanu reeves character development in john...   \n",
              "6   How do the fight choreography and overall chor...   \n",
              "7   How does the violent action in the John Wick s...   \n",
              "8   How does Santino D'Antonio use John Wick's mar...   \n",
              "9   How does Reeves' portrayal of a retired assass...   \n",
              "10  How does the portrayal of John Wick as Baba Ya...   \n",
              "11  How does John Wick: Chapter 3 - Parabellum exp...   \n",
              "\n",
              "                                   reference_contexts  \\\n",
              "0   [: 0\\nReview: The best way I can describe John...   \n",
              "1   [: 2\\nReview: With the fourth installment scor...   \n",
              "2   [: 3\\nReview: John wick has a very simple reve...   \n",
              "3   [: 4\\nReview: Though he no longer has a taste ...   \n",
              "4   [<1-hop>\\n\\n: 6\\nReview: In 2014, a Keanu Reev...   \n",
              "5   [<1-hop>\\n\\n: 19\\nReview: John Wick: Chapter 4...   \n",
              "6   [<1-hop>\\n\\n: 11\\nReview: Who needs a 2hr and ...   \n",
              "7   [<1-hop>\\n\\n: 0\\nReview: The best way I can de...   \n",
              "8   [<1-hop>\\n\\n: 20\\nReview: After resolving his ...   \n",
              "9   [<1-hop>\\n\\n: 22\\nReview: All the below are no...   \n",
              "10  [<1-hop>\\n\\n: 6\\nReview: Assassin John Wick is...   \n",
              "11  [<1-hop>\\n\\n: 24\\nReview: John Wick: Chapter 3...   \n",
              "\n",
              "                                            reference  \\\n",
              "0   John Wick can be described as similar to Taken...   \n",
              "1   The John Wick series has gained immense popula...   \n",
              "2   Chad Stahelski is the director of John Wick an...   \n",
              "3   John Wick, a retired assassin, is motivated to...   \n",
              "4   John Wick, released in 2014 and starring Keanu...   \n",
              "5   In John Wick: Chapter 4, Keanu Reeves' charact...   \n",
              "6   The fight choreography and overall choreograph...   \n",
              "7   The violent action in the John Wick series sta...   \n",
              "8   Santino D'Antonio uses John Wick's marker to f...   \n",
              "9   In the movie where Reeves sets a new record of...   \n",
              "10  In Parabellum, John Wick is portrayed as Baba ...   \n",
              "11  John Wick: Chapter 3 - Parabellum focuses on t...   \n",
              "\n",
              "                        synthesizer_name  \n",
              "0   single_hop_specifc_query_synthesizer  \n",
              "1   single_hop_specifc_query_synthesizer  \n",
              "2   single_hop_specifc_query_synthesizer  \n",
              "3   single_hop_specifc_query_synthesizer  \n",
              "4   multi_hop_abstract_query_synthesizer  \n",
              "5   multi_hop_abstract_query_synthesizer  \n",
              "6   multi_hop_abstract_query_synthesizer  \n",
              "7   multi_hop_abstract_query_synthesizer  \n",
              "8   multi_hop_specific_query_synthesizer  \n",
              "9   multi_hop_specific_query_synthesizer  \n",
              "10  multi_hop_specific_query_synthesizer  \n",
              "11  multi_hop_specific_query_synthesizer  "
            ]
          },
          "execution_count": 61,
          "metadata": {},
          "output_type": "execute_result"
        }
      ],
      "source": [
        "dataset.to_pandas()"
      ]
    },
    {
      "cell_type": "code",
      "execution_count": 62,
      "metadata": {},
      "outputs": [
        {
          "name": "stdout",
          "output_type": "stream",
          "text": [
            "Testset uploaded! View at https://app.ragas.io/dashboard/alignment/testset/ea95df77-8371-4fb4-9da6-e3967ce2bb8e\n"
          ]
        },
        {
          "data": {
            "text/plain": [
              "'https://app.ragas.io/dashboard/alignment/testset/ea95df77-8371-4fb4-9da6-e3967ce2bb8e'"
            ]
          },
          "execution_count": 62,
          "metadata": {},
          "output_type": "execute_result"
        }
      ],
      "source": [
        "dataset.upload()"
      ]
    },
    {
      "cell_type": "code",
      "execution_count": 63,
      "metadata": {},
      "outputs": [],
      "source": [
        "# Step 1: Import necessary libraries for tracing and visualization\n",
        "import matplotlib.pyplot as plt\n",
        "import pandas as pd\n",
        "import numpy as np\n",
        "import seaborn as sns\n",
        "from langsmith import traceable\n",
        "from ragas import evaluate\n",
        "from tqdm.notebook import tqdm\n",
        "\n",
        "import os\n",
        "\n",
        "#os.environ[\"LANGCHAIN_API_KEY\"] = \"\"\n",
        "os.environ[\"LANGCHAIN_ENDPOINT\"] = \"https://api.smith.langchain.com\"\n",
        "\n",
        "# Step 2: Create traceable versions of each retriever chain\n",
        "retriever_names = [\n",
        "    \"Naive\",\n",
        "    \"BM25\",\n",
        "    \"Multi-Query\",\n",
        "    \"Contextual Compression\",\n",
        "    \"Ensemble\",\n",
        "    \"Parent Document\",\n",
        "    \"Semantic\"\n",
        "]\n",
        "\n",
        "# Create traceable versions of each retriever chain\n",
        "@traceable(name=\"naive_retrieval\")\n",
        "def trace_naive_retrieval(query):\n",
        "    return naive_retrieval_chain.invoke({\"question\": query})\n",
        "\n",
        "@traceable(name=\"bm25_retrieval\")\n",
        "def trace_bm25_retrieval(query):\n",
        "    return bm25_retrieval_chain.invoke({\"question\": query})\n",
        "\n",
        "@traceable(name=\"multi_query_retrieval\")\n",
        "def trace_multi_query_retrieval(query):\n",
        "    return multi_query_retrieval_chain.invoke({\"question\": query})\n",
        "\n",
        "@traceable(name=\"contextual_compression_retrieval\")\n",
        "def trace_contextual_compression_retrieval(query):\n",
        "    return contextual_compression_retrieval_chain.invoke({\"question\": query})\n",
        "\n",
        "@traceable(name=\"ensemble_retrieval\")\n",
        "def trace_ensemble_retrieval(query):\n",
        "    return ensemble_retrieval_chain.invoke({\"question\": query})\n",
        "\n",
        "@traceable(name=\"parent_document_retrieval\")\n",
        "def trace_parent_document_retrieval(query):\n",
        "    return parent_document_retrieval_chain.invoke({\"question\": query})\n",
        "\n",
        "@traceable(name=\"semantic_retrieval\")\n",
        "def trace_semantic_retrieval(query):\n",
        "    return semantic_retrieval_chain.invoke({\"question\": query})\n",
        "\n",
        "# Map retriever names to their traceable functions\n",
        "traceable_retrievers = {\n",
        "    \"Naive\": trace_naive_retrieval,\n",
        "    \"BM25\": trace_bm25_retrieval,\n",
        "    \"Multi-Query\": trace_multi_query_retrieval,\n",
        "    \"Contextual Compression\": trace_contextual_compression_retrieval,\n",
        "    \"Ensemble\": trace_ensemble_retrieval,\n",
        "    \"Parent Document\": trace_parent_document_retrieval,\n",
        "    \"Semantic\": trace_semantic_retrieval\n",
        "}"
      ]
    },
    {
      "cell_type": "code",
      "execution_count": 64,
      "metadata": {},
      "outputs": [],
      "source": [
        "import copy\n",
        "\n",
        "evaluation_dataset = copy.deepcopy(dataset)"
      ]
    },
    {
      "cell_type": "code",
      "execution_count": 65,
      "metadata": {},
      "outputs": [],
      "source": [
        "from ragas import EvaluationDataset\n",
        "\n",
        "import time\n",
        "import random\n",
        "from tenacity import retry, stop_after_attempt, wait_exponential, retry_if_exception_type\n",
        "from cohere.errors import TooManyRequestsError\n",
        "\n",
        "\n",
        "# Add retry decorator with exponential backoff for Cohere rate limits\n",
        "@retry(\n",
        "    retry=retry_if_exception_type(TooManyRequestsError),\n",
        "    wait=wait_exponential(multiplier=1, min=2, max=60),\n",
        "    stop=stop_after_attempt(5)\n",
        ")\n",
        "def call_with_retry(func, query):\n",
        "    try:\n",
        "        return func(query)\n",
        "    except TooManyRequestsError:\n",
        "        print(\"Hit Cohere rate limit, waiting before retry...\")\n",
        "        # Add a random jitter to avoid all processes retrying at the same time\n",
        "        time.sleep(random.uniform(10, 15))\n",
        "        raise  # Re-raise to let tenacity handle the retry\n",
        "\n",
        "def evaluate_retriever(retriever_func, retriever_dataset):\n",
        "    for test_row in retriever_dataset:\n",
        "        try:\n",
        "            # Use the retry wrapper around the retriever function\n",
        "            response = call_with_retry(retriever_func, test_row.eval_sample.user_input)\n",
        "            test_row.eval_sample.response = response[\"response\"].content\n",
        "            test_row.eval_sample.retrieved_contexts = [context.page_content for context in response[\"context\"]]\n",
        "            # Add a small delay between requests to avoid hitting rate limits\n",
        "            time.sleep(6)  # Wait 6 seconds between requests\n",
        "        except Exception as e:\n",
        "            print(f\"Error processing query: {e}\")\n",
        "            # Provide a fallback response if the retriever fails\n",
        "            test_row.eval_sample.response = \"Error retrieving response due to rate limits.\"\n",
        "            test_row.eval_sample.retrieved_contexts = [\"Error retrieving contexts due to rate limits.\"]\n",
        "\n",
        "    retriever_dataset.to_pandas()\n",
        "    return EvaluationDataset.from_pandas(retriever_dataset.to_pandas())\n"
      ]
    },
    {
      "cell_type": "code",
      "execution_count": 66,
      "metadata": {},
      "outputs": [
        {
          "name": "stderr",
          "output_type": "stream",
          "text": [
            "Evaluating retrievers:   0%|          | 0/7 [00:00<?, ?it/s]"
          ]
        },
        {
          "name": "stdout",
          "output_type": "stream",
          "text": [
            "\n",
            "Evaluating Naive retriever...\n"
          ]
        },
        {
          "name": "stderr",
          "output_type": "stream",
          "text": [
            "Evaluating retrievers:  14%|█▍        | 1/7 [01:51<11:06, 111.16s/it]"
          ]
        },
        {
          "name": "stdout",
          "output_type": "stream",
          "text": [
            "Completed evaluation for Naive\n",
            "\n",
            "Evaluating BM25 retriever...\n"
          ]
        },
        {
          "name": "stderr",
          "output_type": "stream",
          "text": [
            "Evaluating retrievers:  29%|██▊       | 2/7 [03:42<09:16, 111.24s/it]"
          ]
        },
        {
          "name": "stdout",
          "output_type": "stream",
          "text": [
            "Completed evaluation for BM25\n",
            "\n",
            "Evaluating Multi-Query retriever...\n"
          ]
        },
        {
          "name": "stderr",
          "output_type": "stream",
          "text": [
            "Evaluating retrievers:  43%|████▎     | 3/7 [06:02<08:18, 124.56s/it]"
          ]
        },
        {
          "name": "stdout",
          "output_type": "stream",
          "text": [
            "Completed evaluation for Multi-Query\n",
            "\n",
            "Evaluating Contextual Compression retriever...\n"
          ]
        },
        {
          "name": "stderr",
          "output_type": "stream",
          "text": [
            "Evaluating retrievers:  57%|█████▋    | 4/7 [07:49<05:52, 117.55s/it]"
          ]
        },
        {
          "name": "stdout",
          "output_type": "stream",
          "text": [
            "Completed evaluation for Contextual Compression\n",
            "\n",
            "Evaluating Ensemble retriever...\n"
          ]
        },
        {
          "name": "stderr",
          "output_type": "stream",
          "text": [
            "Evaluating retrievers:  71%|███████▏  | 5/7 [10:10<04:11, 125.96s/it]"
          ]
        },
        {
          "name": "stdout",
          "output_type": "stream",
          "text": [
            "Completed evaluation for Ensemble\n",
            "\n",
            "Evaluating Parent Document retriever...\n"
          ]
        },
        {
          "name": "stderr",
          "output_type": "stream",
          "text": [
            "Evaluating retrievers:  86%|████████▌ | 6/7 [11:52<01:57, 117.85s/it]"
          ]
        },
        {
          "name": "stdout",
          "output_type": "stream",
          "text": [
            "Completed evaluation for Parent Document\n",
            "\n",
            "Evaluating Semantic retriever...\n"
          ]
        },
        {
          "name": "stderr",
          "output_type": "stream",
          "text": [
            "Evaluating retrievers: 100%|██████████| 7/7 [13:49<00:00, 118.50s/it]"
          ]
        },
        {
          "name": "stdout",
          "output_type": "stream",
          "text": [
            "Completed evaluation for Semantic\n"
          ]
        },
        {
          "name": "stderr",
          "output_type": "stream",
          "text": [
            "\n"
          ]
        }
      ],
      "source": [
        "# Loop through each retriever and evaluate\n",
        "from tqdm import tqdm\n",
        "\n",
        "evaluation_results = {}\n",
        "for retriever_name, retriever_func in tqdm(traceable_retrievers.items(), desc=\"Evaluating retrievers\"):\n",
        "    print(f\"\\nEvaluating {retriever_name} retriever...\")\n",
        "    \n",
        "    # Create a copy of the dataset for this evaluation\n",
        "    current_dataset = copy.deepcopy(evaluation_dataset)\n",
        "    \n",
        "    # Run evaluation for this retriever with progress bar\n",
        "    evaluation_results[retriever_name] = evaluate_retriever(\n",
        "        retriever_func,\n",
        "        current_dataset\n",
        "    )\n",
        "    \n",
        "    print(f\"Completed evaluation for {retriever_name}\")\n"
      ]
    },
    {
      "cell_type": "code",
      "execution_count": 67,
      "metadata": {},
      "outputs": [
        {
          "data": {
            "application/vnd.jupyter.widget-view+json": {
              "model_id": "cd4173a963cf41c5bc0b48b0c1df6136",
              "version_major": 2,
              "version_minor": 0
            },
            "text/plain": [
              "Evaluating:   0%|          | 0/72 [00:00<?, ?it/s]"
            ]
          },
          "metadata": {},
          "output_type": "display_data"
        },
        {
          "name": "stderr",
          "output_type": "stream",
          "text": [
            "Exception raised in Job[5]: TimeoutError()\n",
            "Exception raised in Job[11]: TimeoutError()\n",
            "Exception raised in Job[29]: TimeoutError()\n",
            "Exception raised in Job[35]: TimeoutError()\n",
            "Exception raised in Job[41]: TimeoutError()\n",
            "Exception raised in Job[47]: TimeoutError()\n",
            "Exception raised in Job[53]: TimeoutError()\n",
            "Exception raised in Job[59]: TimeoutError()\n",
            "Exception raised in Job[65]: TimeoutError()\n"
          ]
        },
        {
          "data": {
            "application/vnd.jupyter.widget-view+json": {
              "model_id": "abd8412580314a8dbc01964b4cd371db",
              "version_major": 2,
              "version_minor": 0
            },
            "text/plain": [
              "Evaluating:   0%|          | 0/72 [00:00<?, ?it/s]"
            ]
          },
          "metadata": {},
          "output_type": "display_data"
        },
        {
          "data": {
            "application/vnd.jupyter.widget-view+json": {
              "model_id": "42d0d26a3b0c4f5abcb07ce5515b56ca",
              "version_major": 2,
              "version_minor": 0
            },
            "text/plain": [
              "Evaluating:   0%|          | 0/72 [00:00<?, ?it/s]"
            ]
          },
          "metadata": {},
          "output_type": "display_data"
        },
        {
          "name": "stderr",
          "output_type": "stream",
          "text": [
            "Exception raised in Job[5]: TimeoutError()\n",
            "Exception raised in Job[11]: TimeoutError()\n",
            "Exception raised in Job[29]: TimeoutError()\n",
            "Exception raised in Job[35]: TimeoutError()\n",
            "Exception raised in Job[41]: TimeoutError()\n",
            "Exception raised in Job[47]: TimeoutError()\n",
            "Exception raised in Job[53]: TimeoutError()\n",
            "Exception raised in Job[59]: TimeoutError()\n",
            "Exception raised in Job[65]: TimeoutError()\n"
          ]
        },
        {
          "data": {
            "application/vnd.jupyter.widget-view+json": {
              "model_id": "e586d65b07a74d85a84e9be2a1388842",
              "version_major": 2,
              "version_minor": 0
            },
            "text/plain": [
              "Evaluating:   0%|          | 0/72 [00:00<?, ?it/s]"
            ]
          },
          "metadata": {},
          "output_type": "display_data"
        },
        {
          "data": {
            "application/vnd.jupyter.widget-view+json": {
              "model_id": "359d4cd43b5e4416872962f2f92e471e",
              "version_major": 2,
              "version_minor": 0
            },
            "text/plain": [
              "Evaluating:   0%|          | 0/72 [00:00<?, ?it/s]"
            ]
          },
          "metadata": {},
          "output_type": "display_data"
        },
        {
          "name": "stderr",
          "output_type": "stream",
          "text": [
            "Exception raised in Job[5]: TimeoutError()\n",
            "Exception raised in Job[11]: TimeoutError()\n",
            "Exception raised in Job[17]: TimeoutError()\n",
            "Exception raised in Job[23]: TimeoutError()\n",
            "Exception raised in Job[29]: TimeoutError()\n",
            "Exception raised in Job[57]: APIConnectionError(Connection error.)\n",
            "Exception raised in Job[35]: TimeoutError()\n",
            "Exception raised in Job[41]: TimeoutError()\n",
            "Exception raised in Job[47]: TimeoutError()\n",
            "Exception raised in Job[53]: TimeoutError()\n",
            "Exception raised in Job[59]: TimeoutError()\n",
            "Exception raised in Job[65]: TimeoutError()\n",
            "Exception raised in Job[71]: TimeoutError()\n"
          ]
        },
        {
          "data": {
            "application/vnd.jupyter.widget-view+json": {
              "model_id": "7764cf222ff544768880c5366f09b3f8",
              "version_major": 2,
              "version_minor": 0
            },
            "text/plain": [
              "Evaluating:   0%|          | 0/72 [00:00<?, ?it/s]"
            ]
          },
          "metadata": {},
          "output_type": "display_data"
        },
        {
          "data": {
            "application/vnd.jupyter.widget-view+json": {
              "model_id": "018cfef8fab745d4b565bbc25fc40ffa",
              "version_major": 2,
              "version_minor": 0
            },
            "text/plain": [
              "Evaluating:   0%|          | 0/72 [00:00<?, ?it/s]"
            ]
          },
          "metadata": {},
          "output_type": "display_data"
        },
        {
          "name": "stderr",
          "output_type": "stream",
          "text": [
            "Exception raised in Job[5]: TimeoutError()\n",
            "Exception raised in Job[11]: TimeoutError()\n",
            "Exception raised in Job[29]: TimeoutError()\n",
            "Exception raised in Job[35]: TimeoutError()\n",
            "Exception raised in Job[41]: TimeoutError()\n",
            "Exception raised in Job[47]: TimeoutError()\n",
            "Exception raised in Job[59]: TimeoutError()\n",
            "Exception raised in Job[65]: TimeoutError()\n"
          ]
        }
      ],
      "source": [
        "# Create a list to store the results\n",
        "results_list = []\n",
        "# Create a dictionary to store baseline evaluation results\n",
        "baseline_evaluation_results = {}\n",
        "\n",
        "for retriever_name, result in evaluation_results.items():\n",
        "    baseline_evaluation_results[retriever_name] = evaluate(\n",
        "    dataset=result,\n",
        "    metrics=evaluator_metrics,\n",
        "    llm=evaluator_llm,\n",
        "    run_config=evaluator_config\n",
        ")"
      ]
    },
    {
      "cell_type": "code",
      "execution_count": 70,
      "metadata": {},
      "outputs": [
        {
          "data": {
            "text/plain": [
              "{'Naive': {'context_recall': 0.8639, 'faithfulness': 0.8647, 'factual_correctness(mode=f1)': 0.5950, 'answer_relevancy': 0.8826, 'context_entity_recall': 0.5099, 'noise_sensitivity(mode=relevant)': 0.2593},\n",
              " 'BM25': {'context_recall': 0.7625, 'faithfulness': 0.8565, 'factual_correctness(mode=f1)': 0.5550, 'answer_relevancy': 0.8825, 'context_entity_recall': 0.4902, 'noise_sensitivity(mode=relevant)': 0.2308},\n",
              " 'Multi-Query': {'context_recall': 0.9500, 'faithfulness': 0.8978, 'factual_correctness(mode=f1)': 0.5150, 'answer_relevancy': 0.8778, 'context_entity_recall': 0.5740, 'noise_sensitivity(mode=relevant)': 0.3871},\n",
              " 'Contextual Compression': {'context_recall': 0.7667, 'faithfulness': 0.8185, 'factual_correctness(mode=f1)': 0.5908, 'answer_relevancy': 0.8014, 'context_entity_recall': 0.4989, 'noise_sensitivity(mode=relevant)': 0.2555},\n",
              " 'Ensemble': {'context_recall': 1.0000, 'faithfulness': 0.9007, 'factual_correctness(mode=f1)': 0.5883, 'answer_relevancy': 0.8820, 'context_entity_recall': 0.4976, 'noise_sensitivity(mode=relevant)': nan},\n",
              " 'Parent Document': {'context_recall': 0.5014, 'faithfulness': 0.7303, 'factual_correctness(mode=f1)': 0.5867, 'answer_relevancy': 0.9651, 'context_entity_recall': 0.5032, 'noise_sensitivity(mode=relevant)': 0.2204},\n",
              " 'Semantic': {'context_recall': 0.8556, 'faithfulness': 0.8692, 'factual_correctness(mode=f1)': 0.5425, 'answer_relevancy': 0.8804, 'context_entity_recall': 0.5163, 'noise_sensitivity(mode=relevant)': 0.3216}}"
            ]
          },
          "execution_count": 70,
          "metadata": {},
          "output_type": "execute_result"
        }
      ],
      "source": [
        "baseline_evaluation_results"
      ]
    },
    {
      "cell_type": "markdown",
      "metadata": {},
      "source": [
        "### Run: #1"
      ]
    },
    {
      "cell_type": "code",
      "execution_count": 73,
      "metadata": {},
      "outputs": [
        {
          "name": "stdout",
          "output_type": "stream",
          "text": [
            "Key Findings:\n",
            "- Ensemble performs best on context_recall (0.8556) and faithfulness (0.9218)\n",
            "- BM25 leads in factual_correctness (0.4808)\n",
            "- Multi-Query and Contextual Compression tie for highest answer_relevancy (~0.87)\n",
            "- BM25 has the highest context_entity_recall (0.5859)\n",
            "- Parent Document has the lowest performance across most metrics\n",
            "- Missing values for noise_sensitivity in Multi-Query and Ensemble\n"
          ]
        },
        {
          "data": {
            "image/png": "[encoded data removed]",
            "text/plain": [
              "<Figure size 1400x800 with 2 Axes>"
            ]
          },
          "metadata": {},
          "output_type": "display_data"
        }
      ],
      "source": [
        "import pandas as pd\n",
        "import numpy as np\n",
        "import matplotlib.pyplot as plt\n",
        "import seaborn as sns\n",
        "\n",
        "# Define the data\n",
        "data = {\n",
        "    'Naive': {\n",
        "        'context_recall': 0.7278,\n",
        "        'faithfulness': 0.8934,\n",
        "        'factual_correctness(mode=f1)': 0.4375,\n",
        "        'answer_relevancy': 0.8691,\n",
        "        'context_entity_recall': 0.5605,\n",
        "        'noise_sensitivity(mode=relevant)': 0.4091\n",
        "    },\n",
        "    'BM25': {\n",
        "        'context_recall': 0.5764,\n",
        "        'faithfulness': 0.7550,\n",
        "        'factual_correctness(mode=f1)': 0.4808,\n",
        "        'answer_relevancy': 0.7833,\n",
        "        'context_entity_recall': 0.5859,\n",
        "        'noise_sensitivity(mode=relevant)': 0.2423\n",
        "    },\n",
        "    'Multi-Query': {\n",
        "        'context_recall': 0.7694,\n",
        "        'faithfulness': 0.9054,\n",
        "        'factual_correctness(mode=f1)': 0.4283,\n",
        "        'answer_relevancy': 0.8703,\n",
        "        'context_entity_recall': 0.5800,\n",
        "        'noise_sensitivity(mode=relevant)': np.nan\n",
        "    },\n",
        "    'Contextual Compression': {\n",
        "        'context_recall': 0.6375,\n",
        "        'faithfulness': 0.7650,\n",
        "        'factual_correctness(mode=f1)': 0.4650,\n",
        "        'answer_relevancy': 0.8704,\n",
        "        'context_entity_recall': 0.5480,\n",
        "        'noise_sensitivity(mode=relevant)': 0.3385\n",
        "    },\n",
        "    'Ensemble': {\n",
        "        'context_recall': 0.8556,\n",
        "        'faithfulness': 0.9218,\n",
        "        'factual_correctness(mode=f1)': 0.4425,\n",
        "        'answer_relevancy': 0.7878,\n",
        "        'context_entity_recall': 0.5831,\n",
        "        'noise_sensitivity(mode=relevant)': np.nan\n",
        "    },\n",
        "    'Parent Document': {\n",
        "        'context_recall': 0.3458,\n",
        "        'faithfulness': 0.6339,\n",
        "        'factual_correctness(mode=f1)': 0.4200,\n",
        "        'answer_relevancy': 0.8682,\n",
        "        'context_entity_recall': 0.4008,\n",
        "        'noise_sensitivity(mode=relevant)': 0.1765\n",
        "    },\n",
        "    'Semantic': {\n",
        "        'context_recall': 0.7792,\n",
        "        'faithfulness': 0.8999,\n",
        "        'factual_correctness(mode=f1)': 0.4250,\n",
        "        'answer_relevancy': 0.8617,\n",
        "        'context_entity_recall': 0.4871,\n",
        "        'noise_sensitivity(mode=relevant)': 0.3716\n",
        "    }\n",
        "}\n",
        "\n",
        "df = pd.DataFrame(data)\n",
        "\n",
        "# Find the best performer for each metric\n",
        "best_performers = {}\n",
        "for metric in df.index:\n",
        "    # Skip if all values are NaN\n",
        "    if df.loc[metric].isna().all():\n",
        "        continue\n",
        "    best_performers[metric] = {\n",
        "        'retriever': df.loc[metric].idxmax(),\n",
        "        'value': df.loc[metric].max()\n",
        "    }\n",
        "\n",
        "# Create heatmap for \n",
        "def create_heatmap(df):\n",
        "    plt.figure(figsize=(14, 8))\n",
        "    sns.heatmap(df, annot=True, cmap=\"YlGnBu\", vmin=0, vmax=1, fmt=\".4f\")\n",
        "    plt.title(\"RAG Retriever Performance Comparison\")\n",
        "    plt.tight_layout()\n",
        "    return plt\n",
        "\n",
        "# Rename metrics for better readability\n",
        "df.index = [\n",
        "    'Context Recall',\n",
        "    'Faithfulness',\n",
        "    'Factual Correctness',\n",
        "    'Answer Relevancy',\n",
        "    'Entity Recall',\n",
        "    'Noise Sensitivity'\n",
        "]\n",
        "\n",
        "heatmap_fig = create_heatmap(df)\n",
        "\n",
        "# Show key findings\n",
        "print(\"Key Findings:\")\n",
        "print(f\"- Ensemble performs best on context_recall ({data['Ensemble']['context_recall']:.4f}) and faithfulness ({data['Ensemble']['faithfulness']:.4f})\")\n",
        "print(f\"- BM25 leads in factual_correctness ({data['BM25']['factual_correctness(mode=f1)']:.4f})\")\n",
        "print(f\"- Multi-Query and Contextual Compression tie for highest answer_relevancy (~0.87)\")\n",
        "print(f\"- BM25 has the highest context_entity_recall ({data['BM25']['context_entity_recall']:.4f})\")\n",
        "print(f\"- Parent Document has the lowest performance across most metrics\")\n",
        "print(f\"- Missing values for noise_sensitivity in Multi-Query and Ensemble\")"
      ]
    },
    {
      "cell_type": "markdown",
      "metadata": {},
      "source": [
        "### Run #2"
      ]
    },
    {
      "cell_type": "code",
      "execution_count": 74,
      "metadata": {},
      "outputs": [
        {
          "name": "stdout",
          "output_type": "stream",
          "text": [
            "Key Findings:\n",
            "- Ensemble achieves perfect context_recall (1.0000) and has the highest faithfulness (0.9007)\n",
            "- Naive leads in factual_correctness (0.5950), just ahead of Contextual Compression (0.5908)\n",
            "- Parent Document has the highest answer_relevancy (0.9651), significantly outperforming others\n",
            "- Multi-Query has the best context_entity_recall (0.5740) and noise_sensitivity (0.3871)\n",
            "- Parent Document has the lowest context_recall (0.5014) but highest answer_relevancy\n",
            "- Missing value for noise_sensitivity in the Ensemble retriever\n",
            "\n",
            "Retriever Recommendations:\n",
            "- For maximum context inclusion: Ensemble (perfect recall)\n",
            "- For factual answers: Naive or Contextual Compression\n",
            "- For highly relevant answers: Parent Document\n",
            "- Most balanced overall: Multi-Query (strong in most categories)\n"
          ]
        },
        {
          "data": {
            "image/png": "[encoded data removed]",
            "text/plain": [
              "<Figure size 1400x800 with 2 Axes>"
            ]
          },
          "metadata": {},
          "output_type": "display_data"
        }
      ],
      "source": [
        "import pandas as pd\n",
        "import numpy as np\n",
        "import matplotlib.pyplot as plt\n",
        "import seaborn as sns\n",
        "\n",
        "# Define the data\n",
        "data = {\n",
        "    'Naive': {\n",
        "        'context_recall': 0.8639, \n",
        "        'faithfulness': 0.8647, \n",
        "        'factual_correctness(mode=f1)': 0.5950, \n",
        "        'answer_relevancy': 0.8826, \n",
        "        'context_entity_recall': 0.5099, \n",
        "        'noise_sensitivity(mode=relevant)': 0.2593\n",
        "    },\n",
        "    'BM25': {\n",
        "        'context_recall': 0.7625, \n",
        "        'faithfulness': 0.8565, \n",
        "        'factual_correctness(mode=f1)': 0.5550, \n",
        "        'answer_relevancy': 0.8825, \n",
        "        'context_entity_recall': 0.4902, \n",
        "        'noise_sensitivity(mode=relevant)': 0.2308\n",
        "    },\n",
        "    'Multi-Query': {\n",
        "        'context_recall': 0.9500, \n",
        "        'faithfulness': 0.8978, \n",
        "        'factual_correctness(mode=f1)': 0.5150, \n",
        "        'answer_relevancy': 0.8778, \n",
        "        'context_entity_recall': 0.5740, \n",
        "        'noise_sensitivity(mode=relevant)': 0.3871\n",
        "    },\n",
        "    'Contextual Compression': {\n",
        "        'context_recall': 0.7667, \n",
        "        'faithfulness': 0.8185, \n",
        "        'factual_correctness(mode=f1)': 0.5908, \n",
        "        'answer_relevancy': 0.8014, \n",
        "        'context_entity_recall': 0.4989, \n",
        "        'noise_sensitivity(mode=relevant)': 0.2555\n",
        "    },\n",
        "    'Ensemble': {\n",
        "        'context_recall': 1.0000, \n",
        "        'faithfulness': 0.9007, \n",
        "        'factual_correctness(mode=f1)': 0.5883, \n",
        "        'answer_relevancy': 0.8820, \n",
        "        'context_entity_recall': 0.4976, \n",
        "        'noise_sensitivity(mode=relevant)': np.nan\n",
        "    },\n",
        "    'Parent Document': {\n",
        "        'context_recall': 0.5014, \n",
        "        'faithfulness': 0.7303, \n",
        "        'factual_correctness(mode=f1)': 0.5867, \n",
        "        'answer_relevancy': 0.9651, \n",
        "        'context_entity_recall': 0.5032, \n",
        "        'noise_sensitivity(mode=relevant)': 0.2204\n",
        "    },\n",
        "    'Semantic': {\n",
        "        'context_recall': 0.8556, \n",
        "        'faithfulness': 0.8692, \n",
        "        'factual_correctness(mode=f1)': 0.5425, \n",
        "        'answer_relevancy': 0.8804, \n",
        "        'context_entity_recall': 0.5163, \n",
        "        'noise_sensitivity(mode=relevant)': 0.3216\n",
        "    }\n",
        "}\n",
        "\n",
        "# Convert to DataFrame for easier plotting\n",
        "df = pd.DataFrame(data)\n",
        "\n",
        "# Rename metrics for better readability\n",
        "df.index = [\n",
        "    'Context Recall',\n",
        "    'Faithfulness',\n",
        "    'Factual Correctness',\n",
        "    'Answer Relevancy',\n",
        "    'Entity Recall',\n",
        "    'Noise Sensitivity'\n",
        "]\n",
        "\n",
        "# Create heatmap for comparison\n",
        "def create_heatmap(df):\n",
        "    plt.figure(figsize=(14, 8))\n",
        "    \n",
        "    # Create a mask for NaN values\n",
        "    mask = df.isna()\n",
        "    \n",
        "    # Create heatmap\n",
        "    hm = sns.heatmap(df, annot=True, cmap=\"YlGnBu\", vmin=0, vmax=1, fmt=\".4f\", mask=mask)\n",
        "    \n",
        "    # Highlight the maximum value in each row\n",
        "    for i, idx in enumerate(df.index):\n",
        "        max_val = df.loc[idx].max()\n",
        "        # Skip if all values in the row are NaN\n",
        "        if np.isnan(max_val):\n",
        "            continue\n",
        "        # Find the column with the max value\n",
        "        max_col = df.loc[idx].idxmax()\n",
        "        max_col_idx = df.columns.get_loc(max_col)\n",
        "        hm.add_patch(plt.Rectangle((max_col_idx, i), 1, 1, fill=False, edgecolor='red', lw=2))\n",
        "    \n",
        "    plt.title(\"RAG Retriever Performance Comparison\")\n",
        "    plt.tight_layout()\n",
        "    return plt\n",
        "\n",
        "# Find the best performer for each metric\n",
        "best_performers = {}\n",
        "for metric in df.index:\n",
        "    # Skip if all values are NaN\n",
        "    if df.loc[metric].isna().all():\n",
        "        continue\n",
        "    best_performers[metric] = {\n",
        "        'retriever': df.loc[metric].idxmax(),\n",
        "        'value': df.loc[metric].max()\n",
        "    }\n",
        "\n",
        "# Generate visualizations\n",
        "heatmap_fig = create_heatmap(df)\n",
        "\n",
        "# Show key findings\n",
        "print(\"Key Findings:\")\n",
        "print(f\"- Ensemble achieves perfect context_recall (1.0000) and has the highest faithfulness (0.9007)\")\n",
        "print(f\"- Naive leads in factual_correctness (0.5950), just ahead of Contextual Compression (0.5908)\")\n",
        "print(f\"- Parent Document has the highest answer_relevancy (0.9651), significantly outperforming others\")\n",
        "print(f\"- Multi-Query has the best context_entity_recall (0.5740) and noise_sensitivity (0.3871)\")\n",
        "print(f\"- Parent Document has the lowest context_recall (0.5014) but highest answer_relevancy\")\n",
        "print(f\"- Missing value for noise_sensitivity in the Ensemble retriever\")\n",
        "\n",
        "# Retriever recommendations\n",
        "print(\"\\nRetriever Recommendations:\")\n",
        "print(\"- For maximum context inclusion: Ensemble (perfect recall)\")\n",
        "print(\"- For factual answers: Naive or Contextual Compression\")\n",
        "print(\"- For highly relevant answers: Parent Document\")\n",
        "print(\"- Most balanced overall: Multi-Query (strong in most categories)\")\n",
        "\n",
        "plt.show()"
      ]
    },
    {
      "cell_type": "markdown",
      "metadata": {},
      "source": [
        "### Langsmith Trace Metrics"
      ]
    },
    {
      "cell_type": "markdown",
      "metadata": {},
      "source": [
        "\n",
        "This table obtained from the Langsmith traces shows the performance metrics for different retrieval methods, including:\n",
        "- Total number of runs\n",
        "- Total tokens processed\n",
        "- Median tokens per run\n",
        "- P50 latency (median response time)\n",
        "- P99 latency (99th percentile response time)\n",
        "\n",
        "\n",
        "\n",
        "\n",
        "| Retriever | Total Runs | Total Tokens | Median Tokens | P50 Latency | P99 Latency |\n",
        "|-----------|------------|--------------|---------------|-------------|-------------|\n",
        "| Ensemble | 12 | 71,271 | 6,029 | 5.45 sec | 8.49 sec |\n",
        "| Parent Document | 12 | 9,919 | 684 | 2.48 sec | 4.78 sec |\n",
        "| Naive Retrieval | 12 | 45,197 | 3,855 | 3.01 sec | 5.00 sec |\n",
        "| BM 25 | 12 | 19,458 | 1,636 | 2.78 sec | 6.28 sec |\n",
        "| Multi-Query Retrieval | 12 | 63,345 | 5,400 | 5.68 sec | 7.86 sec |\n",
        "| Contextual Compression | 12 | 15,137 | 1,275 | 2.90 sec | 4.28 sec |\n",
        "| Semantic Retrieval | 12 | 39,358 | 3,189 | 3.77 sec | 5.82 sec |"
      ]
    },
    {
      "cell_type": "markdown",
      "metadata": {},
      "source": [
        "****Key Takeaways:****\n",
        "\n",
        "- ****💡Total Tokens Influence Latency:**** There's a general trend indicating that as the total number of tokens processed by a retriever increases, both the median (P50) and 99th percentile (P99) latency tend to increase as well.\n",
        "For example, the 'Ensemble' and 'Multi-Query Retrieval' methods, which have the highest total token counts (71,271 and 63,345 respectively), also exhibit some of the higher P50 latencies (5.45 sec and 5.68 sec) and P99 latencies (8.49 sec and 7.86 sec).\n",
        "\n",
        "- ****💡Retrieval Method Impacts Efficiency:**** Even with similar total token counts, different retrieval methods can have varying latency performances.\n",
        "For instance, 'Naive Retrieval' (45,197 total tokens) has a P50 latency of 3.01 sec and a P99 latency of 5.00 sec, while 'Semantic Retrieval' (39,358 total tokens) has a P50 latency of 3.77 sec and a P99 latency of 5.82 sec. This suggests that the underlying retrieval algorithm plays a significant role in determining latency.\n",
        "\n",
        "- ****💡Parent Document**** Method is Efficient: The 'Parent Document' retriever stands out for its efficiency, processing the fewest total tokens (9,919) and achieving the lowest P50 latency (2.48 sec) and P99 latency (4.78 sec).\n",
        "This indicates that this method is quicker and processes less data compared to the others in the dataset"
      ]
    },
    {
      "cell_type": "markdown",
      "metadata": {},
      "source": [
        "## Comprehensive Retriever Analysis: RAGAS Metrics & LangSmith Traces\n",
        "\n",
        "Based on the RAGAS metrics and LangSmith traces, here's a summary of each retriever's strengths and weaknesses:\n",
        "\n",
        "### Ensemble Retriever\n",
        "- 👍🏻 Strengths: Perfect context recall (1.0), highest faithfulness (0.9007), excellent overall performance\n",
        "- 👎🏻 Weaknesses: Missing noise sensitivity data, potentially higher computational cost\n",
        "- 👌🏻 Best for: Critical applications where comprehensive context retrieval and factual accuracy are paramount\n",
        "\n",
        "### Multi-Query Retriever\n",
        "\n",
        "- 👍🏻 Strengths: Excellent context recall (0.95), strong faithfulness (0.8978), best entity recall (0.5740)\n",
        "- 👎🏻 Weaknesses: Higher noise sensitivity (0.3871), moderate factual correctness\n",
        "- 👌🏻 Best for: Complex queries requiring multiple perspectives, especially when entity recognition is important\n",
        "\n",
        "### Naive Retriever\n",
        "\n",
        "- 👍🏻 Strengths: Leading in factual correctness (0.5950), good balance of metrics\n",
        "- 👎🏻 Weaknesses: Not exceptional in any single area besides factual correctness\n",
        "- 👌🏻 Best for: General-purpose applications where balanced performance is needed\n",
        "\n",
        "### Semantic Retriever\n",
        "\n",
        "- 👍🏻 Strengths: Strong context recall (0.8556), good faithfulness (0.8692)\n",
        "- 👎🏻 Weaknesses: Moderate factual correctness, higher noise sensitivity\n",
        "- 👌🏻Best for: Queries requiring semantic understanding rather than keyword matching\n",
        "\n",
        "### Contextual Compression Retriever\n",
        "- 👍🏻 Strengths: Strong factual correctness (0.5908), efficient context filtering\n",
        "- 👎🏻 Weaknesses: Lower answer relevancy (0.8014) compared to others\n",
        "- 👌🏻Best for: Applications where precision is more important than recall\n",
        "\n",
        "### BM25 Retriever\n",
        "- 👍🏻 Strengths: Good factual correctness (0.5550), lower noise sensitivity than some alternatives\n",
        "- 👎🏻 Weaknesses: Lower context recall (0.7625) than vector-based methods\n",
        "- 👌🏻Best for: Keyword-heavy queries, especially when computational efficiency matters\n",
        "\n",
        "### Parent Document Retriever\n",
        "- 👍🏻 Strengths: Highest answer relevancy (0.9651), good factual correctness (0.5867)\n",
        "- 👎🏻 Weaknesses: Lowest context recall (0.5014)\n",
        "- 👌🏻 Best for: Applications where highly relevant answers matter more than comprehensive context\n",
        "\n",
        "### Key Insights\n",
        "- 💡 Trade-offs are evident: No single retriever excels in all metrics, highlighting the importance of choosing based on specific needs.\n",
        "- 💡 Ensemble shows power of combination: By combining multiple retrievers, the Ensemble approach achieves the best overall performance, particularly in context recall and faithfulness.\n",
        "- 💡 Relevancy vs. Recall: Parent Document Retriever demonstrates that high answer relevancy can be achieved even with lower context recall.\n",
        "- 💡Computational considerations: While not directly measured in RAGAS, LangSmith traces suggest varying computational demands across retrievers.\n",
        "\n",
        "### Recommendations\n",
        "- ✅ For maximum accuracy: Use Ensemble Retriever when computational resources allow \n",
        "- ✅ For balanced performance: Multi-Query or Naive Retrievers offer good all-around capabilities\n",
        "- ✅ For efficiency with good results: BM25 provides solid performance with lower computational needs\n",
        "- ✅For highly relevant answers: Parent Document Retriever when answer quality matters more than comprehensive context\n",
        "\n",
        "This analysis demonstrates the importance of evaluating retrievers across multiple dimensions and selecting the right approach based on our specific application requirements."
      ]
    }
  ],
  "metadata": {
    "colab": {
      "provenance": [],
      "toc_visible": true
    },
    "kernelspec": {
      "display_name": ".venv",
      "language": "python",
      "name": "python3"
    },
    "language_info": {
      "codemirror_mode": {
        "name": "ipython",
        "version": 3
      },
      "file_extension": ".py",
      "mimetype": "text/x-python",
      "name": "python",
      "nbconvert_exporter": "python",
      "pygments_lexer": "ipython3",
      "version": "3.13.2"
    }
  },
  "nbformat": 4,
  "nbformat_minor": 0
}
